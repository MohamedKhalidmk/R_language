{
  "nbformat": 4,
  "nbformat_minor": 0,
  "metadata": {
    "kernelspec": {
      "display_name": "R",
      "language": "R",
      "name": "ir"
    },
    "language_info": {
      "codemirror_mode": "r",
      "file_extension": ".r",
      "mimetype": "text/x-r-source",
      "name": "R",
      "pygments_lexer": "r",
      "version": "3.6.3"
    },
    "colab": {
      "name": "Lec 2.ipynb",
      "provenance": [],
      "collapsed_sections": []
    }
  },
  "cells": [
    {
      "cell_type": "markdown",
      "metadata": {
        "id": "uaCfR75WtqSL"
      },
      "source": [
        "#Data and programming"
      ]
    },
    {
      "cell_type": "markdown",
      "metadata": {
        "id": "epP54ZwEt3L1"
      },
      "source": [
        "![image.png](data:image/png;base64,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)"
      ]
    },
    {
      "cell_type": "markdown",
      "metadata": {
        "id": "8htUOgycE2jw"
      },
      "source": [
        "#Data Types"
      ]
    },
    {
      "cell_type": "markdown",
      "metadata": {
        "id": "T_TDcvldE8_n"
      },
      "source": [
        "**Vectors**"
      ]
    },
    {
      "cell_type": "code",
      "metadata": {
        "colab": {
          "base_uri": "https://localhost:8080/",
          "height": 34
        },
        "id": "b-ptrcThEivw",
        "outputId": "6d25653f-2d9f-4ba3-cb11-d0f5a09e354e"
      },
      "source": [
        "c(1,3,5,7)"
      ],
      "execution_count": 1,
      "outputs": [
        {
          "output_type": "display_data",
          "data": {
            "text/plain": [
              "[1] 1 3 5 7"
            ],
            "text/latex": "\\begin{enumerate*}\n\\item 1\n\\item 3\n\\item 5\n\\item 7\n\\end{enumerate*}\n",
            "text/markdown": "1. 1\n2. 3\n3. 5\n4. 7\n\n\n",
            "text/html": [
              "<style>\n",
              ".list-inline {list-style: none; margin:0; padding: 0}\n",
              ".list-inline>li {display: inline-block}\n",
              ".list-inline>li:not(:last-child)::after {content: \"\\00b7\"; padding: 0 .5ex}\n",
              "</style>\n",
              "<ol class=list-inline><li>1</li><li>3</li><li>5</li><li>7</li></ol>\n"
            ]
          },
          "metadata": {}
        }
      ]
    },
    {
      "cell_type": "code",
      "metadata": {
        "id": "Rxihz7l9FCws"
      },
      "source": [
        "x=c(1,3,5,7)"
      ],
      "execution_count": 2,
      "outputs": []
    },
    {
      "cell_type": "code",
      "metadata": {
        "colab": {
          "base_uri": "https://localhost:8080/",
          "height": 34
        },
        "id": "TrDPNQgnFL07",
        "outputId": "15b32439-dd7b-4544-91cc-c09e4a945009"
      },
      "source": [
        "c(42,'stat',TRUE)"
      ],
      "execution_count": 3,
      "outputs": [
        {
          "output_type": "display_data",
          "data": {
            "text/plain": [
              "[1] \"42\"   \"stat\" \"TRUE\""
            ],
            "text/latex": "\\begin{enumerate*}\n\\item '42'\n\\item 'stat'\n\\item 'TRUE'\n\\end{enumerate*}\n",
            "text/markdown": "1. '42'\n2. 'stat'\n3. 'TRUE'\n\n\n",
            "text/html": [
              "<style>\n",
              ".list-inline {list-style: none; margin:0; padding: 0}\n",
              ".list-inline>li {display: inline-block}\n",
              ".list-inline>li:not(:last-child)::after {content: \"\\00b7\"; padding: 0 .5ex}\n",
              "</style>\n",
              "<ol class=list-inline><li>'42'</li><li>'stat'</li><li>'TRUE'</li></ol>\n"
            ]
          },
          "metadata": {}
        }
      ]
    },
    {
      "cell_type": "code",
      "metadata": {
        "colab": {
          "base_uri": "https://localhost:8080/",
          "height": 51
        },
        "id": "edIJfnO1Fm2Z",
        "outputId": "a498a90f-2b94-4204-ebf6-d9915711ecb3"
      },
      "source": [
        "c(1:100)"
      ],
      "execution_count": 4,
      "outputs": [
        {
          "output_type": "display_data",
          "data": {
            "text/plain": [
              "  [1]   1   2   3   4   5   6   7   8   9  10  11  12  13  14  15  16  17  18\n",
              " [19]  19  20  21  22  23  24  25  26  27  28  29  30  31  32  33  34  35  36\n",
              " [37]  37  38  39  40  41  42  43  44  45  46  47  48  49  50  51  52  53  54\n",
              " [55]  55  56  57  58  59  60  61  62  63  64  65  66  67  68  69  70  71  72\n",
              " [73]  73  74  75  76  77  78  79  80  81  82  83  84  85  86  87  88  89  90\n",
              " [91]  91  92  93  94  95  96  97  98  99 100"
            ],
            "text/latex": "\\begin{enumerate*}\n\\item 1\n\\item 2\n\\item 3\n\\item 4\n\\item 5\n\\item 6\n\\item 7\n\\item 8\n\\item 9\n\\item 10\n\\item 11\n\\item 12\n\\item 13\n\\item 14\n\\item 15\n\\item 16\n\\item 17\n\\item 18\n\\item 19\n\\item 20\n\\item 21\n\\item 22\n\\item 23\n\\item 24\n\\item 25\n\\item 26\n\\item 27\n\\item 28\n\\item 29\n\\item 30\n\\item 31\n\\item 32\n\\item 33\n\\item 34\n\\item 35\n\\item 36\n\\item 37\n\\item 38\n\\item 39\n\\item 40\n\\item 41\n\\item 42\n\\item 43\n\\item 44\n\\item 45\n\\item 46\n\\item 47\n\\item 48\n\\item 49\n\\item 50\n\\item 51\n\\item 52\n\\item 53\n\\item 54\n\\item 55\n\\item 56\n\\item 57\n\\item 58\n\\item 59\n\\item 60\n\\item 61\n\\item 62\n\\item 63\n\\item 64\n\\item 65\n\\item 66\n\\item 67\n\\item 68\n\\item 69\n\\item 70\n\\item 71\n\\item 72\n\\item 73\n\\item 74\n\\item 75\n\\item 76\n\\item 77\n\\item 78\n\\item 79\n\\item 80\n\\item 81\n\\item 82\n\\item 83\n\\item 84\n\\item 85\n\\item 86\n\\item 87\n\\item 88\n\\item 89\n\\item 90\n\\item 91\n\\item 92\n\\item 93\n\\item 94\n\\item 95\n\\item 96\n\\item 97\n\\item 98\n\\item 99\n\\item 100\n\\end{enumerate*}\n",
            "text/markdown": "1. 1\n2. 2\n3. 3\n4. 4\n5. 5\n6. 6\n7. 7\n8. 8\n9. 9\n10. 10\n11. 11\n12. 12\n13. 13\n14. 14\n15. 15\n16. 16\n17. 17\n18. 18\n19. 19\n20. 20\n21. 21\n22. 22\n23. 23\n24. 24\n25. 25\n26. 26\n27. 27\n28. 28\n29. 29\n30. 30\n31. 31\n32. 32\n33. 33\n34. 34\n35. 35\n36. 36\n37. 37\n38. 38\n39. 39\n40. 40\n41. 41\n42. 42\n43. 43\n44. 44\n45. 45\n46. 46\n47. 47\n48. 48\n49. 49\n50. 50\n51. 51\n52. 52\n53. 53\n54. 54\n55. 55\n56. 56\n57. 57\n58. 58\n59. 59\n60. 60\n61. 61\n62. 62\n63. 63\n64. 64\n65. 65\n66. 66\n67. 67\n68. 68\n69. 69\n70. 70\n71. 71\n72. 72\n73. 73\n74. 74\n75. 75\n76. 76\n77. 77\n78. 78\n79. 79\n80. 80\n81. 81\n82. 82\n83. 83\n84. 84\n85. 85\n86. 86\n87. 87\n88. 88\n89. 89\n90. 90\n91. 91\n92. 92\n93. 93\n94. 94\n95. 95\n96. 96\n97. 97\n98. 98\n99. 99\n100. 100\n\n\n",
            "text/html": [
              "<style>\n",
              ".list-inline {list-style: none; margin:0; padding: 0}\n",
              ".list-inline>li {display: inline-block}\n",
              ".list-inline>li:not(:last-child)::after {content: \"\\00b7\"; padding: 0 .5ex}\n",
              "</style>\n",
              "<ol class=list-inline><li>1</li><li>2</li><li>3</li><li>4</li><li>5</li><li>6</li><li>7</li><li>8</li><li>9</li><li>10</li><li>11</li><li>12</li><li>13</li><li>14</li><li>15</li><li>16</li><li>17</li><li>18</li><li>19</li><li>20</li><li>21</li><li>22</li><li>23</li><li>24</li><li>25</li><li>26</li><li>27</li><li>28</li><li>29</li><li>30</li><li>31</li><li>32</li><li>33</li><li>34</li><li>35</li><li>36</li><li>37</li><li>38</li><li>39</li><li>40</li><li>41</li><li>42</li><li>43</li><li>44</li><li>45</li><li>46</li><li>47</li><li>48</li><li>49</li><li>50</li><li>51</li><li>52</li><li>53</li><li>54</li><li>55</li><li>56</li><li>57</li><li>58</li><li>59</li><li>60</li><li>61</li><li>62</li><li>63</li><li>64</li><li>65</li><li>66</li><li>67</li><li>68</li><li>69</li><li>70</li><li>71</li><li>72</li><li>73</li><li>74</li><li>75</li><li>76</li><li>77</li><li>78</li><li>79</li><li>80</li><li>81</li><li>82</li><li>83</li><li>84</li><li>85</li><li>86</li><li>87</li><li>88</li><li>89</li><li>90</li><li>91</li><li>92</li><li>93</li><li>94</li><li>95</li><li>96</li><li>97</li><li>98</li><li>99</li><li>100</li></ol>\n"
            ]
          },
          "metadata": {}
        }
      ]
    },
    {
      "cell_type": "code",
      "metadata": {
        "id": "lDnThZ_iF1Ia"
      },
      "source": [
        "(y=1:100)"
      ],
      "execution_count": null,
      "outputs": []
    },
    {
      "cell_type": "code",
      "metadata": {
        "colab": {
          "base_uri": "https://localhost:8080/",
          "height": 34
        },
        "id": "wvAxyQd6F5Mh",
        "outputId": "0e965557-4837-4481-89a4-fc2407cb0711"
      },
      "source": [
        "seq(from=1.2,to=4.5,by=0.1)"
      ],
      "execution_count": 5,
      "outputs": [
        {
          "output_type": "display_data",
          "data": {
            "text/plain": [
              " [1] 1.2 1.3 1.4 1.5 1.6 1.7 1.8 1.9 2.0 2.1 2.2 2.3 2.4 2.5 2.6 2.7 2.8 2.9 3.0\n",
              "[20] 3.1 3.2 3.3 3.4 3.5 3.6 3.7 3.8 3.9 4.0 4.1 4.2 4.3 4.4 4.5"
            ],
            "text/latex": "\\begin{enumerate*}\n\\item 1.2\n\\item 1.3\n\\item 1.4\n\\item 1.5\n\\item 1.6\n\\item 1.7\n\\item 1.8\n\\item 1.9\n\\item 2\n\\item 2.1\n\\item 2.2\n\\item 2.3\n\\item 2.4\n\\item 2.5\n\\item 2.6\n\\item 2.7\n\\item 2.8\n\\item 2.9\n\\item 3\n\\item 3.1\n\\item 3.2\n\\item 3.3\n\\item 3.4\n\\item 3.5\n\\item 3.6\n\\item 3.7\n\\item 3.8\n\\item 3.9\n\\item 4\n\\item 4.1\n\\item 4.2\n\\item 4.3\n\\item 4.4\n\\item 4.5\n\\end{enumerate*}\n",
            "text/markdown": "1. 1.2\n2. 1.3\n3. 1.4\n4. 1.5\n5. 1.6\n6. 1.7\n7. 1.8\n8. 1.9\n9. 2\n10. 2.1\n11. 2.2\n12. 2.3\n13. 2.4\n14. 2.5\n15. 2.6\n16. 2.7\n17. 2.8\n18. 2.9\n19. 3\n20. 3.1\n21. 3.2\n22. 3.3\n23. 3.4\n24. 3.5\n25. 3.6\n26. 3.7\n27. 3.8\n28. 3.9\n29. 4\n30. 4.1\n31. 4.2\n32. 4.3\n33. 4.4\n34. 4.5\n\n\n",
            "text/html": [
              "<style>\n",
              ".list-inline {list-style: none; margin:0; padding: 0}\n",
              ".list-inline>li {display: inline-block}\n",
              ".list-inline>li:not(:last-child)::after {content: \"\\00b7\"; padding: 0 .5ex}\n",
              "</style>\n",
              "<ol class=list-inline><li>1.2</li><li>1.3</li><li>1.4</li><li>1.5</li><li>1.6</li><li>1.7</li><li>1.8</li><li>1.9</li><li>2</li><li>2.1</li><li>2.2</li><li>2.3</li><li>2.4</li><li>2.5</li><li>2.6</li><li>2.7</li><li>2.8</li><li>2.9</li><li>3</li><li>3.1</li><li>3.2</li><li>3.3</li><li>3.4</li><li>3.5</li><li>3.6</li><li>3.7</li><li>3.8</li><li>3.9</li><li>4</li><li>4.1</li><li>4.2</li><li>4.3</li><li>4.4</li><li>4.5</li></ol>\n"
            ]
          },
          "metadata": {}
        }
      ]
    },
    {
      "cell_type": "code",
      "metadata": {
        "colab": {
          "base_uri": "https://localhost:8080/",
          "height": 34
        },
        "id": "iMPy0WafGELf",
        "outputId": "ea789469-f56c-4c16-fd1a-239047501cbc"
      },
      "source": [
        "seq(1.2,4.5,0.1)"
      ],
      "execution_count": 6,
      "outputs": [
        {
          "output_type": "display_data",
          "data": {
            "text/plain": [
              " [1] 1.2 1.3 1.4 1.5 1.6 1.7 1.8 1.9 2.0 2.1 2.2 2.3 2.4 2.5 2.6 2.7 2.8 2.9 3.0\n",
              "[20] 3.1 3.2 3.3 3.4 3.5 3.6 3.7 3.8 3.9 4.0 4.1 4.2 4.3 4.4 4.5"
            ],
            "text/latex": "\\begin{enumerate*}\n\\item 1.2\n\\item 1.3\n\\item 1.4\n\\item 1.5\n\\item 1.6\n\\item 1.7\n\\item 1.8\n\\item 1.9\n\\item 2\n\\item 2.1\n\\item 2.2\n\\item 2.3\n\\item 2.4\n\\item 2.5\n\\item 2.6\n\\item 2.7\n\\item 2.8\n\\item 2.9\n\\item 3\n\\item 3.1\n\\item 3.2\n\\item 3.3\n\\item 3.4\n\\item 3.5\n\\item 3.6\n\\item 3.7\n\\item 3.8\n\\item 3.9\n\\item 4\n\\item 4.1\n\\item 4.2\n\\item 4.3\n\\item 4.4\n\\item 4.5\n\\end{enumerate*}\n",
            "text/markdown": "1. 1.2\n2. 1.3\n3. 1.4\n4. 1.5\n5. 1.6\n6. 1.7\n7. 1.8\n8. 1.9\n9. 2\n10. 2.1\n11. 2.2\n12. 2.3\n13. 2.4\n14. 2.5\n15. 2.6\n16. 2.7\n17. 2.8\n18. 2.9\n19. 3\n20. 3.1\n21. 3.2\n22. 3.3\n23. 3.4\n24. 3.5\n25. 3.6\n26. 3.7\n27. 3.8\n28. 3.9\n29. 4\n30. 4.1\n31. 4.2\n32. 4.3\n33. 4.4\n34. 4.5\n\n\n",
            "text/html": [
              "<style>\n",
              ".list-inline {list-style: none; margin:0; padding: 0}\n",
              ".list-inline>li {display: inline-block}\n",
              ".list-inline>li:not(:last-child)::after {content: \"\\00b7\"; padding: 0 .5ex}\n",
              "</style>\n",
              "<ol class=list-inline><li>1.2</li><li>1.3</li><li>1.4</li><li>1.5</li><li>1.6</li><li>1.7</li><li>1.8</li><li>1.9</li><li>2</li><li>2.1</li><li>2.2</li><li>2.3</li><li>2.4</li><li>2.5</li><li>2.6</li><li>2.7</li><li>2.8</li><li>2.9</li><li>3</li><li>3.1</li><li>3.2</li><li>3.3</li><li>3.4</li><li>3.5</li><li>3.6</li><li>3.7</li><li>3.8</li><li>3.9</li><li>4</li><li>4.1</li><li>4.2</li><li>4.3</li><li>4.4</li><li>4.5</li></ol>\n"
            ]
          },
          "metadata": {}
        }
      ]
    },
    {
      "cell_type": "code",
      "metadata": {
        "colab": {
          "base_uri": "https://localhost:8080/",
          "height": 34
        },
        "id": "za2PkhhBGTf7",
        "outputId": "ef30bb24-c025-4149-fa7c-4648681b28c8"
      },
      "source": [
        "rep(\"A\",times=10)"
      ],
      "execution_count": 7,
      "outputs": [
        {
          "output_type": "display_data",
          "data": {
            "text/plain": [
              " [1] \"A\" \"A\" \"A\" \"A\" \"A\" \"A\" \"A\" \"A\" \"A\" \"A\""
            ],
            "text/latex": "\\begin{enumerate*}\n\\item 'A'\n\\item 'A'\n\\item 'A'\n\\item 'A'\n\\item 'A'\n\\item 'A'\n\\item 'A'\n\\item 'A'\n\\item 'A'\n\\item 'A'\n\\end{enumerate*}\n",
            "text/markdown": "1. 'A'\n2. 'A'\n3. 'A'\n4. 'A'\n5. 'A'\n6. 'A'\n7. 'A'\n8. 'A'\n9. 'A'\n10. 'A'\n\n\n",
            "text/html": [
              "<style>\n",
              ".list-inline {list-style: none; margin:0; padding: 0}\n",
              ".list-inline>li {display: inline-block}\n",
              ".list-inline>li:not(:last-child)::after {content: \"\\00b7\"; padding: 0 .5ex}\n",
              "</style>\n",
              "<ol class=list-inline><li>'A'</li><li>'A'</li><li>'A'</li><li>'A'</li><li>'A'</li><li>'A'</li><li>'A'</li><li>'A'</li><li>'A'</li><li>'A'</li></ol>\n"
            ]
          },
          "metadata": {}
        }
      ]
    },
    {
      "cell_type": "code",
      "metadata": {
        "id": "z--rG8aGHATd"
      },
      "source": [
        "rep(x,times=3)"
      ],
      "execution_count": null,
      "outputs": []
    },
    {
      "cell_type": "code",
      "metadata": {
        "colab": {
          "base_uri": "https://localhost:8080/",
          "height": 34
        },
        "id": "BsG_hlZlHctz",
        "outputId": "3730d30e-7cb5-4309-8700-a7a8b11e74f8"
      },
      "source": [
        "c(x, rep(seq(from=1,to=4,by=1),times=2), c(1:5))"
      ],
      "execution_count": 10,
      "outputs": [
        {
          "output_type": "display_data",
          "data": {
            "text/plain": [
              " [1] 1 3 5 7 1 2 3 4 1 2 3 4 1 2 3 4 5"
            ],
            "text/latex": "\\begin{enumerate*}\n\\item 1\n\\item 3\n\\item 5\n\\item 7\n\\item 1\n\\item 2\n\\item 3\n\\item 4\n\\item 1\n\\item 2\n\\item 3\n\\item 4\n\\item 1\n\\item 2\n\\item 3\n\\item 4\n\\item 5\n\\end{enumerate*}\n",
            "text/markdown": "1. 1\n2. 3\n3. 5\n4. 7\n5. 1\n6. 2\n7. 3\n8. 4\n9. 1\n10. 2\n11. 3\n12. 4\n13. 1\n14. 2\n15. 3\n16. 4\n17. 5\n\n\n",
            "text/html": [
              "<style>\n",
              ".list-inline {list-style: none; margin:0; padding: 0}\n",
              ".list-inline>li {display: inline-block}\n",
              ".list-inline>li:not(:last-child)::after {content: \"\\00b7\"; padding: 0 .5ex}\n",
              "</style>\n",
              "<ol class=list-inline><li>1</li><li>3</li><li>5</li><li>7</li><li>1</li><li>2</li><li>3</li><li>4</li><li>1</li><li>2</li><li>3</li><li>4</li><li>1</li><li>2</li><li>3</li><li>4</li><li>5</li></ol>\n"
            ]
          },
          "metadata": {}
        }
      ]
    },
    {
      "cell_type": "code",
      "metadata": {
        "colab": {
          "base_uri": "https://localhost:8080/",
          "height": 34
        },
        "id": "KKk0LuOCIGe1",
        "outputId": "210c0970-fa27-4777-e668-aab9145c9e64"
      },
      "source": [
        "length(x)"
      ],
      "execution_count": 11,
      "outputs": [
        {
          "output_type": "display_data",
          "data": {
            "text/plain": [
              "[1] 4"
            ],
            "text/latex": "4",
            "text/markdown": "4",
            "text/html": [
              "4"
            ]
          },
          "metadata": {}
        }
      ]
    },
    {
      "cell_type": "markdown",
      "metadata": {
        "id": "cUjT5tu_IPc8"
      },
      "source": [
        "**subsetting**"
      ]
    },
    {
      "cell_type": "code",
      "metadata": {
        "colab": {
          "base_uri": "https://localhost:8080/",
          "height": 34
        },
        "id": "x23Hxv5NIZ9N",
        "outputId": "b5f2467f-71dd-49a2-d1ef-f4e6928a8ee7"
      },
      "source": [
        "x"
      ],
      "execution_count": 14,
      "outputs": [
        {
          "output_type": "display_data",
          "data": {
            "text/plain": [
              "[1] 1 3 5 7"
            ],
            "text/latex": "\\begin{enumerate*}\n\\item 1\n\\item 3\n\\item 5\n\\item 7\n\\end{enumerate*}\n",
            "text/markdown": "1. 1\n2. 3\n3. 5\n4. 7\n\n\n",
            "text/html": [
              "<style>\n",
              ".list-inline {list-style: none; margin:0; padding: 0}\n",
              ".list-inline>li {display: inline-block}\n",
              ".list-inline>li:not(:last-child)::after {content: \"\\00b7\"; padding: 0 .5ex}\n",
              "</style>\n",
              "<ol class=list-inline><li>1</li><li>3</li><li>5</li><li>7</li></ol>\n"
            ]
          },
          "metadata": {}
        }
      ]
    },
    {
      "cell_type": "code",
      "metadata": {
        "colab": {
          "base_uri": "https://localhost:8080/",
          "height": 34
        },
        "id": "fM0O2ASkIUHj",
        "outputId": "888ff402-7f17-4109-da09-7701ac90ef2e"
      },
      "source": [
        "x[1]"
      ],
      "execution_count": 12,
      "outputs": [
        {
          "output_type": "display_data",
          "data": {
            "text/plain": [
              "[1] 1"
            ],
            "text/latex": "1",
            "text/markdown": "1",
            "text/html": [
              "1"
            ]
          },
          "metadata": {}
        }
      ]
    },
    {
      "cell_type": "code",
      "metadata": {
        "colab": {
          "base_uri": "https://localhost:8080/",
          "height": 34
        },
        "id": "xdJv3-6bIX1b",
        "outputId": "0176ea66-9007-4e3f-bc11-c8a49bf92c4c"
      },
      "source": [
        "x[-2]"
      ],
      "execution_count": 13,
      "outputs": [
        {
          "output_type": "display_data",
          "data": {
            "text/plain": [
              "[1] 1 5 7"
            ],
            "text/latex": "\\begin{enumerate*}\n\\item 1\n\\item 5\n\\item 7\n\\end{enumerate*}\n",
            "text/markdown": "1. 1\n2. 5\n3. 7\n\n\n",
            "text/html": [
              "<style>\n",
              ".list-inline {list-style: none; margin:0; padding: 0}\n",
              ".list-inline>li {display: inline-block}\n",
              ".list-inline>li:not(:last-child)::after {content: \"\\00b7\"; padding: 0 .5ex}\n",
              "</style>\n",
              "<ol class=list-inline><li>1</li><li>5</li><li>7</li></ol>\n"
            ]
          },
          "metadata": {}
        }
      ]
    },
    {
      "cell_type": "code",
      "metadata": {
        "colab": {
          "base_uri": "https://localhost:8080/",
          "height": 34
        },
        "id": "ZllxLNWkIdjN",
        "outputId": "3c4bf19d-3d06-4a2d-c0e9-b4625b0372e7"
      },
      "source": [
        "x[c(1,3)]"
      ],
      "execution_count": 15,
      "outputs": [
        {
          "output_type": "display_data",
          "data": {
            "text/plain": [
              "[1] 1 5"
            ],
            "text/latex": "\\begin{enumerate*}\n\\item 1\n\\item 5\n\\end{enumerate*}\n",
            "text/markdown": "1. 1\n2. 5\n\n\n",
            "text/html": [
              "<style>\n",
              ".list-inline {list-style: none; margin:0; padding: 0}\n",
              ".list-inline>li {display: inline-block}\n",
              ".list-inline>li:not(:last-child)::after {content: \"\\00b7\"; padding: 0 .5ex}\n",
              "</style>\n",
              "<ol class=list-inline><li>1</li><li>5</li></ol>\n"
            ]
          },
          "metadata": {}
        }
      ]
    },
    {
      "cell_type": "markdown",
      "metadata": {
        "id": "KNDQc-EXI6jw"
      },
      "source": [
        "#Data structure"
      ]
    },
    {
      "cell_type": "code",
      "metadata": {
        "id": "R2_hiC2QIxQI"
      },
      "source": [
        "z=c(TRUE, TRUE, FALSE, FALSE)"
      ],
      "execution_count": 19,
      "outputs": []
    },
    {
      "cell_type": "code",
      "metadata": {
        "colab": {
          "base_uri": "https://localhost:8080/",
          "height": 34
        },
        "id": "1EofPZTkJAA5",
        "outputId": "06ce8da5-ead5-4eaa-e4b9-0b8dd676ec92"
      },
      "source": [
        "x[z]"
      ],
      "execution_count": 20,
      "outputs": [
        {
          "output_type": "display_data",
          "data": {
            "text/plain": [
              "[1] 1 3"
            ],
            "text/latex": "\\begin{enumerate*}\n\\item 1\n\\item 3\n\\end{enumerate*}\n",
            "text/markdown": "1. 1\n2. 3\n\n\n",
            "text/html": [
              "<style>\n",
              ".list-inline {list-style: none; margin:0; padding: 0}\n",
              ".list-inline>li {display: inline-block}\n",
              ".list-inline>li:not(:last-child)::after {content: \"\\00b7\"; padding: 0 .5ex}\n",
              "</style>\n",
              "<ol class=list-inline><li>1</li><li>3</li></ol>\n"
            ]
          },
          "metadata": {}
        }
      ]
    },
    {
      "cell_type": "markdown",
      "metadata": {
        "id": "3cLn4U8jtBgt"
      },
      "source": [
        "# Vectorization"
      ]
    },
    {
      "cell_type": "code",
      "metadata": {
        "colab": {
          "base_uri": "https://localhost:8080/",
          "height": 102
        },
        "id": "he867hAdtBgz",
        "outputId": "5695ca1c-8ba9-496b-fb5a-5f6b2e485e19"
      },
      "source": [
        "#Vectorization\n",
        "x = 1:10\n",
        "x + 1\n",
        "2 * x\n",
        "2 ^ x\n",
        "sqrt(x)\n",
        "log(x)"
      ],
      "execution_count": 1,
      "outputs": [
        {
          "output_type": "display_data",
          "data": {
            "text/plain": [
              " [1]  2  3  4  5  6  7  8  9 10 11"
            ],
            "text/latex": "\\begin{enumerate*}\n\\item 2\n\\item 3\n\\item 4\n\\item 5\n\\item 6\n\\item 7\n\\item 8\n\\item 9\n\\item 10\n\\item 11\n\\end{enumerate*}\n",
            "text/markdown": "1. 2\n2. 3\n3. 4\n4. 5\n5. 6\n6. 7\n7. 8\n8. 9\n9. 10\n10. 11\n\n\n",
            "text/html": [
              "<style>\n",
              ".list-inline {list-style: none; margin:0; padding: 0}\n",
              ".list-inline>li {display: inline-block}\n",
              ".list-inline>li:not(:last-child)::after {content: \"\\00b7\"; padding: 0 .5ex}\n",
              "</style>\n",
              "<ol class=list-inline><li>2</li><li>3</li><li>4</li><li>5</li><li>6</li><li>7</li><li>8</li><li>9</li><li>10</li><li>11</li></ol>\n"
            ]
          },
          "metadata": {}
        },
        {
          "output_type": "display_data",
          "data": {
            "text/plain": [
              " [1]  2  4  6  8 10 12 14 16 18 20"
            ],
            "text/latex": "\\begin{enumerate*}\n\\item 2\n\\item 4\n\\item 6\n\\item 8\n\\item 10\n\\item 12\n\\item 14\n\\item 16\n\\item 18\n\\item 20\n\\end{enumerate*}\n",
            "text/markdown": "1. 2\n2. 4\n3. 6\n4. 8\n5. 10\n6. 12\n7. 14\n8. 16\n9. 18\n10. 20\n\n\n",
            "text/html": [
              "<style>\n",
              ".list-inline {list-style: none; margin:0; padding: 0}\n",
              ".list-inline>li {display: inline-block}\n",
              ".list-inline>li:not(:last-child)::after {content: \"\\00b7\"; padding: 0 .5ex}\n",
              "</style>\n",
              "<ol class=list-inline><li>2</li><li>4</li><li>6</li><li>8</li><li>10</li><li>12</li><li>14</li><li>16</li><li>18</li><li>20</li></ol>\n"
            ]
          },
          "metadata": {}
        },
        {
          "output_type": "display_data",
          "data": {
            "text/plain": [
              " [1]    2    4    8   16   32   64  128  256  512 1024"
            ],
            "text/latex": "\\begin{enumerate*}\n\\item 2\n\\item 4\n\\item 8\n\\item 16\n\\item 32\n\\item 64\n\\item 128\n\\item 256\n\\item 512\n\\item 1024\n\\end{enumerate*}\n",
            "text/markdown": "1. 2\n2. 4\n3. 8\n4. 16\n5. 32\n6. 64\n7. 128\n8. 256\n9. 512\n10. 1024\n\n\n",
            "text/html": [
              "<style>\n",
              ".list-inline {list-style: none; margin:0; padding: 0}\n",
              ".list-inline>li {display: inline-block}\n",
              ".list-inline>li:not(:last-child)::after {content: \"\\00b7\"; padding: 0 .5ex}\n",
              "</style>\n",
              "<ol class=list-inline><li>2</li><li>4</li><li>8</li><li>16</li><li>32</li><li>64</li><li>128</li><li>256</li><li>512</li><li>1024</li></ol>\n"
            ]
          },
          "metadata": {}
        },
        {
          "output_type": "display_data",
          "data": {
            "text/plain": [
              " [1] 1.000000 1.414214 1.732051 2.000000 2.236068 2.449490 2.645751 2.828427\n",
              " [9] 3.000000 3.162278"
            ],
            "text/latex": "\\begin{enumerate*}\n\\item 1\n\\item 1.4142135623731\n\\item 1.73205080756888\n\\item 2\n\\item 2.23606797749979\n\\item 2.44948974278318\n\\item 2.64575131106459\n\\item 2.82842712474619\n\\item 3\n\\item 3.16227766016838\n\\end{enumerate*}\n",
            "text/markdown": "1. 1\n2. 1.4142135623731\n3. 1.73205080756888\n4. 2\n5. 2.23606797749979\n6. 2.44948974278318\n7. 2.64575131106459\n8. 2.82842712474619\n9. 3\n10. 3.16227766016838\n\n\n",
            "text/html": [
              "<style>\n",
              ".list-inline {list-style: none; margin:0; padding: 0}\n",
              ".list-inline>li {display: inline-block}\n",
              ".list-inline>li:not(:last-child)::after {content: \"\\00b7\"; padding: 0 .5ex}\n",
              "</style>\n",
              "<ol class=list-inline><li>1</li><li>1.4142135623731</li><li>1.73205080756888</li><li>2</li><li>2.23606797749979</li><li>2.44948974278318</li><li>2.64575131106459</li><li>2.82842712474619</li><li>3</li><li>3.16227766016838</li></ol>\n"
            ]
          },
          "metadata": {}
        },
        {
          "output_type": "display_data",
          "data": {
            "text/plain": [
              " [1] 0.0000000 0.6931472 1.0986123 1.3862944 1.6094379 1.7917595 1.9459101\n",
              " [8] 2.0794415 2.1972246 2.3025851"
            ],
            "text/latex": "\\begin{enumerate*}\n\\item 0\n\\item 0.693147180559945\n\\item 1.09861228866811\n\\item 1.38629436111989\n\\item 1.6094379124341\n\\item 1.79175946922805\n\\item 1.94591014905531\n\\item 2.07944154167984\n\\item 2.19722457733622\n\\item 2.30258509299405\n\\end{enumerate*}\n",
            "text/markdown": "1. 0\n2. 0.693147180559945\n3. 1.09861228866811\n4. 1.38629436111989\n5. 1.6094379124341\n6. 1.79175946922805\n7. 1.94591014905531\n8. 2.07944154167984\n9. 2.19722457733622\n10. 2.30258509299405\n\n\n",
            "text/html": [
              "<style>\n",
              ".list-inline {list-style: none; margin:0; padding: 0}\n",
              ".list-inline>li {display: inline-block}\n",
              ".list-inline>li:not(:last-child)::after {content: \"\\00b7\"; padding: 0 .5ex}\n",
              "</style>\n",
              "<ol class=list-inline><li>0</li><li>0.693147180559945</li><li>1.09861228866811</li><li>1.38629436111989</li><li>1.6094379124341</li><li>1.79175946922805</li><li>1.94591014905531</li><li>2.07944154167984</li><li>2.19722457733622</li><li>2.30258509299405</li></ol>\n"
            ]
          },
          "metadata": {}
        }
      ]
    },
    {
      "cell_type": "markdown",
      "metadata": {
        "id": "BoQsl-VTtBg2"
      },
      "source": [
        "# logical operator"
      ]
    },
    {
      "cell_type": "code",
      "metadata": {
        "colab": {
          "base_uri": "https://localhost:8080/",
          "height": 187
        },
        "id": "rYxciaUWtBg3",
        "outputId": "cf62de75-372d-4c60-d452-45364460d78c"
      },
      "source": [
        "#Logical Operators\n",
        "x = c(1, 3, 5, 7, 8, 9)\n",
        "x > 3\n",
        "\n",
        "x == 3 & x != 3\n",
        "\n",
        "x == 3 | x != 3\n",
        "\n",
        "x[x > 3]\n",
        "\n",
        "x[x != 3]\n",
        "\n",
        "sum(x > 3)# sum of 1's\n",
        "\n",
        "as.numeric(x > 3)#logical to numeric where TRUE is 1 and FALSE is 0\n",
        "\n",
        "which(x > 3)\n",
        " \n",
        "x[which(x > 3)]\n",
        " \n",
        "max(x)"
      ],
      "execution_count": 3,
      "outputs": [
        {
          "output_type": "display_data",
          "data": {
            "text/plain": [
              "[1] FALSE FALSE  TRUE  TRUE  TRUE  TRUE"
            ],
            "text/latex": "\\begin{enumerate*}\n\\item FALSE\n\\item FALSE\n\\item TRUE\n\\item TRUE\n\\item TRUE\n\\item TRUE\n\\end{enumerate*}\n",
            "text/markdown": "1. FALSE\n2. FALSE\n3. TRUE\n4. TRUE\n5. TRUE\n6. TRUE\n\n\n",
            "text/html": [
              "<style>\n",
              ".list-inline {list-style: none; margin:0; padding: 0}\n",
              ".list-inline>li {display: inline-block}\n",
              ".list-inline>li:not(:last-child)::after {content: \"\\00b7\"; padding: 0 .5ex}\n",
              "</style>\n",
              "<ol class=list-inline><li>FALSE</li><li>FALSE</li><li>TRUE</li><li>TRUE</li><li>TRUE</li><li>TRUE</li></ol>\n"
            ]
          },
          "metadata": {}
        },
        {
          "output_type": "display_data",
          "data": {
            "text/plain": [
              "[1] FALSE FALSE FALSE FALSE FALSE FALSE"
            ],
            "text/latex": "\\begin{enumerate*}\n\\item FALSE\n\\item FALSE\n\\item FALSE\n\\item FALSE\n\\item FALSE\n\\item FALSE\n\\end{enumerate*}\n",
            "text/markdown": "1. FALSE\n2. FALSE\n3. FALSE\n4. FALSE\n5. FALSE\n6. FALSE\n\n\n",
            "text/html": [
              "<style>\n",
              ".list-inline {list-style: none; margin:0; padding: 0}\n",
              ".list-inline>li {display: inline-block}\n",
              ".list-inline>li:not(:last-child)::after {content: \"\\00b7\"; padding: 0 .5ex}\n",
              "</style>\n",
              "<ol class=list-inline><li>FALSE</li><li>FALSE</li><li>FALSE</li><li>FALSE</li><li>FALSE</li><li>FALSE</li></ol>\n"
            ]
          },
          "metadata": {}
        },
        {
          "output_type": "display_data",
          "data": {
            "text/plain": [
              "[1] TRUE TRUE TRUE TRUE TRUE TRUE"
            ],
            "text/latex": "\\begin{enumerate*}\n\\item TRUE\n\\item TRUE\n\\item TRUE\n\\item TRUE\n\\item TRUE\n\\item TRUE\n\\end{enumerate*}\n",
            "text/markdown": "1. TRUE\n2. TRUE\n3. TRUE\n4. TRUE\n5. TRUE\n6. TRUE\n\n\n",
            "text/html": [
              "<style>\n",
              ".list-inline {list-style: none; margin:0; padding: 0}\n",
              ".list-inline>li {display: inline-block}\n",
              ".list-inline>li:not(:last-child)::after {content: \"\\00b7\"; padding: 0 .5ex}\n",
              "</style>\n",
              "<ol class=list-inline><li>TRUE</li><li>TRUE</li><li>TRUE</li><li>TRUE</li><li>TRUE</li><li>TRUE</li></ol>\n"
            ]
          },
          "metadata": {}
        },
        {
          "output_type": "display_data",
          "data": {
            "text/plain": [
              "[1] 5 7 8 9"
            ],
            "text/latex": "\\begin{enumerate*}\n\\item 5\n\\item 7\n\\item 8\n\\item 9\n\\end{enumerate*}\n",
            "text/markdown": "1. 5\n2. 7\n3. 8\n4. 9\n\n\n",
            "text/html": [
              "<style>\n",
              ".list-inline {list-style: none; margin:0; padding: 0}\n",
              ".list-inline>li {display: inline-block}\n",
              ".list-inline>li:not(:last-child)::after {content: \"\\00b7\"; padding: 0 .5ex}\n",
              "</style>\n",
              "<ol class=list-inline><li>5</li><li>7</li><li>8</li><li>9</li></ol>\n"
            ]
          },
          "metadata": {}
        },
        {
          "output_type": "display_data",
          "data": {
            "text/plain": [
              "[1] 1 5 7 8 9"
            ],
            "text/latex": "\\begin{enumerate*}\n\\item 1\n\\item 5\n\\item 7\n\\item 8\n\\item 9\n\\end{enumerate*}\n",
            "text/markdown": "1. 1\n2. 5\n3. 7\n4. 8\n5. 9\n\n\n",
            "text/html": [
              "<style>\n",
              ".list-inline {list-style: none; margin:0; padding: 0}\n",
              ".list-inline>li {display: inline-block}\n",
              ".list-inline>li:not(:last-child)::after {content: \"\\00b7\"; padding: 0 .5ex}\n",
              "</style>\n",
              "<ol class=list-inline><li>1</li><li>5</li><li>7</li><li>8</li><li>9</li></ol>\n"
            ]
          },
          "metadata": {}
        },
        {
          "output_type": "display_data",
          "data": {
            "text/plain": [
              "[1] 4"
            ],
            "text/latex": "4",
            "text/markdown": "4",
            "text/html": [
              "4"
            ]
          },
          "metadata": {}
        },
        {
          "output_type": "display_data",
          "data": {
            "text/plain": [
              "[1] 0 0 1 1 1 1"
            ],
            "text/latex": "\\begin{enumerate*}\n\\item 0\n\\item 0\n\\item 1\n\\item 1\n\\item 1\n\\item 1\n\\end{enumerate*}\n",
            "text/markdown": "1. 0\n2. 0\n3. 1\n4. 1\n5. 1\n6. 1\n\n\n",
            "text/html": [
              "<style>\n",
              ".list-inline {list-style: none; margin:0; padding: 0}\n",
              ".list-inline>li {display: inline-block}\n",
              ".list-inline>li:not(:last-child)::after {content: \"\\00b7\"; padding: 0 .5ex}\n",
              "</style>\n",
              "<ol class=list-inline><li>0</li><li>0</li><li>1</li><li>1</li><li>1</li><li>1</li></ol>\n"
            ]
          },
          "metadata": {}
        },
        {
          "output_type": "display_data",
          "data": {
            "text/plain": [
              "[1] 3 4 5 6"
            ],
            "text/latex": "\\begin{enumerate*}\n\\item 3\n\\item 4\n\\item 5\n\\item 6\n\\end{enumerate*}\n",
            "text/markdown": "1. 3\n2. 4\n3. 5\n4. 6\n\n\n",
            "text/html": [
              "<style>\n",
              ".list-inline {list-style: none; margin:0; padding: 0}\n",
              ".list-inline>li {display: inline-block}\n",
              ".list-inline>li:not(:last-child)::after {content: \"\\00b7\"; padding: 0 .5ex}\n",
              "</style>\n",
              "<ol class=list-inline><li>3</li><li>4</li><li>5</li><li>6</li></ol>\n"
            ]
          },
          "metadata": {}
        },
        {
          "output_type": "display_data",
          "data": {
            "text/plain": [
              "[1] 5 7 8 9"
            ],
            "text/latex": "\\begin{enumerate*}\n\\item 5\n\\item 7\n\\item 8\n\\item 9\n\\end{enumerate*}\n",
            "text/markdown": "1. 5\n2. 7\n3. 8\n4. 9\n\n\n",
            "text/html": [
              "<style>\n",
              ".list-inline {list-style: none; margin:0; padding: 0}\n",
              ".list-inline>li {display: inline-block}\n",
              ".list-inline>li:not(:last-child)::after {content: \"\\00b7\"; padding: 0 .5ex}\n",
              "</style>\n",
              "<ol class=list-inline><li>5</li><li>7</li><li>8</li><li>9</li></ol>\n"
            ]
          },
          "metadata": {}
        },
        {
          "output_type": "display_data",
          "data": {
            "text/plain": [
              "[1] 9"
            ],
            "text/latex": "9",
            "text/markdown": "9",
            "text/html": [
              "9"
            ]
          },
          "metadata": {}
        }
      ]
    },
    {
      "cell_type": "markdown",
      "metadata": {
        "id": "FhFxv49BtBg4"
      },
      "source": [
        "# More Vectorization"
      ]
    },
    {
      "cell_type": "code",
      "metadata": {
        "colab": {
          "base_uri": "https://localhost:8080/",
          "height": 34
        },
        "id": "W0tkFxactBg4",
        "outputId": "2598d7ce-feb8-42f6-eb4f-bbcb651df2be"
      },
      "source": [
        "x = c(1, 3, 5, 7, 8, 9)\n",
        "y = 1:100\n",
        "x + 2\n"
      ],
      "execution_count": 4,
      "outputs": [
        {
          "output_type": "display_data",
          "data": {
            "text/plain": [
              "[1]  3  5  7  9 10 11"
            ],
            "text/latex": "\\begin{enumerate*}\n\\item 3\n\\item 5\n\\item 7\n\\item 9\n\\item 10\n\\item 11\n\\end{enumerate*}\n",
            "text/markdown": "1. 3\n2. 5\n3. 7\n4. 9\n5. 10\n6. 11\n\n\n",
            "text/html": [
              "<style>\n",
              ".list-inline {list-style: none; margin:0; padding: 0}\n",
              ".list-inline>li {display: inline-block}\n",
              ".list-inline>li:not(:last-child)::after {content: \"\\00b7\"; padding: 0 .5ex}\n",
              "</style>\n",
              "<ol class=list-inline><li>3</li><li>5</li><li>7</li><li>9</li><li>10</li><li>11</li></ol>\n"
            ]
          },
          "metadata": {}
        }
      ]
    },
    {
      "cell_type": "code",
      "metadata": {
        "colab": {
          "base_uri": "https://localhost:8080/",
          "height": 34
        },
        "id": "S46LRHQStBg5",
        "outputId": "6f0e3970-50e4-41de-ed32-7b3ef5d81557"
      },
      "source": [
        "x + rep(2, 6)"
      ],
      "execution_count": 5,
      "outputs": [
        {
          "output_type": "display_data",
          "data": {
            "text/plain": [
              "[1]  3  5  7  9 10 11"
            ],
            "text/latex": "\\begin{enumerate*}\n\\item 3\n\\item 5\n\\item 7\n\\item 9\n\\item 10\n\\item 11\n\\end{enumerate*}\n",
            "text/markdown": "1. 3\n2. 5\n3. 7\n4. 9\n5. 10\n6. 11\n\n\n",
            "text/html": [
              "<style>\n",
              ".list-inline {list-style: none; margin:0; padding: 0}\n",
              ".list-inline>li {display: inline-block}\n",
              ".list-inline>li:not(:last-child)::after {content: \"\\00b7\"; padding: 0 .5ex}\n",
              "</style>\n",
              "<ol class=list-inline><li>3</li><li>5</li><li>7</li><li>9</li><li>10</li><li>11</li></ol>\n"
            ]
          },
          "metadata": {}
        }
      ]
    },
    {
      "cell_type": "code",
      "metadata": {
        "colab": {
          "base_uri": "https://localhost:8080/",
          "height": 34
        },
        "id": "eTVCjpoNtBg6",
        "outputId": "7f23583c-f4d3-47ff-bb2f-6622971020d6"
      },
      "source": [
        "## [1] 3 5 7 9 10 11\n",
        "x > 3\n"
      ],
      "execution_count": 6,
      "outputs": [
        {
          "output_type": "display_data",
          "data": {
            "text/plain": [
              "[1] FALSE FALSE  TRUE  TRUE  TRUE  TRUE"
            ],
            "text/latex": "\\begin{enumerate*}\n\\item FALSE\n\\item FALSE\n\\item TRUE\n\\item TRUE\n\\item TRUE\n\\item TRUE\n\\end{enumerate*}\n",
            "text/markdown": "1. FALSE\n2. FALSE\n3. TRUE\n4. TRUE\n5. TRUE\n6. TRUE\n\n\n",
            "text/html": [
              "<style>\n",
              ".list-inline {list-style: none; margin:0; padding: 0}\n",
              ".list-inline>li {display: inline-block}\n",
              ".list-inline>li:not(:last-child)::after {content: \"\\00b7\"; padding: 0 .5ex}\n",
              "</style>\n",
              "<ol class=list-inline><li>FALSE</li><li>FALSE</li><li>TRUE</li><li>TRUE</li><li>TRUE</li><li>TRUE</li></ol>\n"
            ]
          },
          "metadata": {}
        }
      ]
    },
    {
      "cell_type": "code",
      "metadata": {
        "colab": {
          "base_uri": "https://localhost:8080/",
          "height": 34
        },
        "id": "sBmFI4mVtBg7",
        "outputId": "9afe3881-e728-4c8d-ae39-ba93d7bcc9e8"
      },
      "source": [
        "## [1] FALSE FALSE TRUE TRUE TRUE TRUE\n",
        "x > rep(3, 6)\n"
      ],
      "execution_count": 7,
      "outputs": [
        {
          "output_type": "display_data",
          "data": {
            "text/plain": [
              "[1] FALSE FALSE  TRUE  TRUE  TRUE  TRUE"
            ],
            "text/latex": "\\begin{enumerate*}\n\\item FALSE\n\\item FALSE\n\\item TRUE\n\\item TRUE\n\\item TRUE\n\\item TRUE\n\\end{enumerate*}\n",
            "text/markdown": "1. FALSE\n2. FALSE\n3. TRUE\n4. TRUE\n5. TRUE\n6. TRUE\n\n\n",
            "text/html": [
              "<style>\n",
              ".list-inline {list-style: none; margin:0; padding: 0}\n",
              ".list-inline>li {display: inline-block}\n",
              ".list-inline>li:not(:last-child)::after {content: \"\\00b7\"; padding: 0 .5ex}\n",
              "</style>\n",
              "<ol class=list-inline><li>FALSE</li><li>FALSE</li><li>TRUE</li><li>TRUE</li><li>TRUE</li><li>TRUE</li></ol>\n"
            ]
          },
          "metadata": {}
        }
      ]
    },
    {
      "cell_type": "code",
      "metadata": {
        "colab": {
          "base_uri": "https://localhost:8080/",
          "height": 102
        },
        "id": "u53JMkNFtBg7",
        "outputId": "283b598f-fbb1-46f3-968d-fe500ed3328a"
      },
      "source": [
        "## [1] FALSE FALSE TRUE TRUE TRUE TRUE\n",
        "x + y"
      ],
      "execution_count": 8,
      "outputs": [
        {
          "output_type": "stream",
          "name": "stderr",
          "text": [
            "Warning message in x + y:\n",
            "“longer object length is not a multiple of shorter object length”\n"
          ]
        },
        {
          "output_type": "display_data",
          "data": {
            "text/plain": [
              "  [1]   2   5   8  11  13  15   8  11  14  17  19  21  14  17  20  23  25  27\n",
              " [19]  20  23  26  29  31  33  26  29  32  35  37  39  32  35  38  41  43  45\n",
              " [37]  38  41  44  47  49  51  44  47  50  53  55  57  50  53  56  59  61  63\n",
              " [55]  56  59  62  65  67  69  62  65  68  71  73  75  68  71  74  77  79  81\n",
              " [73]  74  77  80  83  85  87  80  83  86  89  91  93  86  89  92  95  97  99\n",
              " [91]  92  95  98 101 103 105  98 101 104 107"
            ],
            "text/latex": "\\begin{enumerate*}\n\\item 2\n\\item 5\n\\item 8\n\\item 11\n\\item 13\n\\item 15\n\\item 8\n\\item 11\n\\item 14\n\\item 17\n\\item 19\n\\item 21\n\\item 14\n\\item 17\n\\item 20\n\\item 23\n\\item 25\n\\item 27\n\\item 20\n\\item 23\n\\item 26\n\\item 29\n\\item 31\n\\item 33\n\\item 26\n\\item 29\n\\item 32\n\\item 35\n\\item 37\n\\item 39\n\\item 32\n\\item 35\n\\item 38\n\\item 41\n\\item 43\n\\item 45\n\\item 38\n\\item 41\n\\item 44\n\\item 47\n\\item 49\n\\item 51\n\\item 44\n\\item 47\n\\item 50\n\\item 53\n\\item 55\n\\item 57\n\\item 50\n\\item 53\n\\item 56\n\\item 59\n\\item 61\n\\item 63\n\\item 56\n\\item 59\n\\item 62\n\\item 65\n\\item 67\n\\item 69\n\\item 62\n\\item 65\n\\item 68\n\\item 71\n\\item 73\n\\item 75\n\\item 68\n\\item 71\n\\item 74\n\\item 77\n\\item 79\n\\item 81\n\\item 74\n\\item 77\n\\item 80\n\\item 83\n\\item 85\n\\item 87\n\\item 80\n\\item 83\n\\item 86\n\\item 89\n\\item 91\n\\item 93\n\\item 86\n\\item 89\n\\item 92\n\\item 95\n\\item 97\n\\item 99\n\\item 92\n\\item 95\n\\item 98\n\\item 101\n\\item 103\n\\item 105\n\\item 98\n\\item 101\n\\item 104\n\\item 107\n\\end{enumerate*}\n",
            "text/markdown": "1. 2\n2. 5\n3. 8\n4. 11\n5. 13\n6. 15\n7. 8\n8. 11\n9. 14\n10. 17\n11. 19\n12. 21\n13. 14\n14. 17\n15. 20\n16. 23\n17. 25\n18. 27\n19. 20\n20. 23\n21. 26\n22. 29\n23. 31\n24. 33\n25. 26\n26. 29\n27. 32\n28. 35\n29. 37\n30. 39\n31. 32\n32. 35\n33. 38\n34. 41\n35. 43\n36. 45\n37. 38\n38. 41\n39. 44\n40. 47\n41. 49\n42. 51\n43. 44\n44. 47\n45. 50\n46. 53\n47. 55\n48. 57\n49. 50\n50. 53\n51. 56\n52. 59\n53. 61\n54. 63\n55. 56\n56. 59\n57. 62\n58. 65\n59. 67\n60. 69\n61. 62\n62. 65\n63. 68\n64. 71\n65. 73\n66. 75\n67. 68\n68. 71\n69. 74\n70. 77\n71. 79\n72. 81\n73. 74\n74. 77\n75. 80\n76. 83\n77. 85\n78. 87\n79. 80\n80. 83\n81. 86\n82. 89\n83. 91\n84. 93\n85. 86\n86. 89\n87. 92\n88. 95\n89. 97\n90. 99\n91. 92\n92. 95\n93. 98\n94. 101\n95. 103\n96. 105\n97. 98\n98. 101\n99. 104\n100. 107\n\n\n",
            "text/html": [
              "<style>\n",
              ".list-inline {list-style: none; margin:0; padding: 0}\n",
              ".list-inline>li {display: inline-block}\n",
              ".list-inline>li:not(:last-child)::after {content: \"\\00b7\"; padding: 0 .5ex}\n",
              "</style>\n",
              "<ol class=list-inline><li>2</li><li>5</li><li>8</li><li>11</li><li>13</li><li>15</li><li>8</li><li>11</li><li>14</li><li>17</li><li>19</li><li>21</li><li>14</li><li>17</li><li>20</li><li>23</li><li>25</li><li>27</li><li>20</li><li>23</li><li>26</li><li>29</li><li>31</li><li>33</li><li>26</li><li>29</li><li>32</li><li>35</li><li>37</li><li>39</li><li>32</li><li>35</li><li>38</li><li>41</li><li>43</li><li>45</li><li>38</li><li>41</li><li>44</li><li>47</li><li>49</li><li>51</li><li>44</li><li>47</li><li>50</li><li>53</li><li>55</li><li>57</li><li>50</li><li>53</li><li>56</li><li>59</li><li>61</li><li>63</li><li>56</li><li>59</li><li>62</li><li>65</li><li>67</li><li>69</li><li>62</li><li>65</li><li>68</li><li>71</li><li>73</li><li>75</li><li>68</li><li>71</li><li>74</li><li>77</li><li>79</li><li>81</li><li>74</li><li>77</li><li>80</li><li>83</li><li>85</li><li>87</li><li>80</li><li>83</li><li>86</li><li>89</li><li>91</li><li>93</li><li>86</li><li>89</li><li>92</li><li>95</li><li>97</li><li>99</li><li>92</li><li>95</li><li>98</li><li>101</li><li>103</li><li>105</li><li>98</li><li>101</li><li>104</li><li>107</li></ol>\n"
            ]
          },
          "metadata": {}
        }
      ]
    },
    {
      "cell_type": "code",
      "metadata": {
        "colab": {
          "base_uri": "https://localhost:8080/",
          "height": 136
        },
        "id": "QZCnppOOtBg8",
        "outputId": "0a652f4f-944b-4d75-f37e-deac0ad41844"
      },
      "source": [
        "length(x)\n",
        "## [1] 6\n",
        "length(y)\n",
        "## [1] 100\n",
        "length(y) / length(x)\n",
        "## [1] 16.66667\n",
        "(x + y) - y"
      ],
      "execution_count": 9,
      "outputs": [
        {
          "output_type": "display_data",
          "data": {
            "text/plain": [
              "[1] 6"
            ],
            "text/latex": "6",
            "text/markdown": "6",
            "text/html": [
              "6"
            ]
          },
          "metadata": {}
        },
        {
          "output_type": "display_data",
          "data": {
            "text/plain": [
              "[1] 100"
            ],
            "text/latex": "100",
            "text/markdown": "100",
            "text/html": [
              "100"
            ]
          },
          "metadata": {}
        },
        {
          "output_type": "display_data",
          "data": {
            "text/plain": [
              "[1] 16.66667"
            ],
            "text/latex": "16.6666666666667",
            "text/markdown": "16.6666666666667",
            "text/html": [
              "16.6666666666667"
            ]
          },
          "metadata": {}
        },
        {
          "output_type": "stream",
          "name": "stderr",
          "text": [
            "Warning message in x + y:\n",
            "“longer object length is not a multiple of shorter object length”\n"
          ]
        },
        {
          "output_type": "display_data",
          "data": {
            "text/plain": [
              "  [1] 1 3 5 7 8 9 1 3 5 7 8 9 1 3 5 7 8 9 1 3 5 7 8 9 1 3 5 7 8 9 1 3 5 7 8 9 1\n",
              " [38] 3 5 7 8 9 1 3 5 7 8 9 1 3 5 7 8 9 1 3 5 7 8 9 1 3 5 7 8 9 1 3 5 7 8 9 1 3\n",
              " [75] 5 7 8 9 1 3 5 7 8 9 1 3 5 7 8 9 1 3 5 7 8 9 1 3 5 7"
            ],
            "text/latex": "\\begin{enumerate*}\n\\item 1\n\\item 3\n\\item 5\n\\item 7\n\\item 8\n\\item 9\n\\item 1\n\\item 3\n\\item 5\n\\item 7\n\\item 8\n\\item 9\n\\item 1\n\\item 3\n\\item 5\n\\item 7\n\\item 8\n\\item 9\n\\item 1\n\\item 3\n\\item 5\n\\item 7\n\\item 8\n\\item 9\n\\item 1\n\\item 3\n\\item 5\n\\item 7\n\\item 8\n\\item 9\n\\item 1\n\\item 3\n\\item 5\n\\item 7\n\\item 8\n\\item 9\n\\item 1\n\\item 3\n\\item 5\n\\item 7\n\\item 8\n\\item 9\n\\item 1\n\\item 3\n\\item 5\n\\item 7\n\\item 8\n\\item 9\n\\item 1\n\\item 3\n\\item 5\n\\item 7\n\\item 8\n\\item 9\n\\item 1\n\\item 3\n\\item 5\n\\item 7\n\\item 8\n\\item 9\n\\item 1\n\\item 3\n\\item 5\n\\item 7\n\\item 8\n\\item 9\n\\item 1\n\\item 3\n\\item 5\n\\item 7\n\\item 8\n\\item 9\n\\item 1\n\\item 3\n\\item 5\n\\item 7\n\\item 8\n\\item 9\n\\item 1\n\\item 3\n\\item 5\n\\item 7\n\\item 8\n\\item 9\n\\item 1\n\\item 3\n\\item 5\n\\item 7\n\\item 8\n\\item 9\n\\item 1\n\\item 3\n\\item 5\n\\item 7\n\\item 8\n\\item 9\n\\item 1\n\\item 3\n\\item 5\n\\item 7\n\\end{enumerate*}\n",
            "text/markdown": "1. 1\n2. 3\n3. 5\n4. 7\n5. 8\n6. 9\n7. 1\n8. 3\n9. 5\n10. 7\n11. 8\n12. 9\n13. 1\n14. 3\n15. 5\n16. 7\n17. 8\n18. 9\n19. 1\n20. 3\n21. 5\n22. 7\n23. 8\n24. 9\n25. 1\n26. 3\n27. 5\n28. 7\n29. 8\n30. 9\n31. 1\n32. 3\n33. 5\n34. 7\n35. 8\n36. 9\n37. 1\n38. 3\n39. 5\n40. 7\n41. 8\n42. 9\n43. 1\n44. 3\n45. 5\n46. 7\n47. 8\n48. 9\n49. 1\n50. 3\n51. 5\n52. 7\n53. 8\n54. 9\n55. 1\n56. 3\n57. 5\n58. 7\n59. 8\n60. 9\n61. 1\n62. 3\n63. 5\n64. 7\n65. 8\n66. 9\n67. 1\n68. 3\n69. 5\n70. 7\n71. 8\n72. 9\n73. 1\n74. 3\n75. 5\n76. 7\n77. 8\n78. 9\n79. 1\n80. 3\n81. 5\n82. 7\n83. 8\n84. 9\n85. 1\n86. 3\n87. 5\n88. 7\n89. 8\n90. 9\n91. 1\n92. 3\n93. 5\n94. 7\n95. 8\n96. 9\n97. 1\n98. 3\n99. 5\n100. 7\n\n\n",
            "text/html": [
              "<style>\n",
              ".list-inline {list-style: none; margin:0; padding: 0}\n",
              ".list-inline>li {display: inline-block}\n",
              ".list-inline>li:not(:last-child)::after {content: \"\\00b7\"; padding: 0 .5ex}\n",
              "</style>\n",
              "<ol class=list-inline><li>1</li><li>3</li><li>5</li><li>7</li><li>8</li><li>9</li><li>1</li><li>3</li><li>5</li><li>7</li><li>8</li><li>9</li><li>1</li><li>3</li><li>5</li><li>7</li><li>8</li><li>9</li><li>1</li><li>3</li><li>5</li><li>7</li><li>8</li><li>9</li><li>1</li><li>3</li><li>5</li><li>7</li><li>8</li><li>9</li><li>1</li><li>3</li><li>5</li><li>7</li><li>8</li><li>9</li><li>1</li><li>3</li><li>5</li><li>7</li><li>8</li><li>9</li><li>1</li><li>3</li><li>5</li><li>7</li><li>8</li><li>9</li><li>1</li><li>3</li><li>5</li><li>7</li><li>8</li><li>9</li><li>1</li><li>3</li><li>5</li><li>7</li><li>8</li><li>9</li><li>1</li><li>3</li><li>5</li><li>7</li><li>8</li><li>9</li><li>1</li><li>3</li><li>5</li><li>7</li><li>8</li><li>9</li><li>1</li><li>3</li><li>5</li><li>7</li><li>8</li><li>9</li><li>1</li><li>3</li><li>5</li><li>7</li><li>8</li><li>9</li><li>1</li><li>3</li><li>5</li><li>7</li><li>8</li><li>9</li><li>1</li><li>3</li><li>5</li><li>7</li><li>8</li><li>9</li><li>1</li><li>3</li><li>5</li><li>7</li></ol>\n"
            ]
          },
          "metadata": {}
        }
      ]
    },
    {
      "cell_type": "code",
      "metadata": {
        "colab": {
          "base_uri": "https://localhost:8080/",
          "height": 102
        },
        "id": "gKITwpS0tBg8",
        "outputId": "f666e424-21a2-4f73-daea-f8188f572c59"
      },
      "source": [
        "y = 1:60\n",
        "x + y\n",
        "length(y) / length(x)\n",
        "rep(x, 10) + y"
      ],
      "execution_count": 10,
      "outputs": [
        {
          "output_type": "display_data",
          "data": {
            "text/plain": [
              " [1]  2  5  8 11 13 15  8 11 14 17 19 21 14 17 20 23 25 27 20 23 26 29 31 33 26\n",
              "[26] 29 32 35 37 39 32 35 38 41 43 45 38 41 44 47 49 51 44 47 50 53 55 57 50 53\n",
              "[51] 56 59 61 63 56 59 62 65 67 69"
            ],
            "text/latex": "\\begin{enumerate*}\n\\item 2\n\\item 5\n\\item 8\n\\item 11\n\\item 13\n\\item 15\n\\item 8\n\\item 11\n\\item 14\n\\item 17\n\\item 19\n\\item 21\n\\item 14\n\\item 17\n\\item 20\n\\item 23\n\\item 25\n\\item 27\n\\item 20\n\\item 23\n\\item 26\n\\item 29\n\\item 31\n\\item 33\n\\item 26\n\\item 29\n\\item 32\n\\item 35\n\\item 37\n\\item 39\n\\item 32\n\\item 35\n\\item 38\n\\item 41\n\\item 43\n\\item 45\n\\item 38\n\\item 41\n\\item 44\n\\item 47\n\\item 49\n\\item 51\n\\item 44\n\\item 47\n\\item 50\n\\item 53\n\\item 55\n\\item 57\n\\item 50\n\\item 53\n\\item 56\n\\item 59\n\\item 61\n\\item 63\n\\item 56\n\\item 59\n\\item 62\n\\item 65\n\\item 67\n\\item 69\n\\end{enumerate*}\n",
            "text/markdown": "1. 2\n2. 5\n3. 8\n4. 11\n5. 13\n6. 15\n7. 8\n8. 11\n9. 14\n10. 17\n11. 19\n12. 21\n13. 14\n14. 17\n15. 20\n16. 23\n17. 25\n18. 27\n19. 20\n20. 23\n21. 26\n22. 29\n23. 31\n24. 33\n25. 26\n26. 29\n27. 32\n28. 35\n29. 37\n30. 39\n31. 32\n32. 35\n33. 38\n34. 41\n35. 43\n36. 45\n37. 38\n38. 41\n39. 44\n40. 47\n41. 49\n42. 51\n43. 44\n44. 47\n45. 50\n46. 53\n47. 55\n48. 57\n49. 50\n50. 53\n51. 56\n52. 59\n53. 61\n54. 63\n55. 56\n56. 59\n57. 62\n58. 65\n59. 67\n60. 69\n\n\n",
            "text/html": [
              "<style>\n",
              ".list-inline {list-style: none; margin:0; padding: 0}\n",
              ".list-inline>li {display: inline-block}\n",
              ".list-inline>li:not(:last-child)::after {content: \"\\00b7\"; padding: 0 .5ex}\n",
              "</style>\n",
              "<ol class=list-inline><li>2</li><li>5</li><li>8</li><li>11</li><li>13</li><li>15</li><li>8</li><li>11</li><li>14</li><li>17</li><li>19</li><li>21</li><li>14</li><li>17</li><li>20</li><li>23</li><li>25</li><li>27</li><li>20</li><li>23</li><li>26</li><li>29</li><li>31</li><li>33</li><li>26</li><li>29</li><li>32</li><li>35</li><li>37</li><li>39</li><li>32</li><li>35</li><li>38</li><li>41</li><li>43</li><li>45</li><li>38</li><li>41</li><li>44</li><li>47</li><li>49</li><li>51</li><li>44</li><li>47</li><li>50</li><li>53</li><li>55</li><li>57</li><li>50</li><li>53</li><li>56</li><li>59</li><li>61</li><li>63</li><li>56</li><li>59</li><li>62</li><li>65</li><li>67</li><li>69</li></ol>\n"
            ]
          },
          "metadata": {}
        },
        {
          "output_type": "display_data",
          "data": {
            "text/plain": [
              "[1] 10"
            ],
            "text/latex": "10",
            "text/markdown": "10",
            "text/html": [
              "10"
            ]
          },
          "metadata": {}
        },
        {
          "output_type": "display_data",
          "data": {
            "text/plain": [
              " [1]  2  5  8 11 13 15  8 11 14 17 19 21 14 17 20 23 25 27 20 23 26 29 31 33 26\n",
              "[26] 29 32 35 37 39 32 35 38 41 43 45 38 41 44 47 49 51 44 47 50 53 55 57 50 53\n",
              "[51] 56 59 61 63 56 59 62 65 67 69"
            ],
            "text/latex": "\\begin{enumerate*}\n\\item 2\n\\item 5\n\\item 8\n\\item 11\n\\item 13\n\\item 15\n\\item 8\n\\item 11\n\\item 14\n\\item 17\n\\item 19\n\\item 21\n\\item 14\n\\item 17\n\\item 20\n\\item 23\n\\item 25\n\\item 27\n\\item 20\n\\item 23\n\\item 26\n\\item 29\n\\item 31\n\\item 33\n\\item 26\n\\item 29\n\\item 32\n\\item 35\n\\item 37\n\\item 39\n\\item 32\n\\item 35\n\\item 38\n\\item 41\n\\item 43\n\\item 45\n\\item 38\n\\item 41\n\\item 44\n\\item 47\n\\item 49\n\\item 51\n\\item 44\n\\item 47\n\\item 50\n\\item 53\n\\item 55\n\\item 57\n\\item 50\n\\item 53\n\\item 56\n\\item 59\n\\item 61\n\\item 63\n\\item 56\n\\item 59\n\\item 62\n\\item 65\n\\item 67\n\\item 69\n\\end{enumerate*}\n",
            "text/markdown": "1. 2\n2. 5\n3. 8\n4. 11\n5. 13\n6. 15\n7. 8\n8. 11\n9. 14\n10. 17\n11. 19\n12. 21\n13. 14\n14. 17\n15. 20\n16. 23\n17. 25\n18. 27\n19. 20\n20. 23\n21. 26\n22. 29\n23. 31\n24. 33\n25. 26\n26. 29\n27. 32\n28. 35\n29. 37\n30. 39\n31. 32\n32. 35\n33. 38\n34. 41\n35. 43\n36. 45\n37. 38\n38. 41\n39. 44\n40. 47\n41. 49\n42. 51\n43. 44\n44. 47\n45. 50\n46. 53\n47. 55\n48. 57\n49. 50\n50. 53\n51. 56\n52. 59\n53. 61\n54. 63\n55. 56\n56. 59\n57. 62\n58. 65\n59. 67\n60. 69\n\n\n",
            "text/html": [
              "<style>\n",
              ".list-inline {list-style: none; margin:0; padding: 0}\n",
              ".list-inline>li {display: inline-block}\n",
              ".list-inline>li:not(:last-child)::after {content: \"\\00b7\"; padding: 0 .5ex}\n",
              "</style>\n",
              "<ol class=list-inline><li>2</li><li>5</li><li>8</li><li>11</li><li>13</li><li>15</li><li>8</li><li>11</li><li>14</li><li>17</li><li>19</li><li>21</li><li>14</li><li>17</li><li>20</li><li>23</li><li>25</li><li>27</li><li>20</li><li>23</li><li>26</li><li>29</li><li>31</li><li>33</li><li>26</li><li>29</li><li>32</li><li>35</li><li>37</li><li>39</li><li>32</li><li>35</li><li>38</li><li>41</li><li>43</li><li>45</li><li>38</li><li>41</li><li>44</li><li>47</li><li>49</li><li>51</li><li>44</li><li>47</li><li>50</li><li>53</li><li>55</li><li>57</li><li>50</li><li>53</li><li>56</li><li>59</li><li>61</li><li>63</li><li>56</li><li>59</li><li>62</li><li>65</li><li>67</li><li>69</li></ol>\n"
            ]
          },
          "metadata": {}
        }
      ]
    },
    {
      "cell_type": "code",
      "metadata": {
        "colab": {
          "base_uri": "https://localhost:8080/",
          "height": 51
        },
        "id": "FFHFMcsFtBg9",
        "outputId": "092767ca-f0a0-4b9e-cf2f-124341199726"
      },
      "source": [
        "all(x + y == rep(x, 10) + y)\n",
        "## [1] TRUE\n",
        "identical(x + y, rep(x, 10) + y)"
      ],
      "execution_count": 11,
      "outputs": [
        {
          "output_type": "display_data",
          "data": {
            "text/plain": [
              "[1] TRUE"
            ],
            "text/latex": "TRUE",
            "text/markdown": "TRUE",
            "text/html": [
              "TRUE"
            ]
          },
          "metadata": {}
        },
        {
          "output_type": "display_data",
          "data": {
            "text/plain": [
              "[1] TRUE"
            ],
            "text/latex": "TRUE",
            "text/markdown": "TRUE",
            "text/html": [
              "TRUE"
            ]
          },
          "metadata": {}
        }
      ]
    },
    {
      "cell_type": "markdown",
      "metadata": {
        "id": "KH4f80eRtBg9"
      },
      "source": [
        "# Matrices\n",
        "Matrices have rows and columns containing a single data type. "
      ]
    },
    {
      "cell_type": "code",
      "metadata": {
        "colab": {
          "base_uri": "https://localhost:8080/",
          "height": 178
        },
        "id": "iNOBZBe9tBg-",
        "outputId": "27bc67ee-3630-450c-e50b-0613d62012e9"
      },
      "source": [
        "x = 1:9\n",
        "x\n",
        "## [1] 1 2 3 4 5 6 7 8 9\n",
        "X = matrix(x, nrow = 3, ncol = 3)\n",
        "X"
      ],
      "execution_count": 12,
      "outputs": [
        {
          "output_type": "display_data",
          "data": {
            "text/plain": [
              "[1] 1 2 3 4 5 6 7 8 9"
            ],
            "text/latex": "\\begin{enumerate*}\n\\item 1\n\\item 2\n\\item 3\n\\item 4\n\\item 5\n\\item 6\n\\item 7\n\\item 8\n\\item 9\n\\end{enumerate*}\n",
            "text/markdown": "1. 1\n2. 2\n3. 3\n4. 4\n5. 5\n6. 6\n7. 7\n8. 8\n9. 9\n\n\n",
            "text/html": [
              "<style>\n",
              ".list-inline {list-style: none; margin:0; padding: 0}\n",
              ".list-inline>li {display: inline-block}\n",
              ".list-inline>li:not(:last-child)::after {content: \"\\00b7\"; padding: 0 .5ex}\n",
              "</style>\n",
              "<ol class=list-inline><li>1</li><li>2</li><li>3</li><li>4</li><li>5</li><li>6</li><li>7</li><li>8</li><li>9</li></ol>\n"
            ]
          },
          "metadata": {}
        },
        {
          "output_type": "display_data",
          "data": {
            "text/plain": [
              "     [,1] [,2] [,3]\n",
              "[1,] 1    4    7   \n",
              "[2,] 2    5    8   \n",
              "[3,] 3    6    9   "
            ],
            "text/latex": "A matrix: 3 × 3 of type int\n\\begin{tabular}{lll}\n\t 1 & 4 & 7\\\\\n\t 2 & 5 & 8\\\\\n\t 3 & 6 & 9\\\\\n\\end{tabular}\n",
            "text/markdown": "\nA matrix: 3 × 3 of type int\n\n| 1 | 4 | 7 |\n| 2 | 5 | 8 |\n| 3 | 6 | 9 |\n\n",
            "text/html": [
              "<table class=\"dataframe\">\n",
              "<caption>A matrix: 3 × 3 of type int</caption>\n",
              "<tbody>\n",
              "\t<tr><td>1</td><td>4</td><td>7</td></tr>\n",
              "\t<tr><td>2</td><td>5</td><td>8</td></tr>\n",
              "\t<tr><td>3</td><td>6</td><td>9</td></tr>\n",
              "</tbody>\n",
              "</table>\n"
            ]
          },
          "metadata": {}
        }
      ]
    },
    {
      "cell_type": "code",
      "metadata": {
        "colab": {
          "base_uri": "https://localhost:8080/",
          "height": 161
        },
        "id": "4x_ShR6ttBg-",
        "outputId": "fdf3d4a4-9c81-4ceb-ec5f-5e116ead1c2e"
      },
      "source": [
        "#By default the matrix function reorders a vector into columns, but we can also tell R to use rows instead.\n",
        "Y = matrix(x, nrow = 3, ncol = 3, byrow = TRUE)\n",
        "Y"
      ],
      "execution_count": 13,
      "outputs": [
        {
          "output_type": "display_data",
          "data": {
            "text/plain": [
              "     [,1] [,2] [,3]\n",
              "[1,] 1    2    3   \n",
              "[2,] 4    5    6   \n",
              "[3,] 7    8    9   "
            ],
            "text/latex": "A matrix: 3 × 3 of type int\n\\begin{tabular}{lll}\n\t 1 & 2 & 3\\\\\n\t 4 & 5 & 6\\\\\n\t 7 & 8 & 9\\\\\n\\end{tabular}\n",
            "text/markdown": "\nA matrix: 3 × 3 of type int\n\n| 1 | 2 | 3 |\n| 4 | 5 | 6 |\n| 7 | 8 | 9 |\n\n",
            "text/html": [
              "<table class=\"dataframe\">\n",
              "<caption>A matrix: 3 × 3 of type int</caption>\n",
              "<tbody>\n",
              "\t<tr><td>1</td><td>2</td><td>3</td></tr>\n",
              "\t<tr><td>4</td><td>5</td><td>6</td></tr>\n",
              "\t<tr><td>7</td><td>8</td><td>9</td></tr>\n",
              "</tbody>\n",
              "</table>\n"
            ]
          },
          "metadata": {}
        }
      ]
    },
    {
      "cell_type": "code",
      "metadata": {
        "colab": {
          "base_uri": "https://localhost:8080/",
          "height": 113
        },
        "id": "Iqebrn0-tBg-",
        "outputId": "cbe537b8-387c-47e7-d556-9d783df5bcb9"
      },
      "source": [
        "#We can also create a matrix of a specified dimension where every element is the same, in this case 0.\n",
        "Z = matrix(0, 2, 4)\n",
        "Z"
      ],
      "execution_count": 14,
      "outputs": [
        {
          "output_type": "display_data",
          "data": {
            "text/plain": [
              "     [,1] [,2] [,3] [,4]\n",
              "[1,] 0    0    0    0   \n",
              "[2,] 0    0    0    0   "
            ],
            "text/latex": "A matrix: 2 × 4 of type dbl\n\\begin{tabular}{llll}\n\t 0 & 0 & 0 & 0\\\\\n\t 0 & 0 & 0 & 0\\\\\n\\end{tabular}\n",
            "text/markdown": "\nA matrix: 2 × 4 of type dbl\n\n| 0 | 0 | 0 | 0 |\n| 0 | 0 | 0 | 0 |\n\n",
            "text/html": [
              "<table class=\"dataframe\">\n",
              "<caption>A matrix: 2 × 4 of type dbl</caption>\n",
              "<tbody>\n",
              "\t<tr><td>0</td><td>0</td><td>0</td><td>0</td></tr>\n",
              "\t<tr><td>0</td><td>0</td><td>0</td><td>0</td></tr>\n",
              "</tbody>\n",
              "</table>\n"
            ]
          },
          "metadata": {}
        }
      ]
    },
    {
      "cell_type": "code",
      "metadata": {
        "colab": {
          "base_uri": "https://localhost:8080/",
          "height": 34
        },
        "id": "caq0QZfMtBg_",
        "outputId": "edb23878-3c02-49f1-9a3f-023c119c79a5"
      },
      "source": [
        "#matrices are two-dimensional, we need to specify both a row and a column when subsetting.\n",
        "X[1, 2]"
      ],
      "execution_count": 15,
      "outputs": [
        {
          "output_type": "display_data",
          "data": {
            "text/plain": [
              "[1] 4"
            ],
            "text/latex": "4",
            "text/markdown": "4",
            "text/html": [
              "4"
            ]
          },
          "metadata": {}
        }
      ]
    },
    {
      "cell_type": "code",
      "metadata": {
        "colab": {
          "base_uri": "https://localhost:8080/",
          "height": 51
        },
        "id": "kSPUj1sxtBg_",
        "outputId": "d6f0f54d-7d92-4d0d-f1b5-1111557baf9c"
      },
      "source": [
        "#subset an entire row or column.\n",
        "X[1, ]#column 1\n",
        "\n",
        "X[, 3]#row 3"
      ],
      "execution_count": 16,
      "outputs": [
        {
          "output_type": "display_data",
          "data": {
            "text/plain": [
              "[1] 1 4 7"
            ],
            "text/latex": "\\begin{enumerate*}\n\\item 1\n\\item 4\n\\item 7\n\\end{enumerate*}\n",
            "text/markdown": "1. 1\n2. 4\n3. 7\n\n\n",
            "text/html": [
              "<style>\n",
              ".list-inline {list-style: none; margin:0; padding: 0}\n",
              ".list-inline>li {display: inline-block}\n",
              ".list-inline>li:not(:last-child)::after {content: \"\\00b7\"; padding: 0 .5ex}\n",
              "</style>\n",
              "<ol class=list-inline><li>1</li><li>4</li><li>7</li></ol>\n"
            ]
          },
          "metadata": {}
        },
        {
          "output_type": "display_data",
          "data": {
            "text/plain": [
              "[1] 7 8 9"
            ],
            "text/latex": "\\begin{enumerate*}\n\\item 7\n\\item 8\n\\item 9\n\\end{enumerate*}\n",
            "text/markdown": "1. 7\n2. 8\n3. 9\n\n\n",
            "text/html": [
              "<style>\n",
              ".list-inline {list-style: none; margin:0; padding: 0}\n",
              ".list-inline>li {display: inline-block}\n",
              ".list-inline>li:not(:last-child)::after {content: \"\\00b7\"; padding: 0 .5ex}\n",
              "</style>\n",
              "<ol class=list-inline><li>7</li><li>8</li><li>9</li></ol>\n"
            ]
          },
          "metadata": {}
        }
      ]
    },
    {
      "cell_type": "code",
      "metadata": {
        "colab": {
          "base_uri": "https://localhost:8080/",
          "height": 34
        },
        "id": "QVFkNsj3tBg_",
        "outputId": "2a20aff4-9330-44d9-ba19-ed1a25316f5e"
      },
      "source": [
        "X[2, c(1, 3)] #subset to the first and third column of the second row."
      ],
      "execution_count": 17,
      "outputs": [
        {
          "output_type": "display_data",
          "data": {
            "text/plain": [
              "[1] 2 8"
            ],
            "text/latex": "\\begin{enumerate*}\n\\item 2\n\\item 8\n\\end{enumerate*}\n",
            "text/markdown": "1. 2\n2. 8\n\n\n",
            "text/html": [
              "<style>\n",
              ".list-inline {list-style: none; margin:0; padding: 0}\n",
              ".list-inline>li {display: inline-block}\n",
              ".list-inline>li:not(:last-child)::after {content: \"\\00b7\"; padding: 0 .5ex}\n",
              "</style>\n",
              "<ol class=list-inline><li>2</li><li>8</li></ol>\n"
            ]
          },
          "metadata": {}
        }
      ]
    },
    {
      "cell_type": "code",
      "metadata": {
        "colab": {
          "base_uri": "https://localhost:8080/",
          "height": 34
        },
        "id": "T3dfyqUptBhA",
        "outputId": "3841ec1f-e657-4253-81a4-4a6c8ebc2781"
      },
      "source": [
        "#Matrices can also be created by combining vectors as columns, using cbind, or\n",
        "#combining vectors as rows, using rbind.\n",
        "x = 1:9\n",
        "rev(x)"
      ],
      "execution_count": 18,
      "outputs": [
        {
          "output_type": "display_data",
          "data": {
            "text/plain": [
              "[1] 9 8 7 6 5 4 3 2 1"
            ],
            "text/latex": "\\begin{enumerate*}\n\\item 9\n\\item 8\n\\item 7\n\\item 6\n\\item 5\n\\item 4\n\\item 3\n\\item 2\n\\item 1\n\\end{enumerate*}\n",
            "text/markdown": "1. 9\n2. 8\n3. 7\n4. 6\n5. 5\n6. 4\n7. 3\n8. 2\n9. 1\n\n\n",
            "text/html": [
              "<style>\n",
              ".list-inline {list-style: none; margin:0; padding: 0}\n",
              ".list-inline>li {display: inline-block}\n",
              ".list-inline>li:not(:last-child)::after {content: \"\\00b7\"; padding: 0 .5ex}\n",
              "</style>\n",
              "<ol class=list-inline><li>9</li><li>8</li><li>7</li><li>6</li><li>5</li><li>4</li><li>3</li><li>2</li><li>1</li></ol>\n"
            ]
          },
          "metadata": {}
        }
      ]
    },
    {
      "cell_type": "code",
      "metadata": {
        "colab": {
          "base_uri": "https://localhost:8080/",
          "height": 144
        },
        "id": "43WntGAStBhA",
        "outputId": "38f790de-65b3-4c8e-ce28-9401560181df"
      },
      "source": [
        "rep(1, 9)\n",
        "\n",
        "rbind(x, rev(x), rep(1, 9))"
      ],
      "execution_count": 19,
      "outputs": [
        {
          "output_type": "display_data",
          "data": {
            "text/plain": [
              "[1] 1 1 1 1 1 1 1 1 1"
            ],
            "text/latex": "\\begin{enumerate*}\n\\item 1\n\\item 1\n\\item 1\n\\item 1\n\\item 1\n\\item 1\n\\item 1\n\\item 1\n\\item 1\n\\end{enumerate*}\n",
            "text/markdown": "1. 1\n2. 1\n3. 1\n4. 1\n5. 1\n6. 1\n7. 1\n8. 1\n9. 1\n\n\n",
            "text/html": [
              "<style>\n",
              ".list-inline {list-style: none; margin:0; padding: 0}\n",
              ".list-inline>li {display: inline-block}\n",
              ".list-inline>li:not(:last-child)::after {content: \"\\00b7\"; padding: 0 .5ex}\n",
              "</style>\n",
              "<ol class=list-inline><li>1</li><li>1</li><li>1</li><li>1</li><li>1</li><li>1</li><li>1</li><li>1</li><li>1</li></ol>\n"
            ]
          },
          "metadata": {}
        },
        {
          "output_type": "display_data",
          "data": {
            "text/plain": [
              "  [,1] [,2] [,3] [,4] [,5] [,6] [,7] [,8] [,9]\n",
              "x 1    2    3    4    5    6    7    8    9   \n",
              "  9    8    7    6    5    4    3    2    1   \n",
              "  1    1    1    1    1    1    1    1    1   "
            ],
            "text/latex": "A matrix: 3 × 9 of type dbl\n\\begin{tabular}{r|lllllllll}\n\tx & 1 & 2 & 3 & 4 & 5 & 6 & 7 & 8 & 9\\\\\n\t & 9 & 8 & 7 & 6 & 5 & 4 & 3 & 2 & 1\\\\\n\t & 1 & 1 & 1 & 1 & 1 & 1 & 1 & 1 & 1\\\\\n\\end{tabular}\n",
            "text/markdown": "\nA matrix: 3 × 9 of type dbl\n\n| x | 1 | 2 | 3 | 4 | 5 | 6 | 7 | 8 | 9 |\n| <!----> | 9 | 8 | 7 | 6 | 5 | 4 | 3 | 2 | 1 |\n| <!----> | 1 | 1 | 1 | 1 | 1 | 1 | 1 | 1 | 1 |\n\n",
            "text/html": [
              "<table class=\"dataframe\">\n",
              "<caption>A matrix: 3 × 9 of type dbl</caption>\n",
              "<tbody>\n",
              "\t<tr><th scope=row>x</th><td>1</td><td>2</td><td>3</td><td>4</td><td>5</td><td>6</td><td>7</td><td>8</td><td>9</td></tr>\n",
              "\t<tr><th scope=row></th><td>9</td><td>8</td><td>7</td><td>6</td><td>5</td><td>4</td><td>3</td><td>2</td><td>1</td></tr>\n",
              "\t<tr><th scope=row></th><td>1</td><td>1</td><td>1</td><td>1</td><td>1</td><td>1</td><td>1</td><td>1</td><td>1</td></tr>\n",
              "</tbody>\n",
              "</table>\n"
            ]
          },
          "metadata": {}
        }
      ]
    },
    {
      "cell_type": "code",
      "metadata": {
        "colab": {
          "base_uri": "https://localhost:8080/",
          "height": 345
        },
        "id": "CI0_G8MStBhA",
        "outputId": "f328eb75-5c4f-4460-d1ef-8fbd68cb098f"
      },
      "source": [
        "cbind(col_1 = x, col_2 = rev(x), col_3 = rep(1, 9))"
      ],
      "execution_count": 20,
      "outputs": [
        {
          "output_type": "display_data",
          "data": {
            "text/plain": [
              "      col_1 col_2 col_3\n",
              " [1,] 1     9     1    \n",
              " [2,] 2     8     1    \n",
              " [3,] 3     7     1    \n",
              " [4,] 4     6     1    \n",
              " [5,] 5     5     1    \n",
              " [6,] 6     4     1    \n",
              " [7,] 7     3     1    \n",
              " [8,] 8     2     1    \n",
              " [9,] 9     1     1    "
            ],
            "text/latex": "A matrix: 9 × 3 of type dbl\n\\begin{tabular}{lll}\n col\\_1 & col\\_2 & col\\_3\\\\\n\\hline\n\t 1 & 9 & 1\\\\\n\t 2 & 8 & 1\\\\\n\t 3 & 7 & 1\\\\\n\t 4 & 6 & 1\\\\\n\t 5 & 5 & 1\\\\\n\t 6 & 4 & 1\\\\\n\t 7 & 3 & 1\\\\\n\t 8 & 2 & 1\\\\\n\t 9 & 1 & 1\\\\\n\\end{tabular}\n",
            "text/markdown": "\nA matrix: 9 × 3 of type dbl\n\n| col_1 | col_2 | col_3 |\n|---|---|---|\n| 1 | 9 | 1 |\n| 2 | 8 | 1 |\n| 3 | 7 | 1 |\n| 4 | 6 | 1 |\n| 5 | 5 | 1 |\n| 6 | 4 | 1 |\n| 7 | 3 | 1 |\n| 8 | 2 | 1 |\n| 9 | 1 | 1 |\n\n",
            "text/html": [
              "<table class=\"dataframe\">\n",
              "<caption>A matrix: 9 × 3 of type dbl</caption>\n",
              "<thead>\n",
              "\t<tr><th scope=col>col_1</th><th scope=col>col_2</th><th scope=col>col_3</th></tr>\n",
              "</thead>\n",
              "<tbody>\n",
              "\t<tr><td>1</td><td>9</td><td>1</td></tr>\n",
              "\t<tr><td>2</td><td>8</td><td>1</td></tr>\n",
              "\t<tr><td>3</td><td>7</td><td>1</td></tr>\n",
              "\t<tr><td>4</td><td>6</td><td>1</td></tr>\n",
              "\t<tr><td>5</td><td>5</td><td>1</td></tr>\n",
              "\t<tr><td>6</td><td>4</td><td>1</td></tr>\n",
              "\t<tr><td>7</td><td>3</td><td>1</td></tr>\n",
              "\t<tr><td>8</td><td>2</td><td>1</td></tr>\n",
              "\t<tr><td>9</td><td>1</td><td>1</td></tr>\n",
              "</tbody>\n",
              "</table>\n"
            ]
          },
          "metadata": {}
        }
      ]
    },
    {
      "cell_type": "markdown",
      "metadata": {
        "id": "B6ZoOwVltBhB"
      },
      "source": [
        "# matrix calculations"
      ]
    },
    {
      "cell_type": "code",
      "metadata": {
        "colab": {
          "base_uri": "https://localhost:8080/",
          "height": 161
        },
        "id": "sL-lzbRdtBhB",
        "outputId": "dc611531-c2cd-4a1a-eb53-508532ade1c7"
      },
      "source": [
        "x = 1:9\n",
        "y = 9:1\n",
        "X = matrix(x, 3, 3)\n",
        "Y = matrix(y, 3, 3)\n",
        "X"
      ],
      "execution_count": 21,
      "outputs": [
        {
          "output_type": "display_data",
          "data": {
            "text/plain": [
              "     [,1] [,2] [,3]\n",
              "[1,] 1    4    7   \n",
              "[2,] 2    5    8   \n",
              "[3,] 3    6    9   "
            ],
            "text/latex": "A matrix: 3 × 3 of type int\n\\begin{tabular}{lll}\n\t 1 & 4 & 7\\\\\n\t 2 & 5 & 8\\\\\n\t 3 & 6 & 9\\\\\n\\end{tabular}\n",
            "text/markdown": "\nA matrix: 3 × 3 of type int\n\n| 1 | 4 | 7 |\n| 2 | 5 | 8 |\n| 3 | 6 | 9 |\n\n",
            "text/html": [
              "<table class=\"dataframe\">\n",
              "<caption>A matrix: 3 × 3 of type int</caption>\n",
              "<tbody>\n",
              "\t<tr><td>1</td><td>4</td><td>7</td></tr>\n",
              "\t<tr><td>2</td><td>5</td><td>8</td></tr>\n",
              "\t<tr><td>3</td><td>6</td><td>9</td></tr>\n",
              "</tbody>\n",
              "</table>\n"
            ]
          },
          "metadata": {}
        }
      ]
    },
    {
      "cell_type": "code",
      "metadata": {
        "colab": {
          "base_uri": "https://localhost:8080/",
          "height": 288
        },
        "id": "Ao_MLn6ctBhB",
        "outputId": "752ea717-bdd3-4e5e-e5fc-197f166a6e4a"
      },
      "source": [
        "X + Y\n",
        "X - Y"
      ],
      "execution_count": 22,
      "outputs": [
        {
          "output_type": "display_data",
          "data": {
            "text/plain": [
              "     [,1] [,2] [,3]\n",
              "[1,] 10   10   10  \n",
              "[2,] 10   10   10  \n",
              "[3,] 10   10   10  "
            ],
            "text/latex": "A matrix: 3 × 3 of type int\n\\begin{tabular}{lll}\n\t 10 & 10 & 10\\\\\n\t 10 & 10 & 10\\\\\n\t 10 & 10 & 10\\\\\n\\end{tabular}\n",
            "text/markdown": "\nA matrix: 3 × 3 of type int\n\n| 10 | 10 | 10 |\n| 10 | 10 | 10 |\n| 10 | 10 | 10 |\n\n",
            "text/html": [
              "<table class=\"dataframe\">\n",
              "<caption>A matrix: 3 × 3 of type int</caption>\n",
              "<tbody>\n",
              "\t<tr><td>10</td><td>10</td><td>10</td></tr>\n",
              "\t<tr><td>10</td><td>10</td><td>10</td></tr>\n",
              "\t<tr><td>10</td><td>10</td><td>10</td></tr>\n",
              "</tbody>\n",
              "</table>\n"
            ]
          },
          "metadata": {}
        },
        {
          "output_type": "display_data",
          "data": {
            "text/plain": [
              "     [,1] [,2] [,3]\n",
              "[1,] -8   -2   4   \n",
              "[2,] -6    0   6   \n",
              "[3,] -4    2   8   "
            ],
            "text/latex": "A matrix: 3 × 3 of type int\n\\begin{tabular}{lll}\n\t -8 & -2 & 4\\\\\n\t -6 &  0 & 6\\\\\n\t -4 &  2 & 8\\\\\n\\end{tabular}\n",
            "text/markdown": "\nA matrix: 3 × 3 of type int\n\n| -8 | -2 | 4 |\n| -6 |  0 | 6 |\n| -4 |  2 | 8 |\n\n",
            "text/html": [
              "<table class=\"dataframe\">\n",
              "<caption>A matrix: 3 × 3 of type int</caption>\n",
              "<tbody>\n",
              "\t<tr><td>-8</td><td>-2</td><td>4</td></tr>\n",
              "\t<tr><td>-6</td><td> 0</td><td>6</td></tr>\n",
              "\t<tr><td>-4</td><td> 2</td><td>8</td></tr>\n",
              "</tbody>\n",
              "</table>\n"
            ]
          },
          "metadata": {}
        }
      ]
    },
    {
      "cell_type": "code",
      "metadata": {
        "colab": {
          "base_uri": "https://localhost:8080/",
          "height": 144
        },
        "id": "oV0SY7DltBhB",
        "outputId": "3893fcec-9612-4f23-8fc7-e10ef38b4d1a"
      },
      "source": [
        "#X * Y is not matrix multiplication. It is element by element multiplication.\n",
        "X * Y "
      ],
      "execution_count": 23,
      "outputs": [
        {
          "output_type": "display_data",
          "data": {
            "text/plain": [
              "     [,1] [,2] [,3]\n",
              "[1,]  9   24   21  \n",
              "[2,] 16   25   16  \n",
              "[3,] 21   24    9  "
            ],
            "text/latex": "A matrix: 3 × 3 of type int\n\\begin{tabular}{lll}\n\t  9 & 24 & 21\\\\\n\t 16 & 25 & 16\\\\\n\t 21 & 24 &  9\\\\\n\\end{tabular}\n",
            "text/markdown": "\nA matrix: 3 × 3 of type int\n\n|  9 | 24 | 21 |\n| 16 | 25 | 16 |\n| 21 | 24 |  9 |\n\n",
            "text/html": [
              "<table class=\"dataframe\">\n",
              "<caption>A matrix: 3 × 3 of type int</caption>\n",
              "<tbody>\n",
              "\t<tr><td> 9</td><td>24</td><td>21</td></tr>\n",
              "\t<tr><td>16</td><td>25</td><td>16</td></tr>\n",
              "\t<tr><td>21</td><td>24</td><td> 9</td></tr>\n",
              "</tbody>\n",
              "</table>\n"
            ]
          },
          "metadata": {}
        }
      ]
    },
    {
      "cell_type": "code",
      "metadata": {
        "colab": {
          "base_uri": "https://localhost:8080/",
          "height": 127
        },
        "id": "9jw9nIhxtBhB",
        "outputId": "ac30f1da-2102-4f92-8bd6-7a9adae007bd"
      },
      "source": [
        "X / Y"
      ],
      "execution_count": 24,
      "outputs": [
        {
          "output_type": "display_data",
          "data": {
            "text/plain": [
              "     [,1]      [,2]      [,3]    \n",
              "[1,] 0.1111111 0.6666667 2.333333\n",
              "[2,] 0.2500000 1.0000000 4.000000\n",
              "[3,] 0.4285714 1.5000000 9.000000"
            ],
            "text/latex": "A matrix: 3 × 3 of type dbl\n\\begin{tabular}{lll}\n\t 0.1111111 & 0.6666667 & 2.333333\\\\\n\t 0.2500000 & 1.0000000 & 4.000000\\\\\n\t 0.4285714 & 1.5000000 & 9.000000\\\\\n\\end{tabular}\n",
            "text/markdown": "\nA matrix: 3 × 3 of type dbl\n\n| 0.1111111 | 0.6666667 | 2.333333 |\n| 0.2500000 | 1.0000000 | 4.000000 |\n| 0.4285714 | 1.5000000 | 9.000000 |\n\n",
            "text/html": [
              "<table class=\"dataframe\">\n",
              "<caption>A matrix: 3 × 3 of type dbl</caption>\n",
              "<tbody>\n",
              "\t<tr><td>0.1111111</td><td>0.6666667</td><td>2.333333</td></tr>\n",
              "\t<tr><td>0.2500000</td><td>1.0000000</td><td>4.000000</td></tr>\n",
              "\t<tr><td>0.4285714</td><td>1.5000000</td><td>9.000000</td></tr>\n",
              "</tbody>\n",
              "</table>\n"
            ]
          },
          "metadata": {}
        }
      ]
    },
    {
      "cell_type": "code",
      "metadata": {
        "colab": {
          "base_uri": "https://localhost:8080/",
          "height": 144
        },
        "id": "pW-t0Ze9tBhC",
        "outputId": "d3d965d9-b3cf-4ab7-9696-5c5720e4180b"
      },
      "source": [
        "#matrix multiplication uses %*%. \n",
        "#Other matrix functions include t() which gives the transpose of a matrix and \n",
        "\n",
        "X %*% Y"
      ],
      "execution_count": 25,
      "outputs": [
        {
          "output_type": "display_data",
          "data": {
            "text/plain": [
              "     [,1] [,2] [,3]\n",
              "[1,]  90  54   18  \n",
              "[2,] 114  69   24  \n",
              "[3,] 138  84   30  "
            ],
            "text/latex": "A matrix: 3 × 3 of type dbl\n\\begin{tabular}{lll}\n\t  90 & 54 & 18\\\\\n\t 114 & 69 & 24\\\\\n\t 138 & 84 & 30\\\\\n\\end{tabular}\n",
            "text/markdown": "\nA matrix: 3 × 3 of type dbl\n\n|  90 | 54 | 18 |\n| 114 | 69 | 24 |\n| 138 | 84 | 30 |\n\n",
            "text/html": [
              "<table class=\"dataframe\">\n",
              "<caption>A matrix: 3 × 3 of type dbl</caption>\n",
              "<tbody>\n",
              "\t<tr><td> 90</td><td>54</td><td>18</td></tr>\n",
              "\t<tr><td>114</td><td>69</td><td>24</td></tr>\n",
              "\t<tr><td>138</td><td>84</td><td>30</td></tr>\n",
              "</tbody>\n",
              "</table>\n"
            ]
          },
          "metadata": {}
        }
      ]
    },
    {
      "cell_type": "code",
      "metadata": {
        "colab": {
          "base_uri": "https://localhost:8080/",
          "height": 161
        },
        "id": "w89-3x9utBhC",
        "outputId": "e2382538-47f5-43ce-e93c-7c531b239442"
      },
      "source": [
        "t(X)"
      ],
      "execution_count": 26,
      "outputs": [
        {
          "output_type": "display_data",
          "data": {
            "text/plain": [
              "     [,1] [,2] [,3]\n",
              "[1,] 1    2    3   \n",
              "[2,] 4    5    6   \n",
              "[3,] 7    8    9   "
            ],
            "text/latex": "A matrix: 3 × 3 of type int\n\\begin{tabular}{lll}\n\t 1 & 2 & 3\\\\\n\t 4 & 5 & 6\\\\\n\t 7 & 8 & 9\\\\\n\\end{tabular}\n",
            "text/markdown": "\nA matrix: 3 × 3 of type int\n\n| 1 | 2 | 3 |\n| 4 | 5 | 6 |\n| 7 | 8 | 9 |\n\n",
            "text/html": [
              "<table class=\"dataframe\">\n",
              "<caption>A matrix: 3 × 3 of type int</caption>\n",
              "<tbody>\n",
              "\t<tr><td>1</td><td>2</td><td>3</td></tr>\n",
              "\t<tr><td>4</td><td>5</td><td>6</td></tr>\n",
              "\t<tr><td>7</td><td>8</td><td>9</td></tr>\n",
              "</tbody>\n",
              "</table>\n"
            ]
          },
          "metadata": {}
        }
      ]
    },
    {
      "cell_type": "code",
      "metadata": {
        "colab": {
          "base_uri": "https://localhost:8080/",
          "height": 254
        },
        "id": "P_KtFbTWtBhC",
        "outputId": "6688895b-4070-4a20-f466-4c83a7cefad4"
      },
      "source": [
        "#solve() which returns the inverse of a square matrix if it is invertible.\n",
        "Z = matrix(c(9, 2, -3, 2, 4, -2, -3, -2, 16), 3, byrow = TRUE)\n",
        "Z\n",
        "solve(Z)"
      ],
      "execution_count": 27,
      "outputs": [
        {
          "output_type": "display_data",
          "data": {
            "text/plain": [
              "     [,1] [,2] [,3]\n",
              "[1,]  9    2   -3  \n",
              "[2,]  2    4   -2  \n",
              "[3,] -3   -2   16  "
            ],
            "text/latex": "A matrix: 3 × 3 of type dbl\n\\begin{tabular}{lll}\n\t  9 &  2 & -3\\\\\n\t  2 &  4 & -2\\\\\n\t -3 & -2 & 16\\\\\n\\end{tabular}\n",
            "text/markdown": "\nA matrix: 3 × 3 of type dbl\n\n|  9 |  2 | -3 |\n|  2 |  4 | -2 |\n| -3 | -2 | 16 |\n\n",
            "text/html": [
              "<table class=\"dataframe\">\n",
              "<caption>A matrix: 3 × 3 of type dbl</caption>\n",
              "<tbody>\n",
              "\t<tr><td> 9</td><td> 2</td><td>-3</td></tr>\n",
              "\t<tr><td> 2</td><td> 4</td><td>-2</td></tr>\n",
              "\t<tr><td>-3</td><td>-2</td><td>16</td></tr>\n",
              "</tbody>\n",
              "</table>\n"
            ]
          },
          "metadata": {}
        },
        {
          "output_type": "display_data",
          "data": {
            "text/plain": [
              "     [,1]        [,2]        [,3]      \n",
              "[1,]  0.12931034 -0.05603448 0.01724138\n",
              "[2,] -0.05603448  0.29094828 0.02586207\n",
              "[3,]  0.01724138  0.02586207 0.06896552"
            ],
            "text/latex": "A matrix: 3 × 3 of type dbl\n\\begin{tabular}{lll}\n\t  0.12931034 & -0.05603448 & 0.01724138\\\\\n\t -0.05603448 &  0.29094828 & 0.02586207\\\\\n\t  0.01724138 &  0.02586207 & 0.06896552\\\\\n\\end{tabular}\n",
            "text/markdown": "\nA matrix: 3 × 3 of type dbl\n\n|  0.12931034 | -0.05603448 | 0.01724138 |\n| -0.05603448 |  0.29094828 | 0.02586207 |\n|  0.01724138 |  0.02586207 | 0.06896552 |\n\n",
            "text/html": [
              "<table class=\"dataframe\">\n",
              "<caption>A matrix: 3 × 3 of type dbl</caption>\n",
              "<tbody>\n",
              "\t<tr><td> 0.12931034</td><td>-0.05603448</td><td>0.01724138</td></tr>\n",
              "\t<tr><td>-0.05603448</td><td> 0.29094828</td><td>0.02586207</td></tr>\n",
              "\t<tr><td> 0.01724138</td><td> 0.02586207</td><td>0.06896552</td></tr>\n",
              "</tbody>\n",
              "</table>\n"
            ]
          },
          "metadata": {}
        }
      ]
    },
    {
      "cell_type": "code",
      "metadata": {
        "colab": {
          "base_uri": "https://localhost:8080/",
          "height": 127
        },
        "id": "Z82t-rTrtBhD",
        "outputId": "a1bf7e17-33fb-475b-87e5-1c052b83976e"
      },
      "source": [
        "options(digits=2) \n",
        "solve(Z) %*% Z"
      ],
      "execution_count": 28,
      "outputs": [
        {
          "output_type": "display_data",
          "data": {
            "text/plain": [
              "     [,1]     [,2]     [,3]    \n",
              "[1,]  1.0e+00 -6.2e-17  0.0e+00\n",
              "[2,]  9.0e-17  1.0e+00 -5.6e-17\n",
              "[3,] -2.8e-17  0.0e+00  1.0e+00"
            ],
            "text/latex": "A matrix: 3 × 3 of type dbl\n\\begin{tabular}{lll}\n\t  1.0e+00 & -6.2e-17 &  0.0e+00\\\\\n\t  9.0e-17 &  1.0e+00 & -5.6e-17\\\\\n\t -2.8e-17 &  0.0e+00 &  1.0e+00\\\\\n\\end{tabular}\n",
            "text/markdown": "\nA matrix: 3 × 3 of type dbl\n\n|  1.0e+00 | -6.2e-17 |  0.0e+00 |\n|  9.0e-17 |  1.0e+00 | -5.6e-17 |\n| -2.8e-17 |  0.0e+00 |  1.0e+00 |\n\n",
            "text/html": [
              "<table class=\"dataframe\">\n",
              "<caption>A matrix: 3 × 3 of type dbl</caption>\n",
              "<tbody>\n",
              "\t<tr><td> 1.0e+00</td><td>-6.2e-17</td><td> 0.0e+00</td></tr>\n",
              "\t<tr><td> 9.0e-17</td><td> 1.0e+00</td><td>-5.6e-17</td></tr>\n",
              "\t<tr><td>-2.8e-17</td><td> 0.0e+00</td><td> 1.0e+00</td></tr>\n",
              "</tbody>\n",
              "</table>\n"
            ]
          },
          "metadata": {}
        }
      ]
    },
    {
      "cell_type": "code",
      "metadata": {
        "colab": {
          "base_uri": "https://localhost:8080/",
          "height": 34
        },
        "id": "ncA5fYwYtBhD",
        "outputId": "0b1377dc-2f7b-479b-9d7a-a96f5a4b6bdc"
      },
      "source": [
        "all.equal(solve(Z) %*% Z, diag(3))"
      ],
      "execution_count": 29,
      "outputs": [
        {
          "output_type": "display_data",
          "data": {
            "text/plain": [
              "[1] TRUE"
            ],
            "text/latex": "TRUE",
            "text/markdown": "TRUE",
            "text/html": [
              "TRUE"
            ]
          },
          "metadata": {}
        }
      ]
    },
    {
      "cell_type": "code",
      "metadata": {
        "colab": {
          "base_uri": "https://localhost:8080/",
          "height": 102
        },
        "id": "817OHSpOtBhD",
        "outputId": "def0dbef-5e5e-4c49-8c60-bec5edd53754"
      },
      "source": [
        "X = matrix(1:6, 2, 3)\n",
        "dim(X)\n",
        "rowSums(X)\n",
        "## [1] 9 12\n",
        "colSums(X)\n",
        "## [1] 3 7 11\n",
        "rowMeans(X)\n",
        "## [1] 3 4\n",
        "colMeans(X)"
      ],
      "execution_count": 30,
      "outputs": [
        {
          "output_type": "display_data",
          "data": {
            "text/plain": [
              "[1] 2 3"
            ],
            "text/latex": "\\begin{enumerate*}\n\\item 2\n\\item 3\n\\end{enumerate*}\n",
            "text/markdown": "1. 2\n2. 3\n\n\n",
            "text/html": [
              "<style>\n",
              ".list-inline {list-style: none; margin:0; padding: 0}\n",
              ".list-inline>li {display: inline-block}\n",
              ".list-inline>li:not(:last-child)::after {content: \"\\00b7\"; padding: 0 .5ex}\n",
              "</style>\n",
              "<ol class=list-inline><li>2</li><li>3</li></ol>\n"
            ]
          },
          "metadata": {}
        },
        {
          "output_type": "display_data",
          "data": {
            "text/plain": [
              "[1]  9 12"
            ],
            "text/latex": "\\begin{enumerate*}\n\\item 9\n\\item 12\n\\end{enumerate*}\n",
            "text/markdown": "1. 9\n2. 12\n\n\n",
            "text/html": [
              "<style>\n",
              ".list-inline {list-style: none; margin:0; padding: 0}\n",
              ".list-inline>li {display: inline-block}\n",
              ".list-inline>li:not(:last-child)::after {content: \"\\00b7\"; padding: 0 .5ex}\n",
              "</style>\n",
              "<ol class=list-inline><li>9</li><li>12</li></ol>\n"
            ]
          },
          "metadata": {}
        },
        {
          "output_type": "display_data",
          "data": {
            "text/plain": [
              "[1]  3  7 11"
            ],
            "text/latex": "\\begin{enumerate*}\n\\item 3\n\\item 7\n\\item 11\n\\end{enumerate*}\n",
            "text/markdown": "1. 3\n2. 7\n3. 11\n\n\n",
            "text/html": [
              "<style>\n",
              ".list-inline {list-style: none; margin:0; padding: 0}\n",
              ".list-inline>li {display: inline-block}\n",
              ".list-inline>li:not(:last-child)::after {content: \"\\00b7\"; padding: 0 .5ex}\n",
              "</style>\n",
              "<ol class=list-inline><li>3</li><li>7</li><li>11</li></ol>\n"
            ]
          },
          "metadata": {}
        },
        {
          "output_type": "display_data",
          "data": {
            "text/plain": [
              "[1] 3 4"
            ],
            "text/latex": "\\begin{enumerate*}\n\\item 3\n\\item 4\n\\end{enumerate*}\n",
            "text/markdown": "1. 3\n2. 4\n\n\n",
            "text/html": [
              "<style>\n",
              ".list-inline {list-style: none; margin:0; padding: 0}\n",
              ".list-inline>li {display: inline-block}\n",
              ".list-inline>li:not(:last-child)::after {content: \"\\00b7\"; padding: 0 .5ex}\n",
              "</style>\n",
              "<ol class=list-inline><li>3</li><li>4</li></ol>\n"
            ]
          },
          "metadata": {}
        },
        {
          "output_type": "display_data",
          "data": {
            "text/plain": [
              "[1] 1.5 3.5 5.5"
            ],
            "text/latex": "\\begin{enumerate*}\n\\item 1.5\n\\item 3.5\n\\item 5.5\n\\end{enumerate*}\n",
            "text/markdown": "1. 1.5\n2. 3.5\n3. 5.5\n\n\n",
            "text/html": [
              "<style>\n",
              ".list-inline {list-style: none; margin:0; padding: 0}\n",
              ".list-inline>li {display: inline-block}\n",
              ".list-inline>li:not(:last-child)::after {content: \"\\00b7\"; padding: 0 .5ex}\n",
              "</style>\n",
              "<ol class=list-inline><li>1.5</li><li>3.5</li><li>5.5</li></ol>\n"
            ]
          },
          "metadata": {}
        }
      ]
    },
    {
      "cell_type": "code",
      "metadata": {
        "colab": {
          "base_uri": "https://localhost:8080/",
          "height": 206
        },
        "id": "h-GEEdjNtBhD",
        "outputId": "613e67ba-ffa6-4e23-ecae-121a732e3714"
      },
      "source": [
        "diag(1:5)"
      ],
      "execution_count": 31,
      "outputs": [
        {
          "output_type": "display_data",
          "data": {
            "text/plain": [
              "     [,1] [,2] [,3] [,4] [,5]\n",
              "[1,] 1    0    0    0    0   \n",
              "[2,] 0    2    0    0    0   \n",
              "[3,] 0    0    3    0    0   \n",
              "[4,] 0    0    0    4    0   \n",
              "[5,] 0    0    0    0    5   "
            ],
            "text/latex": "A matrix: 5 × 5 of type int\n\\begin{tabular}{lllll}\n\t 1 & 0 & 0 & 0 & 0\\\\\n\t 0 & 2 & 0 & 0 & 0\\\\\n\t 0 & 0 & 3 & 0 & 0\\\\\n\t 0 & 0 & 0 & 4 & 0\\\\\n\t 0 & 0 & 0 & 0 & 5\\\\\n\\end{tabular}\n",
            "text/markdown": "\nA matrix: 5 × 5 of type int\n\n| 1 | 0 | 0 | 0 | 0 |\n| 0 | 2 | 0 | 0 | 0 |\n| 0 | 0 | 3 | 0 | 0 |\n| 0 | 0 | 0 | 4 | 0 |\n| 0 | 0 | 0 | 0 | 5 |\n\n",
            "text/html": [
              "<table class=\"dataframe\">\n",
              "<caption>A matrix: 5 × 5 of type int</caption>\n",
              "<tbody>\n",
              "\t<tr><td>1</td><td>0</td><td>0</td><td>0</td><td>0</td></tr>\n",
              "\t<tr><td>0</td><td>2</td><td>0</td><td>0</td><td>0</td></tr>\n",
              "\t<tr><td>0</td><td>0</td><td>3</td><td>0</td><td>0</td></tr>\n",
              "\t<tr><td>0</td><td>0</td><td>0</td><td>4</td><td>0</td></tr>\n",
              "\t<tr><td>0</td><td>0</td><td>0</td><td>0</td><td>5</td></tr>\n",
              "</tbody>\n",
              "</table>\n"
            ]
          },
          "metadata": {}
        }
      ]
    },
    {
      "cell_type": "code",
      "metadata": {
        "colab": {
          "base_uri": "https://localhost:8080/",
          "height": 206
        },
        "id": "3RErrjidtBhD",
        "outputId": "f6f8bb9f-ddcf-48a8-bd91-b3d3998fb7b7"
      },
      "source": [
        "diag(5)"
      ],
      "execution_count": 32,
      "outputs": [
        {
          "output_type": "display_data",
          "data": {
            "text/plain": [
              "     [,1] [,2] [,3] [,4] [,5]\n",
              "[1,] 1    0    0    0    0   \n",
              "[2,] 0    1    0    0    0   \n",
              "[3,] 0    0    1    0    0   \n",
              "[4,] 0    0    0    1    0   \n",
              "[5,] 0    0    0    0    1   "
            ],
            "text/latex": "A matrix: 5 × 5 of type dbl\n\\begin{tabular}{lllll}\n\t 1 & 0 & 0 & 0 & 0\\\\\n\t 0 & 1 & 0 & 0 & 0\\\\\n\t 0 & 0 & 1 & 0 & 0\\\\\n\t 0 & 0 & 0 & 1 & 0\\\\\n\t 0 & 0 & 0 & 0 & 1\\\\\n\\end{tabular}\n",
            "text/markdown": "\nA matrix: 5 × 5 of type dbl\n\n| 1 | 0 | 0 | 0 | 0 |\n| 0 | 1 | 0 | 0 | 0 |\n| 0 | 0 | 1 | 0 | 0 |\n| 0 | 0 | 0 | 1 | 0 |\n| 0 | 0 | 0 | 0 | 1 |\n\n",
            "text/html": [
              "<table class=\"dataframe\">\n",
              "<caption>A matrix: 5 × 5 of type dbl</caption>\n",
              "<tbody>\n",
              "\t<tr><td>1</td><td>0</td><td>0</td><td>0</td><td>0</td></tr>\n",
              "\t<tr><td>0</td><td>1</td><td>0</td><td>0</td><td>0</td></tr>\n",
              "\t<tr><td>0</td><td>0</td><td>1</td><td>0</td><td>0</td></tr>\n",
              "\t<tr><td>0</td><td>0</td><td>0</td><td>1</td><td>0</td></tr>\n",
              "\t<tr><td>0</td><td>0</td><td>0</td><td>0</td><td>1</td></tr>\n",
              "</tbody>\n",
              "</table>\n"
            ]
          },
          "metadata": {}
        }
      ]
    },
    {
      "cell_type": "markdown",
      "metadata": {
        "id": "zn88a_ERtBhE"
      },
      "source": [
        "# Calculations with Vectors and Matrices\n",
        "Certain operations in R, for example %*% have different behavior on vectors and\n",
        "matrices. To illustrate this, we will first create two vectors."
      ]
    },
    {
      "cell_type": "code",
      "metadata": {
        "colab": {
          "base_uri": "https://localhost:8080/",
          "height": 51
        },
        "id": "Trj9_r2RtBhE",
        "outputId": "7f319c5c-2ec4-4007-b10d-2f31946935a2"
      },
      "source": [
        "a_vec = c(1, 2, 3)\n",
        "b_vec = c(2, 2, 2)\n",
        "#Note that these are indeed vectors. They are not matrices.\n",
        "c(is.vector(a_vec), is.vector(b_vec))\n",
        "## [1] TRUE TRUE\n",
        "c(is.matrix(a_vec), is.matrix(b_vec))"
      ],
      "execution_count": 33,
      "outputs": [
        {
          "output_type": "display_data",
          "data": {
            "text/plain": [
              "[1] TRUE TRUE"
            ],
            "text/latex": "\\begin{enumerate*}\n\\item TRUE\n\\item TRUE\n\\end{enumerate*}\n",
            "text/markdown": "1. TRUE\n2. TRUE\n\n\n",
            "text/html": [
              "<style>\n",
              ".list-inline {list-style: none; margin:0; padding: 0}\n",
              ".list-inline>li {display: inline-block}\n",
              ".list-inline>li:not(:last-child)::after {content: \"\\00b7\"; padding: 0 .5ex}\n",
              "</style>\n",
              "<ol class=list-inline><li>TRUE</li><li>TRUE</li></ol>\n"
            ]
          },
          "metadata": {}
        },
        {
          "output_type": "display_data",
          "data": {
            "text/plain": [
              "[1] FALSE FALSE"
            ],
            "text/latex": "\\begin{enumerate*}\n\\item FALSE\n\\item FALSE\n\\end{enumerate*}\n",
            "text/markdown": "1. FALSE\n2. FALSE\n\n\n",
            "text/html": [
              "<style>\n",
              ".list-inline {list-style: none; margin:0; padding: 0}\n",
              ".list-inline>li {display: inline-block}\n",
              ".list-inline>li:not(:last-child)::after {content: \"\\00b7\"; padding: 0 .5ex}\n",
              "</style>\n",
              "<ol class=list-inline><li>FALSE</li><li>FALSE</li></ol>\n"
            ]
          },
          "metadata": {}
        }
      ]
    },
    {
      "cell_type": "markdown",
      "metadata": {
        "id": "K06QMTCVtBhE"
      },
      "source": [
        "When this is the case, the %*% operator is used to calculate the dot product,\n",
        "also know as the inner product of the two vectors.\n",
        "The dot product of vectors 𝑎 = [𝑎1\n",
        ", 𝑎2\n",
        ", ⋯ 𝑎𝑛] and 𝑏 = [𝑏1\n",
        ", 𝑏2\n",
        ", ⋯ 𝑏𝑛] is defined to\n",
        "be\n",
        "𝑎 ⋅ 𝑏 =\n",
        "𝑛\n",
        "∑\n",
        "𝑖=1\n",
        "𝑎𝑖\n",
        "𝑏𝑖 = 𝑎1\n",
        "𝑏1 + 𝑎2\n",
        "𝑏2 + ⋯ 𝑎𝑛𝑏𝑛."
      ]
    },
    {
      "cell_type": "code",
      "metadata": {
        "colab": {
          "base_uri": "https://localhost:8080/",
          "height": 294
        },
        "id": "QgQQfPw9tBhF",
        "outputId": "5e95cff9-dfbb-4b9e-a7b0-107b88b8ba72"
      },
      "source": [
        "a_vec %*% b_vec # inner product\n",
        "a_vec %o% b_vec # outer product"
      ],
      "execution_count": 34,
      "outputs": [
        {
          "output_type": "display_data",
          "data": {
            "text/plain": [
              "     [,1]\n",
              "[1,] 12  "
            ],
            "text/latex": "A matrix: 1 × 1 of type dbl\n\\begin{tabular}{l}\n\t 12\\\\\n\\end{tabular}\n",
            "text/markdown": "\nA matrix: 1 × 1 of type dbl\n\n| 12 |\n\n",
            "text/html": [
              "<table class=\"dataframe\">\n",
              "<caption>A matrix: 1 × 1 of type dbl</caption>\n",
              "<tbody>\n",
              "\t<tr><td>12</td></tr>\n",
              "</tbody>\n",
              "</table>\n"
            ]
          },
          "metadata": {}
        },
        {
          "output_type": "display_data",
          "data": {
            "text/plain": [
              "     [,1] [,2] [,3]\n",
              "[1,] 2    2    2   \n",
              "[2,] 4    4    4   \n",
              "[3,] 6    6    6   "
            ],
            "text/latex": "A matrix: 3 × 3 of type dbl\n\\begin{tabular}{lll}\n\t 2 & 2 & 2\\\\\n\t 4 & 4 & 4\\\\\n\t 6 & 6 & 6\\\\\n\\end{tabular}\n",
            "text/markdown": "\nA matrix: 3 × 3 of type dbl\n\n| 2 | 2 | 2 |\n| 4 | 4 | 4 |\n| 6 | 6 | 6 |\n\n",
            "text/html": [
              "<table class=\"dataframe\">\n",
              "<caption>A matrix: 3 × 3 of type dbl</caption>\n",
              "<tbody>\n",
              "\t<tr><td>2</td><td>2</td><td>2</td></tr>\n",
              "\t<tr><td>4</td><td>4</td><td>4</td></tr>\n",
              "\t<tr><td>6</td><td>6</td><td>6</td></tr>\n",
              "</tbody>\n",
              "</table>\n"
            ]
          },
          "metadata": {}
        }
      ]
    },
    {
      "cell_type": "code",
      "metadata": {
        "colab": {
          "base_uri": "https://localhost:8080/",
          "height": 294
        },
        "id": "Lm2_Md0stBhF",
        "outputId": "2bd95227-6823-4760-932d-43577b85980c"
      },
      "source": [
        "crossprod(a_vec, b_vec) # inner product\n",
        "tcrossprod(a_vec, b_vec) # outer product"
      ],
      "execution_count": 35,
      "outputs": [
        {
          "output_type": "display_data",
          "data": {
            "text/plain": [
              "     [,1]\n",
              "[1,] 12  "
            ],
            "text/latex": "A matrix: 1 × 1 of type dbl\n\\begin{tabular}{l}\n\t 12\\\\\n\\end{tabular}\n",
            "text/markdown": "\nA matrix: 1 × 1 of type dbl\n\n| 12 |\n\n",
            "text/html": [
              "<table class=\"dataframe\">\n",
              "<caption>A matrix: 1 × 1 of type dbl</caption>\n",
              "<tbody>\n",
              "\t<tr><td>12</td></tr>\n",
              "</tbody>\n",
              "</table>\n"
            ]
          },
          "metadata": {}
        },
        {
          "output_type": "display_data",
          "data": {
            "text/plain": [
              "     [,1] [,2] [,3]\n",
              "[1,] 2    2    2   \n",
              "[2,] 4    4    4   \n",
              "[3,] 6    6    6   "
            ],
            "text/latex": "A matrix: 3 × 3 of type dbl\n\\begin{tabular}{lll}\n\t 2 & 2 & 2\\\\\n\t 4 & 4 & 4\\\\\n\t 6 & 6 & 6\\\\\n\\end{tabular}\n",
            "text/markdown": "\nA matrix: 3 × 3 of type dbl\n\n| 2 | 2 | 2 |\n| 4 | 4 | 4 |\n| 6 | 6 | 6 |\n\n",
            "text/html": [
              "<table class=\"dataframe\">\n",
              "<caption>A matrix: 3 × 3 of type dbl</caption>\n",
              "<tbody>\n",
              "\t<tr><td>2</td><td>2</td><td>2</td></tr>\n",
              "\t<tr><td>4</td><td>4</td><td>4</td></tr>\n",
              "\t<tr><td>6</td><td>6</td><td>6</td></tr>\n",
              "</tbody>\n",
              "</table>\n"
            ]
          },
          "metadata": {}
        }
      ]
    },
    {
      "cell_type": "code",
      "metadata": {
        "colab": {
          "base_uri": "https://localhost:8080/",
          "height": 212
        },
        "id": "TRrt_dWrtBhF",
        "outputId": "571ac262-5979-4201-b92f-971cdb008208"
      },
      "source": [
        "as.matrix(a_vec)"
      ],
      "execution_count": 36,
      "outputs": [
        {
          "output_type": "display_data",
          "data": {
            "text/plain": [
              "     [,1]\n",
              "[1,] 1   \n",
              "[2,] 2   \n",
              "[3,] 3   "
            ],
            "text/latex": "A matrix: 3 × 1 of type dbl\n\\begin{tabular}{l}\n\t 1\\\\\n\t 2\\\\\n\t 3\\\\\n\\end{tabular}\n",
            "text/markdown": "\nA matrix: 3 × 1 of type dbl\n\n| 1 |\n| 2 |\n| 3 |\n\n",
            "text/html": [
              "<table class=\"dataframe\">\n",
              "<caption>A matrix: 3 × 1 of type dbl</caption>\n",
              "<tbody>\n",
              "\t<tr><td>1</td></tr>\n",
              "\t<tr><td>2</td></tr>\n",
              "\t<tr><td>3</td></tr>\n",
              "</tbody>\n",
              "</table>\n"
            ]
          },
          "metadata": {}
        }
      ]
    },
    {
      "cell_type": "code",
      "metadata": {
        "colab": {
          "base_uri": "https://localhost:8080/",
          "height": 240
        },
        "id": "eCA-zjzdtBhF",
        "outputId": "7189d982-71ac-4c49-ad8e-cb98a310489a"
      },
      "source": [
        "as.matrix(a_vec) %*% b_vec\n",
        "as.matrix(a_vec) %*% as.matrix(b_vec)"
      ],
      "execution_count": 37,
      "outputs": [
        {
          "output_type": "display_data",
          "data": {
            "text/plain": [
              "     [,1] [,2] [,3]\n",
              "[1,] 2    2    2   \n",
              "[2,] 4    4    4   \n",
              "[3,] 6    6    6   "
            ],
            "text/latex": "A matrix: 3 × 3 of type dbl\n\\begin{tabular}{lll}\n\t 2 & 2 & 2\\\\\n\t 4 & 4 & 4\\\\\n\t 6 & 6 & 6\\\\\n\\end{tabular}\n",
            "text/markdown": "\nA matrix: 3 × 3 of type dbl\n\n| 2 | 2 | 2 |\n| 4 | 4 | 4 |\n| 6 | 6 | 6 |\n\n",
            "text/html": [
              "<table class=\"dataframe\">\n",
              "<caption>A matrix: 3 × 3 of type dbl</caption>\n",
              "<tbody>\n",
              "\t<tr><td>2</td><td>2</td><td>2</td></tr>\n",
              "\t<tr><td>4</td><td>4</td><td>4</td></tr>\n",
              "\t<tr><td>6</td><td>6</td><td>6</td></tr>\n",
              "</tbody>\n",
              "</table>\n"
            ]
          },
          "metadata": {}
        },
        {
          "output_type": "error",
          "ename": "ERROR",
          "evalue": "ignored",
          "traceback": [
            "Error in as.matrix(a_vec) %*% as.matrix(b_vec): non-conformable arguments\nTraceback:\n"
          ]
        }
      ]
    },
    {
      "cell_type": "code",
      "metadata": {
        "colab": {
          "base_uri": "https://localhost:8080/",
          "height": 415
        },
        "id": "5y9xwksttBhG",
        "outputId": "3087c7fc-1722-4c7a-9932-905d2d1ddb76"
      },
      "source": [
        "C_mat = matrix(c(1, 2, 3, 4, 5, 6), 2, 3)\n",
        "D_mat = matrix(c(2, 2, 2, 2, 2, 2), 2, 3)\n",
        "#This is useful both as a shortcut for a frequent calculation and as a more efficient\n",
        "#implementation than using t() and %*%.\n",
        "crossprod(C_mat, D_mat)\n",
        "t(C_mat) %*% D_mat\n",
        "\n",
        "all.equal(crossprod(C_mat, D_mat), t(C_mat) %*% D_mat)\n",
        "## [1] TRUE\n",
        "crossprod(C_mat, C_mat)"
      ],
      "execution_count": 38,
      "outputs": [
        {
          "output_type": "display_data",
          "data": {
            "text/plain": [
              "     [,1] [,2] [,3]\n",
              "[1,]  6    6    6  \n",
              "[2,] 14   14   14  \n",
              "[3,] 22   22   22  "
            ],
            "text/latex": "A matrix: 3 × 3 of type dbl\n\\begin{tabular}{lll}\n\t  6 &  6 &  6\\\\\n\t 14 & 14 & 14\\\\\n\t 22 & 22 & 22\\\\\n\\end{tabular}\n",
            "text/markdown": "\nA matrix: 3 × 3 of type dbl\n\n|  6 |  6 |  6 |\n| 14 | 14 | 14 |\n| 22 | 22 | 22 |\n\n",
            "text/html": [
              "<table class=\"dataframe\">\n",
              "<caption>A matrix: 3 × 3 of type dbl</caption>\n",
              "<tbody>\n",
              "\t<tr><td> 6</td><td> 6</td><td> 6</td></tr>\n",
              "\t<tr><td>14</td><td>14</td><td>14</td></tr>\n",
              "\t<tr><td>22</td><td>22</td><td>22</td></tr>\n",
              "</tbody>\n",
              "</table>\n"
            ]
          },
          "metadata": {}
        },
        {
          "output_type": "display_data",
          "data": {
            "text/plain": [
              "     [,1] [,2] [,3]\n",
              "[1,]  6    6    6  \n",
              "[2,] 14   14   14  \n",
              "[3,] 22   22   22  "
            ],
            "text/latex": "A matrix: 3 × 3 of type dbl\n\\begin{tabular}{lll}\n\t  6 &  6 &  6\\\\\n\t 14 & 14 & 14\\\\\n\t 22 & 22 & 22\\\\\n\\end{tabular}\n",
            "text/markdown": "\nA matrix: 3 × 3 of type dbl\n\n|  6 |  6 |  6 |\n| 14 | 14 | 14 |\n| 22 | 22 | 22 |\n\n",
            "text/html": [
              "<table class=\"dataframe\">\n",
              "<caption>A matrix: 3 × 3 of type dbl</caption>\n",
              "<tbody>\n",
              "\t<tr><td> 6</td><td> 6</td><td> 6</td></tr>\n",
              "\t<tr><td>14</td><td>14</td><td>14</td></tr>\n",
              "\t<tr><td>22</td><td>22</td><td>22</td></tr>\n",
              "</tbody>\n",
              "</table>\n"
            ]
          },
          "metadata": {}
        },
        {
          "output_type": "display_data",
          "data": {
            "text/plain": [
              "[1] TRUE"
            ],
            "text/latex": "TRUE",
            "text/markdown": "TRUE",
            "text/html": [
              "TRUE"
            ]
          },
          "metadata": {}
        },
        {
          "output_type": "display_data",
          "data": {
            "text/plain": [
              "     [,1] [,2] [,3]\n",
              "[1,]  5   11   17  \n",
              "[2,] 11   25   39  \n",
              "[3,] 17   39   61  "
            ],
            "text/latex": "A matrix: 3 × 3 of type dbl\n\\begin{tabular}{lll}\n\t  5 & 11 & 17\\\\\n\t 11 & 25 & 39\\\\\n\t 17 & 39 & 61\\\\\n\\end{tabular}\n",
            "text/markdown": "\nA matrix: 3 × 3 of type dbl\n\n|  5 | 11 | 17 |\n| 11 | 25 | 39 |\n| 17 | 39 | 61 |\n\n",
            "text/html": [
              "<table class=\"dataframe\">\n",
              "<caption>A matrix: 3 × 3 of type dbl</caption>\n",
              "<tbody>\n",
              "\t<tr><td> 5</td><td>11</td><td>17</td></tr>\n",
              "\t<tr><td>11</td><td>25</td><td>39</td></tr>\n",
              "\t<tr><td>17</td><td>39</td><td>61</td></tr>\n",
              "</tbody>\n",
              "</table>\n"
            ]
          },
          "metadata": {}
        }
      ]
    },
    {
      "cell_type": "markdown",
      "metadata": {
        "id": "eADx_cyPtBhG"
      },
      "source": [
        "# Lists"
      ]
    },
    {
      "cell_type": "code",
      "metadata": {
        "id": "Z0_Ril3ltBhG"
      },
      "source": [
        "#A list is a one-dimensional heterogeneous data structure. \n",
        "#So it is indexed like a vector with a single integer value, but each element can contain an element of any type."
      ],
      "execution_count": 39,
      "outputs": []
    },
    {
      "cell_type": "code",
      "metadata": {
        "colab": {
          "base_uri": "https://localhost:8080/",
          "height": 96
        },
        "id": "M3LEoZlhtBhG",
        "outputId": "bd4fc2b3-483a-4094-b12a-a098ab891df1"
      },
      "source": [
        "# creation\n",
        "list(42, \"Hello\", TRUE)"
      ],
      "execution_count": 40,
      "outputs": [
        {
          "output_type": "display_data",
          "data": {
            "text/plain": [
              "[[1]]\n",
              "[1] 42\n",
              "\n",
              "[[2]]\n",
              "[1] \"Hello\"\n",
              "\n",
              "[[3]]\n",
              "[1] TRUE\n"
            ],
            "text/latex": "\\begin{enumerate}\n\\item 42\n\\item 'Hello'\n\\item TRUE\n\\end{enumerate}\n",
            "text/markdown": "1. 42\n2. 'Hello'\n3. TRUE\n\n\n",
            "text/html": [
              "<ol>\n",
              "\t<li>42</li>\n",
              "\t<li>'Hello'</li>\n",
              "\t<li>TRUE</li>\n",
              "</ol>\n"
            ]
          },
          "metadata": {}
        }
      ]
    },
    {
      "cell_type": "code",
      "metadata": {
        "colab": {
          "base_uri": "https://localhost:8080/",
          "height": 438
        },
        "id": "YIk_DP42tBhH",
        "outputId": "babe94c8-61e2-4c59-ae42-5deda2b9d516"
      },
      "source": [
        "ex_list = list(\n",
        "                a = c(1, 2, 3, 4),\n",
        "                b = TRUE,\n",
        "                c = \"Hello!\",\n",
        "                d = function(arg = 42) {print(\"Hello World!\")},\n",
        "                e = diag(5)\n",
        "                )\n",
        "\n",
        "ex_list"
      ],
      "execution_count": 41,
      "outputs": [
        {
          "output_type": "display_data",
          "data": {
            "text/plain": [
              "$a\n",
              "[1] 1 2 3 4\n",
              "\n",
              "$b\n",
              "[1] TRUE\n",
              "\n",
              "$c\n",
              "[1] \"Hello!\"\n",
              "\n",
              "$d\n",
              "function(arg = 42) {print(\"Hello World!\")}\n",
              "\n",
              "$e\n",
              "     [,1] [,2] [,3] [,4] [,5]\n",
              "[1,]    1    0    0    0    0\n",
              "[2,]    0    1    0    0    0\n",
              "[3,]    0    0    1    0    0\n",
              "[4,]    0    0    0    1    0\n",
              "[5,]    0    0    0    0    1\n"
            ],
            "text/latex": "\\begin{description}\n\\item[\\$a] \\begin{enumerate*}\n\\item 1\n\\item 2\n\\item 3\n\\item 4\n\\end{enumerate*}\n\n\\item[\\$b] TRUE\n\\item[\\$c] 'Hello!'\n\\item[\\$d] \\begin{minted}{r}\nfunction (arg = 42) \n\\{\n    print(\"Hello World!\")\n\\}\n\\end{minted}\n\\item[\\$e] A matrix: 5 × 5 of type dbl\n\\begin{tabular}{lllll}\n\t 1 & 0 & 0 & 0 & 0\\\\\n\t 0 & 1 & 0 & 0 & 0\\\\\n\t 0 & 0 & 1 & 0 & 0\\\\\n\t 0 & 0 & 0 & 1 & 0\\\\\n\t 0 & 0 & 0 & 0 & 1\\\\\n\\end{tabular}\n\n\\end{description}\n",
            "text/markdown": "$a\n:   1. 1\n2. 2\n3. 3\n4. 4\n\n\n\n$b\n:   TRUE\n$c\n:   'Hello!'\n$d\n:   ```r\nfunction (arg = 42) \n{\n    print(\"Hello World!\")\n}\n```\n$e\n:   \nA matrix: 5 × 5 of type dbl\n\n| 1 | 0 | 0 | 0 | 0 |\n| 0 | 1 | 0 | 0 | 0 |\n| 0 | 0 | 1 | 0 | 0 |\n| 0 | 0 | 0 | 1 | 0 |\n| 0 | 0 | 0 | 0 | 1 |\n\n\n\n\n",
            "text/html": [
              "<dl>\n",
              "\t<dt>$a</dt>\n",
              "\t\t<dd><style>\n",
              ".list-inline {list-style: none; margin:0; padding: 0}\n",
              ".list-inline>li {display: inline-block}\n",
              ".list-inline>li:not(:last-child)::after {content: \"\\00b7\"; padding: 0 .5ex}\n",
              "</style>\n",
              "<ol class=list-inline><li>1</li><li>2</li><li>3</li><li>4</li></ol>\n",
              "</dd>\n",
              "\t<dt>$b</dt>\n",
              "\t\t<dd>TRUE</dd>\n",
              "\t<dt>$c</dt>\n",
              "\t\t<dd>'Hello!'</dd>\n",
              "\t<dt>$d</dt>\n",
              "\t\t<dd><pre class=language-r><code>function (arg = 42) \n",
              "{\n",
              "<span style=white-space:pre-wrap>    print(\"Hello World!\")</span>\n",
              "}</code></pre></dd>\n",
              "\t<dt>$e</dt>\n",
              "\t\t<dd><table class=\"dataframe\">\n",
              "<caption>A matrix: 5 × 5 of type dbl</caption>\n",
              "<tbody>\n",
              "\t<tr><td>1</td><td>0</td><td>0</td><td>0</td><td>0</td></tr>\n",
              "\t<tr><td>0</td><td>1</td><td>0</td><td>0</td><td>0</td></tr>\n",
              "\t<tr><td>0</td><td>0</td><td>1</td><td>0</td><td>0</td></tr>\n",
              "\t<tr><td>0</td><td>0</td><td>0</td><td>1</td><td>0</td></tr>\n",
              "\t<tr><td>0</td><td>0</td><td>0</td><td>0</td><td>1</td></tr>\n",
              "</tbody>\n",
              "</table>\n",
              "</dd>\n",
              "</dl>\n"
            ]
          },
          "metadata": {}
        }
      ]
    },
    {
      "cell_type": "code",
      "metadata": {
        "id": "vl8USXvmtBhH"
      },
      "source": [
        "#Lists can be subset using two syntaxes, the $ operator, and square brackets [].\n",
        "#The $ operator returns a named element of a list. \n",
        "#The [] syntax returns a list, while \n",
        "#the [[]] returns an element of a list."
      ],
      "execution_count": 42,
      "outputs": []
    },
    {
      "cell_type": "code",
      "metadata": {
        "colab": {
          "base_uri": "https://localhost:8080/",
          "height": 34
        },
        "id": "6sXfIpcAtBhH",
        "outputId": "c2a4c77e-26b2-4c78-f315-b0fe8011d169"
      },
      "source": [
        "# subsetting\n",
        "ex_list$a"
      ],
      "execution_count": 43,
      "outputs": [
        {
          "output_type": "display_data",
          "data": {
            "text/plain": [
              "[1] 1 2 3 4"
            ],
            "text/latex": "\\begin{enumerate*}\n\\item 1\n\\item 2\n\\item 3\n\\item 4\n\\end{enumerate*}\n",
            "text/markdown": "1. 1\n2. 2\n3. 3\n4. 4\n\n\n",
            "text/html": [
              "<style>\n",
              ".list-inline {list-style: none; margin:0; padding: 0}\n",
              ".list-inline>li {display: inline-block}\n",
              ".list-inline>li:not(:last-child)::after {content: \"\\00b7\"; padding: 0 .5ex}\n",
              "</style>\n",
              "<ol class=list-inline><li>1</li><li>2</li><li>3</li><li>4</li></ol>\n"
            ]
          },
          "metadata": {}
        }
      ]
    },
    {
      "cell_type": "code",
      "metadata": {
        "colab": {
          "base_uri": "https://localhost:8080/",
          "height": 113
        },
        "id": "5ziUtlh4tBhI",
        "outputId": "342f53de-2211-4698-a990-7b6aee1e15c8"
      },
      "source": [
        "ex_list[1:2]"
      ],
      "execution_count": 44,
      "outputs": [
        {
          "output_type": "display_data",
          "data": {
            "text/plain": [
              "$a\n",
              "[1] 1 2 3 4\n",
              "\n",
              "$b\n",
              "[1] TRUE\n"
            ],
            "text/latex": "\\begin{description}\n\\item[\\$a] \\begin{enumerate*}\n\\item 1\n\\item 2\n\\item 3\n\\item 4\n\\end{enumerate*}\n\n\\item[\\$b] TRUE\n\\end{description}\n",
            "text/markdown": "$a\n:   1. 1\n2. 2\n3. 3\n4. 4\n\n\n\n$b\n:   TRUE\n\n\n",
            "text/html": [
              "<dl>\n",
              "\t<dt>$a</dt>\n",
              "\t\t<dd><style>\n",
              ".list-inline {list-style: none; margin:0; padding: 0}\n",
              ".list-inline>li {display: inline-block}\n",
              ".list-inline>li:not(:last-child)::after {content: \"\\00b7\"; padding: 0 .5ex}\n",
              "</style>\n",
              "<ol class=list-inline><li>1</li><li>2</li><li>3</li><li>4</li></ol>\n",
              "</dd>\n",
              "\t<dt>$b</dt>\n",
              "\t\t<dd>TRUE</dd>\n",
              "</dl>\n"
            ]
          },
          "metadata": {}
        }
      ]
    },
    {
      "cell_type": "code",
      "metadata": {
        "colab": {
          "base_uri": "https://localhost:8080/",
          "height": 336
        },
        "id": "0Fn4fecWtBhI",
        "outputId": "d5a97f09-5935-47ff-edd5-334cd8910685"
      },
      "source": [
        "ex_list[1]\n",
        "## $a\n",
        "## [1] 1 2 3 4\n",
        "ex_list[[1]]\n",
        "## [1] 1 2 3 4\n",
        "ex_list[c(\"e\", \"a\")]"
      ],
      "execution_count": 45,
      "outputs": [
        {
          "output_type": "display_data",
          "data": {
            "text/plain": [
              "$a\n",
              "[1] 1 2 3 4\n"
            ],
            "text/latex": "\\textbf{\\$a} = \\begin{enumerate*}\n\\item 1\n\\item 2\n\\item 3\n\\item 4\n\\end{enumerate*}\n",
            "text/markdown": "**$a** = 1. 1\n2. 2\n3. 3\n4. 4\n\n\n",
            "text/html": [
              "<strong>$a</strong> = <style>\n",
              ".list-inline {list-style: none; margin:0; padding: 0}\n",
              ".list-inline>li {display: inline-block}\n",
              ".list-inline>li:not(:last-child)::after {content: \"\\00b7\"; padding: 0 .5ex}\n",
              "</style>\n",
              "<ol class=list-inline><li>1</li><li>2</li><li>3</li><li>4</li></ol>\n"
            ]
          },
          "metadata": {}
        },
        {
          "output_type": "display_data",
          "data": {
            "text/plain": [
              "[1] 1 2 3 4"
            ],
            "text/latex": "\\begin{enumerate*}\n\\item 1\n\\item 2\n\\item 3\n\\item 4\n\\end{enumerate*}\n",
            "text/markdown": "1. 1\n2. 2\n3. 3\n4. 4\n\n\n",
            "text/html": [
              "<style>\n",
              ".list-inline {list-style: none; margin:0; padding: 0}\n",
              ".list-inline>li {display: inline-block}\n",
              ".list-inline>li:not(:last-child)::after {content: \"\\00b7\"; padding: 0 .5ex}\n",
              "</style>\n",
              "<ol class=list-inline><li>1</li><li>2</li><li>3</li><li>4</li></ol>\n"
            ]
          },
          "metadata": {}
        },
        {
          "output_type": "display_data",
          "data": {
            "text/plain": [
              "$e\n",
              "     [,1] [,2] [,3] [,4] [,5]\n",
              "[1,]    1    0    0    0    0\n",
              "[2,]    0    1    0    0    0\n",
              "[3,]    0    0    1    0    0\n",
              "[4,]    0    0    0    1    0\n",
              "[5,]    0    0    0    0    1\n",
              "\n",
              "$a\n",
              "[1] 1 2 3 4\n"
            ],
            "text/latex": "\\begin{description}\n\\item[\\$e] A matrix: 5 × 5 of type dbl\n\\begin{tabular}{lllll}\n\t 1 & 0 & 0 & 0 & 0\\\\\n\t 0 & 1 & 0 & 0 & 0\\\\\n\t 0 & 0 & 1 & 0 & 0\\\\\n\t 0 & 0 & 0 & 1 & 0\\\\\n\t 0 & 0 & 0 & 0 & 1\\\\\n\\end{tabular}\n\n\\item[\\$a] \\begin{enumerate*}\n\\item 1\n\\item 2\n\\item 3\n\\item 4\n\\end{enumerate*}\n\n\\end{description}\n",
            "text/markdown": "$e\n:   \nA matrix: 5 × 5 of type dbl\n\n| 1 | 0 | 0 | 0 | 0 |\n| 0 | 1 | 0 | 0 | 0 |\n| 0 | 0 | 1 | 0 | 0 |\n| 0 | 0 | 0 | 1 | 0 |\n| 0 | 0 | 0 | 0 | 1 |\n\n\n$a\n:   1. 1\n2. 2\n3. 3\n4. 4\n\n\n\n\n\n",
            "text/html": [
              "<dl>\n",
              "\t<dt>$e</dt>\n",
              "\t\t<dd><table class=\"dataframe\">\n",
              "<caption>A matrix: 5 × 5 of type dbl</caption>\n",
              "<tbody>\n",
              "\t<tr><td>1</td><td>0</td><td>0</td><td>0</td><td>0</td></tr>\n",
              "\t<tr><td>0</td><td>1</td><td>0</td><td>0</td><td>0</td></tr>\n",
              "\t<tr><td>0</td><td>0</td><td>1</td><td>0</td><td>0</td></tr>\n",
              "\t<tr><td>0</td><td>0</td><td>0</td><td>1</td><td>0</td></tr>\n",
              "\t<tr><td>0</td><td>0</td><td>0</td><td>0</td><td>1</td></tr>\n",
              "</tbody>\n",
              "</table>\n",
              "</dd>\n",
              "\t<dt>$a</dt>\n",
              "\t\t<dd><style>\n",
              ".list-inline {list-style: none; margin:0; padding: 0}\n",
              ".list-inline>li {display: inline-block}\n",
              ".list-inline>li:not(:last-child)::after {content: \"\\00b7\"; padding: 0 .5ex}\n",
              "</style>\n",
              "<ol class=list-inline><li>1</li><li>2</li><li>3</li><li>4</li></ol>\n",
              "</dd>\n",
              "</dl>\n"
            ]
          },
          "metadata": {}
        }
      ]
    },
    {
      "cell_type": "code",
      "metadata": {
        "colab": {
          "base_uri": "https://localhost:8080/",
          "height": 497
        },
        "id": "gndh5qVutBhI",
        "outputId": "036fcff5-9d6e-453c-c9c9-a21614fecd90"
      },
      "source": [
        "ex_list[\"e\"]\n",
        "ex_list[[\"e\"]]\n",
        "ex_list$d\n",
        "ex_list$d(arg = 1)"
      ],
      "execution_count": 46,
      "outputs": [
        {
          "output_type": "display_data",
          "data": {
            "text/plain": [
              "$e\n",
              "     [,1] [,2] [,3] [,4] [,5]\n",
              "[1,]    1    0    0    0    0\n",
              "[2,]    0    1    0    0    0\n",
              "[3,]    0    0    1    0    0\n",
              "[4,]    0    0    0    1    0\n",
              "[5,]    0    0    0    0    1\n"
            ],
            "text/latex": "\\textbf{\\$e} = A matrix: 5 × 5 of type dbl\n\\begin{tabular}{lllll}\n\t 1 & 0 & 0 & 0 & 0\\\\\n\t 0 & 1 & 0 & 0 & 0\\\\\n\t 0 & 0 & 1 & 0 & 0\\\\\n\t 0 & 0 & 0 & 1 & 0\\\\\n\t 0 & 0 & 0 & 0 & 1\\\\\n\\end{tabular}\n",
            "text/markdown": "**$e** = \nA matrix: 5 × 5 of type dbl\n\n| 1 | 0 | 0 | 0 | 0 |\n| 0 | 1 | 0 | 0 | 0 |\n| 0 | 0 | 1 | 0 | 0 |\n| 0 | 0 | 0 | 1 | 0 |\n| 0 | 0 | 0 | 0 | 1 |\n\n",
            "text/html": [
              "<strong>$e</strong> = <table class=\"dataframe\">\n",
              "<caption>A matrix: 5 × 5 of type dbl</caption>\n",
              "<tbody>\n",
              "\t<tr><td>1</td><td>0</td><td>0</td><td>0</td><td>0</td></tr>\n",
              "\t<tr><td>0</td><td>1</td><td>0</td><td>0</td><td>0</td></tr>\n",
              "\t<tr><td>0</td><td>0</td><td>1</td><td>0</td><td>0</td></tr>\n",
              "\t<tr><td>0</td><td>0</td><td>0</td><td>1</td><td>0</td></tr>\n",
              "\t<tr><td>0</td><td>0</td><td>0</td><td>0</td><td>1</td></tr>\n",
              "</tbody>\n",
              "</table>\n"
            ]
          },
          "metadata": {}
        },
        {
          "output_type": "display_data",
          "data": {
            "text/plain": [
              "     [,1] [,2] [,3] [,4] [,5]\n",
              "[1,] 1    0    0    0    0   \n",
              "[2,] 0    1    0    0    0   \n",
              "[3,] 0    0    1    0    0   \n",
              "[4,] 0    0    0    1    0   \n",
              "[5,] 0    0    0    0    1   "
            ],
            "text/latex": "A matrix: 5 × 5 of type dbl\n\\begin{tabular}{lllll}\n\t 1 & 0 & 0 & 0 & 0\\\\\n\t 0 & 1 & 0 & 0 & 0\\\\\n\t 0 & 0 & 1 & 0 & 0\\\\\n\t 0 & 0 & 0 & 1 & 0\\\\\n\t 0 & 0 & 0 & 0 & 1\\\\\n\\end{tabular}\n",
            "text/markdown": "\nA matrix: 5 × 5 of type dbl\n\n| 1 | 0 | 0 | 0 | 0 |\n| 0 | 1 | 0 | 0 | 0 |\n| 0 | 0 | 1 | 0 | 0 |\n| 0 | 0 | 0 | 1 | 0 |\n| 0 | 0 | 0 | 0 | 1 |\n\n",
            "text/html": [
              "<table class=\"dataframe\">\n",
              "<caption>A matrix: 5 × 5 of type dbl</caption>\n",
              "<tbody>\n",
              "\t<tr><td>1</td><td>0</td><td>0</td><td>0</td><td>0</td></tr>\n",
              "\t<tr><td>0</td><td>1</td><td>0</td><td>0</td><td>0</td></tr>\n",
              "\t<tr><td>0</td><td>0</td><td>1</td><td>0</td><td>0</td></tr>\n",
              "\t<tr><td>0</td><td>0</td><td>0</td><td>1</td><td>0</td></tr>\n",
              "\t<tr><td>0</td><td>0</td><td>0</td><td>0</td><td>1</td></tr>\n",
              "</tbody>\n",
              "</table>\n"
            ]
          },
          "metadata": {}
        },
        {
          "output_type": "display_data",
          "data": {
            "text/plain": [
              "function(arg = 42) {print(\"Hello World!\")}"
            ],
            "text/latex": "\\begin{minted}{r}\nfunction (arg = 42) \n\\{\n    print(\"Hello World!\")\n\\}\n\\end{minted}",
            "text/markdown": "```r\nfunction (arg = 42) \n{\n    print(\"Hello World!\")\n}\n```",
            "text/html": [
              "<pre class=language-r><code>function (arg = 42) \n",
              "{\n",
              "<span style=white-space:pre-wrap>    print(\"Hello World!\")</span>\n",
              "}</code></pre>"
            ]
          },
          "metadata": {}
        },
        {
          "output_type": "stream",
          "name": "stdout",
          "text": [
            "[1] \"Hello World!\"\n"
          ]
        }
      ]
    },
    {
      "cell_type": "markdown",
      "metadata": {
        "id": "jilmSqEOtBhJ"
      },
      "source": [
        "# Data Frames"
      ]
    },
    {
      "cell_type": "code",
      "metadata": {
        "colab": {
          "base_uri": "https://localhost:8080/",
          "height": 543
        },
        "id": "VV50RmhktBhJ",
        "outputId": "4669ebb5-8bc3-4bef-e61d-dd61cd2c9df3"
      },
      "source": [
        "example_data = data.frame(  x = c(1, 3, 5, 7, 9, 1, 3, 5, 7, 9),\n",
        "                            y = c(rep(\"Hello\", 9), \"Goodbye\"),\n",
        "                            z = rep(c(TRUE, FALSE), 5)\n",
        "                         )\n",
        "example_data\n",
        "\n",
        "all.equal(length(example_data$x),length(example_data$y),length(example_data$z))\n",
        "str(example_data)\n",
        "\n",
        "nrow(example_data)\n",
        "## [1] 10\n",
        "ncol(example_data)\n",
        "## [1] 3\n",
        "dim(example_data)"
      ],
      "execution_count": 47,
      "outputs": [
        {
          "output_type": "display_data",
          "data": {
            "text/plain": [
              "   x y       z    \n",
              "1  1 Hello    TRUE\n",
              "2  3 Hello   FALSE\n",
              "3  5 Hello    TRUE\n",
              "4  7 Hello   FALSE\n",
              "5  9 Hello    TRUE\n",
              "6  1 Hello   FALSE\n",
              "7  3 Hello    TRUE\n",
              "8  5 Hello   FALSE\n",
              "9  7 Hello    TRUE\n",
              "10 9 Goodbye FALSE"
            ],
            "text/latex": "A data.frame: 10 × 3\n\\begin{tabular}{lll}\n x & y & z\\\\\n <dbl> & <chr> & <lgl>\\\\\n\\hline\n\t 1 & Hello   &  TRUE\\\\\n\t 3 & Hello   & FALSE\\\\\n\t 5 & Hello   &  TRUE\\\\\n\t 7 & Hello   & FALSE\\\\\n\t 9 & Hello   &  TRUE\\\\\n\t 1 & Hello   & FALSE\\\\\n\t 3 & Hello   &  TRUE\\\\\n\t 5 & Hello   & FALSE\\\\\n\t 7 & Hello   &  TRUE\\\\\n\t 9 & Goodbye & FALSE\\\\\n\\end{tabular}\n",
            "text/markdown": "\nA data.frame: 10 × 3\n\n| x &lt;dbl&gt; | y &lt;chr&gt; | z &lt;lgl&gt; |\n|---|---|---|\n| 1 | Hello   |  TRUE |\n| 3 | Hello   | FALSE |\n| 5 | Hello   |  TRUE |\n| 7 | Hello   | FALSE |\n| 9 | Hello   |  TRUE |\n| 1 | Hello   | FALSE |\n| 3 | Hello   |  TRUE |\n| 5 | Hello   | FALSE |\n| 7 | Hello   |  TRUE |\n| 9 | Goodbye | FALSE |\n\n",
            "text/html": [
              "<table class=\"dataframe\">\n",
              "<caption>A data.frame: 10 × 3</caption>\n",
              "<thead>\n",
              "\t<tr><th scope=col>x</th><th scope=col>y</th><th scope=col>z</th></tr>\n",
              "\t<tr><th scope=col>&lt;dbl&gt;</th><th scope=col>&lt;chr&gt;</th><th scope=col>&lt;lgl&gt;</th></tr>\n",
              "</thead>\n",
              "<tbody>\n",
              "\t<tr><td>1</td><td>Hello  </td><td> TRUE</td></tr>\n",
              "\t<tr><td>3</td><td>Hello  </td><td>FALSE</td></tr>\n",
              "\t<tr><td>5</td><td>Hello  </td><td> TRUE</td></tr>\n",
              "\t<tr><td>7</td><td>Hello  </td><td>FALSE</td></tr>\n",
              "\t<tr><td>9</td><td>Hello  </td><td> TRUE</td></tr>\n",
              "\t<tr><td>1</td><td>Hello  </td><td>FALSE</td></tr>\n",
              "\t<tr><td>3</td><td>Hello  </td><td> TRUE</td></tr>\n",
              "\t<tr><td>5</td><td>Hello  </td><td>FALSE</td></tr>\n",
              "\t<tr><td>7</td><td>Hello  </td><td> TRUE</td></tr>\n",
              "\t<tr><td>9</td><td>Goodbye</td><td>FALSE</td></tr>\n",
              "</tbody>\n",
              "</table>\n"
            ]
          },
          "metadata": {}
        },
        {
          "output_type": "display_data",
          "data": {
            "text/plain": [
              "[1] TRUE"
            ],
            "text/latex": "TRUE",
            "text/markdown": "TRUE",
            "text/html": [
              "TRUE"
            ]
          },
          "metadata": {}
        },
        {
          "output_type": "stream",
          "name": "stdout",
          "text": [
            "'data.frame':\t10 obs. of  3 variables:\n",
            " $ x: num  1 3 5 7 9 1 3 5 7 9\n",
            " $ y: chr  \"Hello\" \"Hello\" \"Hello\" \"Hello\" ...\n",
            " $ z: logi  TRUE FALSE TRUE FALSE TRUE FALSE ...\n"
          ]
        },
        {
          "output_type": "display_data",
          "data": {
            "text/plain": [
              "[1] 10"
            ],
            "text/latex": "10",
            "text/markdown": "10",
            "text/html": [
              "10"
            ]
          },
          "metadata": {}
        },
        {
          "output_type": "display_data",
          "data": {
            "text/plain": [
              "[1] 3"
            ],
            "text/latex": "3",
            "text/markdown": "3",
            "text/html": [
              "3"
            ]
          },
          "metadata": {}
        },
        {
          "output_type": "display_data",
          "data": {
            "text/plain": [
              "[1] 10  3"
            ],
            "text/latex": "\\begin{enumerate*}\n\\item 10\n\\item 3\n\\end{enumerate*}\n",
            "text/markdown": "1. 10\n2. 3\n\n\n",
            "text/html": [
              "<style>\n",
              ".list-inline {list-style: none; margin:0; padding: 0}\n",
              ".list-inline>li {display: inline-block}\n",
              ".list-inline>li:not(:last-child)::after {content: \"\\00b7\"; padding: 0 .5ex}\n",
              "</style>\n",
              "<ol class=list-inline><li>10</li><li>3</li></ol>\n"
            ]
          },
          "metadata": {}
        }
      ]
    },
    {
      "cell_type": "code",
      "metadata": {
        "colab": {
          "base_uri": "https://localhost:8080/",
          "height": 407
        },
        "id": "zIcEIKQAtBhJ",
        "outputId": "f53b461b-6834-4a92-c52c-f1c3d6dd2750"
      },
      "source": [
        "library(tibble)\n",
        "example_data = as_tibble(example_data)\n",
        "example_data"
      ],
      "execution_count": 48,
      "outputs": [
        {
          "output_type": "display_data",
          "data": {
            "text/plain": [
              "   x y       z    \n",
              "1  1 Hello    TRUE\n",
              "2  3 Hello   FALSE\n",
              "3  5 Hello    TRUE\n",
              "4  7 Hello   FALSE\n",
              "5  9 Hello    TRUE\n",
              "6  1 Hello   FALSE\n",
              "7  3 Hello    TRUE\n",
              "8  5 Hello   FALSE\n",
              "9  7 Hello    TRUE\n",
              "10 9 Goodbye FALSE"
            ],
            "text/latex": "A tibble: 10 × 3\n\\begin{tabular}{lll}\n x & y & z\\\\\n <dbl> & <chr> & <lgl>\\\\\n\\hline\n\t 1 & Hello   &  TRUE\\\\\n\t 3 & Hello   & FALSE\\\\\n\t 5 & Hello   &  TRUE\\\\\n\t 7 & Hello   & FALSE\\\\\n\t 9 & Hello   &  TRUE\\\\\n\t 1 & Hello   & FALSE\\\\\n\t 3 & Hello   &  TRUE\\\\\n\t 5 & Hello   & FALSE\\\\\n\t 7 & Hello   &  TRUE\\\\\n\t 9 & Goodbye & FALSE\\\\\n\\end{tabular}\n",
            "text/markdown": "\nA tibble: 10 × 3\n\n| x &lt;dbl&gt; | y &lt;chr&gt; | z &lt;lgl&gt; |\n|---|---|---|\n| 1 | Hello   |  TRUE |\n| 3 | Hello   | FALSE |\n| 5 | Hello   |  TRUE |\n| 7 | Hello   | FALSE |\n| 9 | Hello   |  TRUE |\n| 1 | Hello   | FALSE |\n| 3 | Hello   |  TRUE |\n| 5 | Hello   | FALSE |\n| 7 | Hello   |  TRUE |\n| 9 | Goodbye | FALSE |\n\n",
            "text/html": [
              "<table class=\"dataframe\">\n",
              "<caption>A tibble: 10 × 3</caption>\n",
              "<thead>\n",
              "\t<tr><th scope=col>x</th><th scope=col>y</th><th scope=col>z</th></tr>\n",
              "\t<tr><th scope=col>&lt;dbl&gt;</th><th scope=col>&lt;chr&gt;</th><th scope=col>&lt;lgl&gt;</th></tr>\n",
              "</thead>\n",
              "<tbody>\n",
              "\t<tr><td>1</td><td>Hello  </td><td> TRUE</td></tr>\n",
              "\t<tr><td>3</td><td>Hello  </td><td>FALSE</td></tr>\n",
              "\t<tr><td>5</td><td>Hello  </td><td> TRUE</td></tr>\n",
              "\t<tr><td>7</td><td>Hello  </td><td>FALSE</td></tr>\n",
              "\t<tr><td>9</td><td>Hello  </td><td> TRUE</td></tr>\n",
              "\t<tr><td>1</td><td>Hello  </td><td>FALSE</td></tr>\n",
              "\t<tr><td>3</td><td>Hello  </td><td> TRUE</td></tr>\n",
              "\t<tr><td>5</td><td>Hello  </td><td>FALSE</td></tr>\n",
              "\t<tr><td>7</td><td>Hello  </td><td> TRUE</td></tr>\n",
              "\t<tr><td>9</td><td>Goodbye</td><td>FALSE</td></tr>\n",
              "</tbody>\n",
              "</table>\n"
            ]
          },
          "metadata": {}
        }
      ]
    },
    {
      "cell_type": "code",
      "metadata": {
        "colab": {
          "base_uri": "https://localhost:8080/",
          "height": 1000
        },
        "id": "haMIa2FhtBhJ",
        "outputId": "d9ffde44-48ce-4803-9348-ddd492cbaab4"
      },
      "source": [
        "library(readr)\n",
        "example_data_from_csv = read_csv(\"data/example-data.csv\")"
      ],
      "execution_count": 50,
      "outputs": [
        {
          "output_type": "error",
          "ename": "ERROR",
          "evalue": "ignored",
          "traceback": [
            "Error: 'data/example-data.csv' does not exist in current working directory ('/content').\nTraceback:\n",
            "1. read_csv(\"data/example-data.csv\")",
            "2. vroom::vroom(file, delim = \",\", col_names = col_names, col_types = col_types, \n .     col_select = {\n .         {\n .             col_select\n .         }\n .     }, id = id, .name_repair = name_repair, skip = skip, n_max = n_max, \n .     na = na, quote = quote, comment = comment, skip_empty_rows = skip_empty_rows, \n .     trim_ws = trim_ws, escape_double = TRUE, escape_backslash = FALSE, \n .     locale = locale, guess_max = guess_max, show_col_types = show_col_types, \n .     progress = progress, altrep = lazy, num_threads = num_threads)",
            "3. vroom_(file, delim = delim %||% col_types$delim, col_names = col_names, \n .     col_types = col_types, id = id, skip = skip, col_select = col_select, \n .     name_repair = .name_repair, na = na, quote = quote, trim_ws = trim_ws, \n .     escape_double = escape_double, escape_backslash = escape_backslash, \n .     comment = comment, skip_empty_rows = skip_empty_rows, locale = locale, \n .     guess_max = guess_max, n_max = n_max, altrep = vroom_altrep(altrep), \n .     num_threads = num_threads, progress = progress)",
            "4. (function (path, write = FALSE) \n . {\n .     if (is.raw(path)) {\n .         return(rawConnection(path, \"rb\"))\n .     }\n .     if (!is.character(path)) {\n .         return(path)\n .     }\n .     if (is_url(path)) {\n .         if (requireNamespace(\"curl\", quietly = TRUE)) {\n .             con <- curl::curl(path)\n .         }\n .         else {\n .             rlang::inform(\"`curl` package not installed, falling back to using `url()`\")\n .             con <- url(path)\n .         }\n .         ext <- tolower(tools::file_ext(path))\n .         return(switch(ext, zip = , bz2 = , xz = {\n .             close(con)\n .             stop(\"Reading from remote `\", ext, \"` compressed files is not supported,\\n\", \n .                 \"  download the files locally first.\", call. = FALSE)\n .         }, gz = gzcon(con), con))\n .     }\n .     p <- split_path_ext(basename(path))\n .     if (write) {\n .         path <- normalizePath(path, mustWork = FALSE)\n .     }\n .     else {\n .         path <- check_path(path)\n .     }\n .     if (rlang::is_installed(\"archive\")) {\n .         formats <- archive_formats(p$extension)\n .         extension <- p$extension\n .         while (is.null(formats) && nzchar(extension)) {\n .             extension <- split_path_ext(extension)$extension\n .             formats <- archive_formats(extension)\n .         }\n .         if (!is.null(formats)) {\n .             p$extension <- extension\n .             if (write) {\n .                 if (is.null(formats[[1]])) {\n .                   return(archive::file_write(path, filter = formats[[2]]))\n .                 }\n .                 return(archive::archive_write(path, p$path, format = formats[[1]], \n .                   filter = formats[[2]]))\n .             }\n .             if (is.null(formats[[1]])) {\n .                 return(archive::file_read(path, filter = formats[[2]]))\n .             }\n .             return(archive::archive_read(path, format = formats[[1]], \n .                 filter = formats[[2]]))\n .         }\n .     }\n .     if (!write) {\n .         compression <- detect_compression(path)\n .     }\n .     else {\n .         compression <- NA\n .     }\n .     if (is.na(compression)) {\n .         compression <- tools::file_ext(path)\n .     }\n .     if (write && compression == \"zip\") {\n .         stop(\"Can only read from, not write to, .zip\", call. = FALSE)\n .     }\n .     switch(compression, gz = gzfile(path, \"\"), bz2 = bzfile(path, \n .         \"\"), xz = xzfile(path, \"\"), zip = zipfile(path, \"\"), \n .         if (!has_trailing_newline(path)) {\n .             file(path)\n .         } else {\n .             path\n .         })\n . })(\"data/example-data.csv\")",
            "5. check_path(path)",
            "6. stop(\"'\", path, \"' does not exist\", if (!is_absolute_path(path)) {\n .     paste0(\" in current working directory ('\", getwd(), \"')\")\n . }, \".\", call. = FALSE)"
          ]
        }
      ]
    },
    {
      "cell_type": "code",
      "metadata": {
        "colab": {
          "base_uri": "https://localhost:8080/",
          "height": 159
        },
        "id": "gqYWi1FAtBhK",
        "outputId": "3f052a18-0d54-4e05-f788-36b6bc530ddd"
      },
      "source": [
        "library(ggplot2) #Inside the ggplot2 package is a dataset called mpg.\n",
        "#When using data from inside a package, there are three things we would generally like to do:\n",
        "#• Look at the raw data.\n",
        "#• Understand the data. (Where did it come from? What are the variables? Etc.)\n",
        "#• Visualize the data.\n",
        "\n",
        "\n",
        "#To look at the data, we have two useful commands: head() and str().\n",
        "head(mpg, n = 2)#The function head() will display the first n observations of the data frame."
      ],
      "execution_count": 51,
      "outputs": [
        {
          "output_type": "display_data",
          "data": {
            "text/plain": [
              "  manufacturer model displ year cyl trans      drv cty hwy fl class  \n",
              "1 audi         a4    1.8   1999 4   auto(l5)   f   18  29  p  compact\n",
              "2 audi         a4    1.8   1999 4   manual(m5) f   21  29  p  compact"
            ],
            "text/latex": "A tibble: 2 × 11\n\\begin{tabular}{lllllllllll}\n manufacturer & model & displ & year & cyl & trans & drv & cty & hwy & fl & class\\\\\n <chr> & <chr> & <dbl> & <int> & <int> & <chr> & <chr> & <int> & <int> & <chr> & <chr>\\\\\n\\hline\n\t audi & a4 & 1.8 & 1999 & 4 & auto(l5)   & f & 18 & 29 & p & compact\\\\\n\t audi & a4 & 1.8 & 1999 & 4 & manual(m5) & f & 21 & 29 & p & compact\\\\\n\\end{tabular}\n",
            "text/markdown": "\nA tibble: 2 × 11\n\n| manufacturer &lt;chr&gt; | model &lt;chr&gt; | displ &lt;dbl&gt; | year &lt;int&gt; | cyl &lt;int&gt; | trans &lt;chr&gt; | drv &lt;chr&gt; | cty &lt;int&gt; | hwy &lt;int&gt; | fl &lt;chr&gt; | class &lt;chr&gt; |\n|---|---|---|---|---|---|---|---|---|---|---|\n| audi | a4 | 1.8 | 1999 | 4 | auto(l5)   | f | 18 | 29 | p | compact |\n| audi | a4 | 1.8 | 1999 | 4 | manual(m5) | f | 21 | 29 | p | compact |\n\n",
            "text/html": [
              "<table class=\"dataframe\">\n",
              "<caption>A tibble: 2 × 11</caption>\n",
              "<thead>\n",
              "\t<tr><th scope=col>manufacturer</th><th scope=col>model</th><th scope=col>displ</th><th scope=col>year</th><th scope=col>cyl</th><th scope=col>trans</th><th scope=col>drv</th><th scope=col>cty</th><th scope=col>hwy</th><th scope=col>fl</th><th scope=col>class</th></tr>\n",
              "\t<tr><th scope=col>&lt;chr&gt;</th><th scope=col>&lt;chr&gt;</th><th scope=col>&lt;dbl&gt;</th><th scope=col>&lt;int&gt;</th><th scope=col>&lt;int&gt;</th><th scope=col>&lt;chr&gt;</th><th scope=col>&lt;chr&gt;</th><th scope=col>&lt;int&gt;</th><th scope=col>&lt;int&gt;</th><th scope=col>&lt;chr&gt;</th><th scope=col>&lt;chr&gt;</th></tr>\n",
              "</thead>\n",
              "<tbody>\n",
              "\t<tr><td>audi</td><td>a4</td><td>1.8</td><td>1999</td><td>4</td><td>auto(l5)  </td><td>f</td><td>18</td><td>29</td><td>p</td><td>compact</td></tr>\n",
              "\t<tr><td>audi</td><td>a4</td><td>1.8</td><td>1999</td><td>4</td><td>manual(m5)</td><td>f</td><td>21</td><td>29</td><td>p</td><td>compact</td></tr>\n",
              "</tbody>\n",
              "</table>\n"
            ]
          },
          "metadata": {}
        }
      ]
    },
    {
      "cell_type": "code",
      "metadata": {
        "colab": {
          "base_uri": "https://localhost:8080/"
        },
        "id": "PYgfZUI4tBhK",
        "outputId": "48df2ff9-0f35-4686-9baf-7b733fa87e91"
      },
      "source": [
        "#The function str() will display the “structure” of the data frame. \n",
        "#It will display the number of observations and variables, list the variables, \n",
        "#give the type of each variable, and show some elements of each variable.\n",
        "\n",
        "str(mpg)"
      ],
      "execution_count": 52,
      "outputs": [
        {
          "output_type": "stream",
          "name": "stdout",
          "text": [
            "tibble [234 × 11] (S3: tbl_df/tbl/data.frame)\n",
            " $ manufacturer: chr [1:234] \"audi\" \"audi\" \"audi\" \"audi\" ...\n",
            " $ model       : chr [1:234] \"a4\" \"a4\" \"a4\" \"a4\" ...\n",
            " $ displ       : num [1:234] 1.8 1.8 2 2 2.8 2.8 3.1 1.8 1.8 2 ...\n",
            " $ year        : int [1:234] 1999 1999 2008 2008 1999 1999 2008 1999 1999 2008 ...\n",
            " $ cyl         : int [1:234] 4 4 4 4 6 6 6 4 4 4 ...\n",
            " $ trans       : chr [1:234] \"auto(l5)\" \"manual(m5)\" \"manual(m6)\" \"auto(av)\" ...\n",
            " $ drv         : chr [1:234] \"f\" \"f\" \"f\" \"f\" ...\n",
            " $ cty         : int [1:234] 18 21 20 21 16 18 18 18 16 20 ...\n",
            " $ hwy         : int [1:234] 29 29 31 30 26 26 27 26 25 28 ...\n",
            " $ fl          : chr [1:234] \"p\" \"p\" \"p\" \"p\" ...\n",
            " $ class       : chr [1:234] \"compact\" \"compact\" \"compact\" \"compact\" ...\n"
          ]
        }
      ]
    },
    {
      "cell_type": "markdown",
      "metadata": {
        "id": "TKN6iWo5tBhK"
      },
      "source": [
        "# It is important to note that while matrices have rows and columns, data frames (tibbles) instead have observations and variables."
      ]
    },
    {
      "cell_type": "code",
      "metadata": {
        "colab": {
          "base_uri": "https://localhost:8080/",
          "height": 221
        },
        "id": "3TzvdY7YtBhK",
        "outputId": "12539d17-e43b-4333-8a43-b84e06fcb278"
      },
      "source": [
        "names(mpg)\n",
        "dim(mpg)\n",
        "## [1] 234 11\n",
        "nrow(mpg)\n",
        "## [1] 234\n",
        "ncol(mpg)\n",
        "\n",
        "mpg$year"
      ],
      "execution_count": 53,
      "outputs": [
        {
          "output_type": "display_data",
          "data": {
            "text/plain": [
              " [1] \"manufacturer\" \"model\"        \"displ\"        \"year\"         \"cyl\"         \n",
              " [6] \"trans\"        \"drv\"          \"cty\"          \"hwy\"          \"fl\"          \n",
              "[11] \"class\"       "
            ],
            "text/latex": "\\begin{enumerate*}\n\\item 'manufacturer'\n\\item 'model'\n\\item 'displ'\n\\item 'year'\n\\item 'cyl'\n\\item 'trans'\n\\item 'drv'\n\\item 'cty'\n\\item 'hwy'\n\\item 'fl'\n\\item 'class'\n\\end{enumerate*}\n",
            "text/markdown": "1. 'manufacturer'\n2. 'model'\n3. 'displ'\n4. 'year'\n5. 'cyl'\n6. 'trans'\n7. 'drv'\n8. 'cty'\n9. 'hwy'\n10. 'fl'\n11. 'class'\n\n\n",
            "text/html": [
              "<style>\n",
              ".list-inline {list-style: none; margin:0; padding: 0}\n",
              ".list-inline>li {display: inline-block}\n",
              ".list-inline>li:not(:last-child)::after {content: \"\\00b7\"; padding: 0 .5ex}\n",
              "</style>\n",
              "<ol class=list-inline><li>'manufacturer'</li><li>'model'</li><li>'displ'</li><li>'year'</li><li>'cyl'</li><li>'trans'</li><li>'drv'</li><li>'cty'</li><li>'hwy'</li><li>'fl'</li><li>'class'</li></ol>\n"
            ]
          },
          "metadata": {}
        },
        {
          "output_type": "display_data",
          "data": {
            "text/plain": [
              "[1] 234  11"
            ],
            "text/latex": "\\begin{enumerate*}\n\\item 234\n\\item 11\n\\end{enumerate*}\n",
            "text/markdown": "1. 234\n2. 11\n\n\n",
            "text/html": [
              "<style>\n",
              ".list-inline {list-style: none; margin:0; padding: 0}\n",
              ".list-inline>li {display: inline-block}\n",
              ".list-inline>li:not(:last-child)::after {content: \"\\00b7\"; padding: 0 .5ex}\n",
              "</style>\n",
              "<ol class=list-inline><li>234</li><li>11</li></ol>\n"
            ]
          },
          "metadata": {}
        },
        {
          "output_type": "display_data",
          "data": {
            "text/plain": [
              "[1] 234"
            ],
            "text/latex": "234",
            "text/markdown": "234",
            "text/html": [
              "234"
            ]
          },
          "metadata": {}
        },
        {
          "output_type": "display_data",
          "data": {
            "text/plain": [
              "[1] 11"
            ],
            "text/latex": "11",
            "text/markdown": "11",
            "text/html": [
              "11"
            ]
          },
          "metadata": {}
        },
        {
          "output_type": "display_data",
          "data": {
            "text/plain": [
              "  [1] 1999 1999 2008 2008 1999 1999 2008 1999 1999 2008 2008 1999 1999 2008 2008\n",
              " [16] 1999 2008 2008 2008 2008 2008 1999 2008 1999 1999 2008 2008 2008 2008 2008\n",
              " [31] 1999 1999 1999 2008 1999 2008 2008 1999 1999 1999 1999 2008 2008 2008 1999\n",
              " [46] 1999 2008 2008 2008 2008 1999 1999 2008 2008 2008 1999 1999 1999 2008 2008\n",
              " [61] 2008 1999 2008 1999 2008 2008 2008 2008 2008 2008 1999 1999 2008 1999 1999\n",
              " [76] 1999 2008 1999 1999 1999 2008 2008 1999 1999 1999 1999 1999 2008 1999 2008\n",
              " [91] 1999 1999 2008 2008 1999 1999 2008 2008 2008 1999 1999 1999 1999 1999 2008\n",
              "[106] 2008 2008 2008 1999 1999 2008 2008 1999 1999 2008 1999 1999 2008 2008 2008\n",
              "[121] 2008 2008 2008 2008 1999 1999 2008 2008 2008 2008 1999 2008 2008 1999 1999\n",
              "[136] 1999 2008 1999 2008 2008 1999 1999 1999 2008 2008 2008 2008 1999 1999 2008\n",
              "[151] 1999 1999 2008 2008 1999 1999 1999 2008 2008 1999 1999 2008 2008 2008 2008\n",
              "[166] 1999 1999 1999 1999 2008 2008 2008 2008 1999 1999 1999 1999 2008 2008 1999\n",
              "[181] 1999 2008 2008 1999 1999 2008 1999 1999 2008 2008 1999 1999 2008 1999 1999\n",
              "[196] 1999 2008 2008 1999 2008 1999 1999 2008 1999 1999 2008 2008 1999 1999 2008\n",
              "[211] 2008 1999 1999 1999 1999 2008 2008 2008 2008 1999 1999 1999 1999 1999 1999\n",
              "[226] 2008 2008 1999 1999 2008 2008 1999 1999 2008"
            ],
            "text/latex": "\\begin{enumerate*}\n\\item 1999\n\\item 1999\n\\item 2008\n\\item 2008\n\\item 1999\n\\item 1999\n\\item 2008\n\\item 1999\n\\item 1999\n\\item 2008\n\\item 2008\n\\item 1999\n\\item 1999\n\\item 2008\n\\item 2008\n\\item 1999\n\\item 2008\n\\item 2008\n\\item 2008\n\\item 2008\n\\item 2008\n\\item 1999\n\\item 2008\n\\item 1999\n\\item 1999\n\\item 2008\n\\item 2008\n\\item 2008\n\\item 2008\n\\item 2008\n\\item 1999\n\\item 1999\n\\item 1999\n\\item 2008\n\\item 1999\n\\item 2008\n\\item 2008\n\\item 1999\n\\item 1999\n\\item 1999\n\\item 1999\n\\item 2008\n\\item 2008\n\\item 2008\n\\item 1999\n\\item 1999\n\\item 2008\n\\item 2008\n\\item 2008\n\\item 2008\n\\item 1999\n\\item 1999\n\\item 2008\n\\item 2008\n\\item 2008\n\\item 1999\n\\item 1999\n\\item 1999\n\\item 2008\n\\item 2008\n\\item 2008\n\\item 1999\n\\item 2008\n\\item 1999\n\\item 2008\n\\item 2008\n\\item 2008\n\\item 2008\n\\item 2008\n\\item 2008\n\\item 1999\n\\item 1999\n\\item 2008\n\\item 1999\n\\item 1999\n\\item 1999\n\\item 2008\n\\item 1999\n\\item 1999\n\\item 1999\n\\item 2008\n\\item 2008\n\\item 1999\n\\item 1999\n\\item 1999\n\\item 1999\n\\item 1999\n\\item 2008\n\\item 1999\n\\item 2008\n\\item 1999\n\\item 1999\n\\item 2008\n\\item 2008\n\\item 1999\n\\item 1999\n\\item 2008\n\\item 2008\n\\item 2008\n\\item 1999\n\\item 1999\n\\item 1999\n\\item 1999\n\\item 1999\n\\item 2008\n\\item 2008\n\\item 2008\n\\item 2008\n\\item 1999\n\\item 1999\n\\item 2008\n\\item 2008\n\\item 1999\n\\item 1999\n\\item 2008\n\\item 1999\n\\item 1999\n\\item 2008\n\\item 2008\n\\item 2008\n\\item 2008\n\\item 2008\n\\item 2008\n\\item 2008\n\\item 1999\n\\item 1999\n\\item 2008\n\\item 2008\n\\item 2008\n\\item 2008\n\\item 1999\n\\item 2008\n\\item 2008\n\\item 1999\n\\item 1999\n\\item 1999\n\\item 2008\n\\item 1999\n\\item 2008\n\\item 2008\n\\item 1999\n\\item 1999\n\\item 1999\n\\item 2008\n\\item 2008\n\\item 2008\n\\item 2008\n\\item 1999\n\\item 1999\n\\item 2008\n\\item 1999\n\\item 1999\n\\item 2008\n\\item 2008\n\\item 1999\n\\item 1999\n\\item 1999\n\\item 2008\n\\item 2008\n\\item 1999\n\\item 1999\n\\item 2008\n\\item 2008\n\\item 2008\n\\item 2008\n\\item 1999\n\\item 1999\n\\item 1999\n\\item 1999\n\\item 2008\n\\item 2008\n\\item 2008\n\\item 2008\n\\item 1999\n\\item 1999\n\\item 1999\n\\item 1999\n\\item 2008\n\\item 2008\n\\item 1999\n\\item 1999\n\\item 2008\n\\item 2008\n\\item 1999\n\\item 1999\n\\item 2008\n\\item 1999\n\\item 1999\n\\item 2008\n\\item 2008\n\\item 1999\n\\item 1999\n\\item 2008\n\\item 1999\n\\item 1999\n\\item 1999\n\\item 2008\n\\item 2008\n\\item 1999\n\\item 2008\n\\item 1999\n\\item 1999\n\\item 2008\n\\item 1999\n\\item 1999\n\\item 2008\n\\item 2008\n\\item 1999\n\\item 1999\n\\item 2008\n\\item 2008\n\\item 1999\n\\item 1999\n\\item 1999\n\\item 1999\n\\item 2008\n\\item 2008\n\\item 2008\n\\item 2008\n\\item 1999\n\\item 1999\n\\item 1999\n\\item 1999\n\\item 1999\n\\item 1999\n\\item 2008\n\\item 2008\n\\item 1999\n\\item 1999\n\\item 2008\n\\item 2008\n\\item 1999\n\\item 1999\n\\item 2008\n\\end{enumerate*}\n",
            "text/markdown": "1. 1999\n2. 1999\n3. 2008\n4. 2008\n5. 1999\n6. 1999\n7. 2008\n8. 1999\n9. 1999\n10. 2008\n11. 2008\n12. 1999\n13. 1999\n14. 2008\n15. 2008\n16. 1999\n17. 2008\n18. 2008\n19. 2008\n20. 2008\n21. 2008\n22. 1999\n23. 2008\n24. 1999\n25. 1999\n26. 2008\n27. 2008\n28. 2008\n29. 2008\n30. 2008\n31. 1999\n32. 1999\n33. 1999\n34. 2008\n35. 1999\n36. 2008\n37. 2008\n38. 1999\n39. 1999\n40. 1999\n41. 1999\n42. 2008\n43. 2008\n44. 2008\n45. 1999\n46. 1999\n47. 2008\n48. 2008\n49. 2008\n50. 2008\n51. 1999\n52. 1999\n53. 2008\n54. 2008\n55. 2008\n56. 1999\n57. 1999\n58. 1999\n59. 2008\n60. 2008\n61. 2008\n62. 1999\n63. 2008\n64. 1999\n65. 2008\n66. 2008\n67. 2008\n68. 2008\n69. 2008\n70. 2008\n71. 1999\n72. 1999\n73. 2008\n74. 1999\n75. 1999\n76. 1999\n77. 2008\n78. 1999\n79. 1999\n80. 1999\n81. 2008\n82. 2008\n83. 1999\n84. 1999\n85. 1999\n86. 1999\n87. 1999\n88. 2008\n89. 1999\n90. 2008\n91. 1999\n92. 1999\n93. 2008\n94. 2008\n95. 1999\n96. 1999\n97. 2008\n98. 2008\n99. 2008\n100. 1999\n101. 1999\n102. 1999\n103. 1999\n104. 1999\n105. 2008\n106. 2008\n107. 2008\n108. 2008\n109. 1999\n110. 1999\n111. 2008\n112. 2008\n113. 1999\n114. 1999\n115. 2008\n116. 1999\n117. 1999\n118. 2008\n119. 2008\n120. 2008\n121. 2008\n122. 2008\n123. 2008\n124. 2008\n125. 1999\n126. 1999\n127. 2008\n128. 2008\n129. 2008\n130. 2008\n131. 1999\n132. 2008\n133. 2008\n134. 1999\n135. 1999\n136. 1999\n137. 2008\n138. 1999\n139. 2008\n140. 2008\n141. 1999\n142. 1999\n143. 1999\n144. 2008\n145. 2008\n146. 2008\n147. 2008\n148. 1999\n149. 1999\n150. 2008\n151. 1999\n152. 1999\n153. 2008\n154. 2008\n155. 1999\n156. 1999\n157. 1999\n158. 2008\n159. 2008\n160. 1999\n161. 1999\n162. 2008\n163. 2008\n164. 2008\n165. 2008\n166. 1999\n167. 1999\n168. 1999\n169. 1999\n170. 2008\n171. 2008\n172. 2008\n173. 2008\n174. 1999\n175. 1999\n176. 1999\n177. 1999\n178. 2008\n179. 2008\n180. 1999\n181. 1999\n182. 2008\n183. 2008\n184. 1999\n185. 1999\n186. 2008\n187. 1999\n188. 1999\n189. 2008\n190. 2008\n191. 1999\n192. 1999\n193. 2008\n194. 1999\n195. 1999\n196. 1999\n197. 2008\n198. 2008\n199. 1999\n200. 2008\n201. 1999\n202. 1999\n203. 2008\n204. 1999\n205. 1999\n206. 2008\n207. 2008\n208. 1999\n209. 1999\n210. 2008\n211. 2008\n212. 1999\n213. 1999\n214. 1999\n215. 1999\n216. 2008\n217. 2008\n218. 2008\n219. 2008\n220. 1999\n221. 1999\n222. 1999\n223. 1999\n224. 1999\n225. 1999\n226. 2008\n227. 2008\n228. 1999\n229. 1999\n230. 2008\n231. 2008\n232. 1999\n233. 1999\n234. 2008\n\n\n",
            "text/html": [
              "<style>\n",
              ".list-inline {list-style: none; margin:0; padding: 0}\n",
              ".list-inline>li {display: inline-block}\n",
              ".list-inline>li:not(:last-child)::after {content: \"\\00b7\"; padding: 0 .5ex}\n",
              "</style>\n",
              "<ol class=list-inline><li>1999</li><li>1999</li><li>2008</li><li>2008</li><li>1999</li><li>1999</li><li>2008</li><li>1999</li><li>1999</li><li>2008</li><li>2008</li><li>1999</li><li>1999</li><li>2008</li><li>2008</li><li>1999</li><li>2008</li><li>2008</li><li>2008</li><li>2008</li><li>2008</li><li>1999</li><li>2008</li><li>1999</li><li>1999</li><li>2008</li><li>2008</li><li>2008</li><li>2008</li><li>2008</li><li>1999</li><li>1999</li><li>1999</li><li>2008</li><li>1999</li><li>2008</li><li>2008</li><li>1999</li><li>1999</li><li>1999</li><li>1999</li><li>2008</li><li>2008</li><li>2008</li><li>1999</li><li>1999</li><li>2008</li><li>2008</li><li>2008</li><li>2008</li><li>1999</li><li>1999</li><li>2008</li><li>2008</li><li>2008</li><li>1999</li><li>1999</li><li>1999</li><li>2008</li><li>2008</li><li>2008</li><li>1999</li><li>2008</li><li>1999</li><li>2008</li><li>2008</li><li>2008</li><li>2008</li><li>2008</li><li>2008</li><li>1999</li><li>1999</li><li>2008</li><li>1999</li><li>1999</li><li>1999</li><li>2008</li><li>1999</li><li>1999</li><li>1999</li><li>2008</li><li>2008</li><li>1999</li><li>1999</li><li>1999</li><li>1999</li><li>1999</li><li>2008</li><li>1999</li><li>2008</li><li>1999</li><li>1999</li><li>2008</li><li>2008</li><li>1999</li><li>1999</li><li>2008</li><li>2008</li><li>2008</li><li>1999</li><li>1999</li><li>1999</li><li>1999</li><li>1999</li><li>2008</li><li>2008</li><li>2008</li><li>2008</li><li>1999</li><li>1999</li><li>2008</li><li>2008</li><li>1999</li><li>1999</li><li>2008</li><li>1999</li><li>1999</li><li>2008</li><li>2008</li><li>2008</li><li>2008</li><li>2008</li><li>2008</li><li>2008</li><li>1999</li><li>1999</li><li>2008</li><li>2008</li><li>2008</li><li>2008</li><li>1999</li><li>2008</li><li>2008</li><li>1999</li><li>1999</li><li>1999</li><li>2008</li><li>1999</li><li>2008</li><li>2008</li><li>1999</li><li>1999</li><li>1999</li><li>2008</li><li>2008</li><li>2008</li><li>2008</li><li>1999</li><li>1999</li><li>2008</li><li>1999</li><li>1999</li><li>2008</li><li>2008</li><li>1999</li><li>1999</li><li>1999</li><li>2008</li><li>2008</li><li>1999</li><li>1999</li><li>2008</li><li>2008</li><li>2008</li><li>2008</li><li>1999</li><li>1999</li><li>1999</li><li>1999</li><li>2008</li><li>2008</li><li>2008</li><li>2008</li><li>1999</li><li>1999</li><li>1999</li><li>1999</li><li>2008</li><li>2008</li><li>1999</li><li>1999</li><li>2008</li><li>2008</li><li>1999</li><li>1999</li><li>2008</li><li>1999</li><li>1999</li><li>2008</li><li>2008</li><li>1999</li><li>1999</li><li>2008</li><li>1999</li><li>1999</li><li>1999</li><li>2008</li><li>2008</li><li>1999</li><li>2008</li><li>1999</li><li>1999</li><li>2008</li><li>1999</li><li>1999</li><li>2008</li><li>2008</li><li>1999</li><li>1999</li><li>2008</li><li>2008</li><li>1999</li><li>1999</li><li>1999</li><li>1999</li><li>2008</li><li>2008</li><li>2008</li><li>2008</li><li>1999</li><li>1999</li><li>1999</li><li>1999</li><li>1999</li><li>1999</li><li>2008</li><li>2008</li><li>1999</li><li>1999</li><li>2008</li><li>2008</li><li>1999</li><li>1999</li><li>2008</li></ol>\n"
            ]
          },
          "metadata": {}
        }
      ]
    },
    {
      "cell_type": "code",
      "metadata": {
        "colab": {
          "base_uri": "https://localhost:8080/",
          "height": 283
        },
        "id": "ugoIZDjjtBhL",
        "outputId": "44f56d0e-8038-47ca-823a-7f8587f6d488"
      },
      "source": [
        "#Here, we find fuel efficient vehicles earning over 35 miles per gallon and only display manufacturer, model and year.\n",
        "mpg[mpg$hwy > 35, c(\"manufacturer\", \"model\", \"year\")]"
      ],
      "execution_count": 54,
      "outputs": [
        {
          "output_type": "display_data",
          "data": {
            "text/plain": [
              "  manufacturer model      year\n",
              "1 honda        civic      2008\n",
              "2 honda        civic      2008\n",
              "3 toyota       corolla    2008\n",
              "4 volkswagen   jetta      1999\n",
              "5 volkswagen   new beetle 1999\n",
              "6 volkswagen   new beetle 1999"
            ],
            "text/latex": "A tibble: 6 × 3\n\\begin{tabular}{lll}\n manufacturer & model & year\\\\\n <chr> & <chr> & <int>\\\\\n\\hline\n\t honda      & civic      & 2008\\\\\n\t honda      & civic      & 2008\\\\\n\t toyota     & corolla    & 2008\\\\\n\t volkswagen & jetta      & 1999\\\\\n\t volkswagen & new beetle & 1999\\\\\n\t volkswagen & new beetle & 1999\\\\\n\\end{tabular}\n",
            "text/markdown": "\nA tibble: 6 × 3\n\n| manufacturer &lt;chr&gt; | model &lt;chr&gt; | year &lt;int&gt; |\n|---|---|---|\n| honda      | civic      | 2008 |\n| honda      | civic      | 2008 |\n| toyota     | corolla    | 2008 |\n| volkswagen | jetta      | 1999 |\n| volkswagen | new beetle | 1999 |\n| volkswagen | new beetle | 1999 |\n\n",
            "text/html": [
              "<table class=\"dataframe\">\n",
              "<caption>A tibble: 6 × 3</caption>\n",
              "<thead>\n",
              "\t<tr><th scope=col>manufacturer</th><th scope=col>model</th><th scope=col>year</th></tr>\n",
              "\t<tr><th scope=col>&lt;chr&gt;</th><th scope=col>&lt;chr&gt;</th><th scope=col>&lt;int&gt;</th></tr>\n",
              "</thead>\n",
              "<tbody>\n",
              "\t<tr><td>honda     </td><td>civic     </td><td>2008</td></tr>\n",
              "\t<tr><td>honda     </td><td>civic     </td><td>2008</td></tr>\n",
              "\t<tr><td>toyota    </td><td>corolla   </td><td>2008</td></tr>\n",
              "\t<tr><td>volkswagen</td><td>jetta     </td><td>1999</td></tr>\n",
              "\t<tr><td>volkswagen</td><td>new beetle</td><td>1999</td></tr>\n",
              "\t<tr><td>volkswagen</td><td>new beetle</td><td>1999</td></tr>\n",
              "</tbody>\n",
              "</table>\n"
            ]
          },
          "metadata": {}
        }
      ]
    },
    {
      "cell_type": "markdown",
      "metadata": {
        "id": "Qj8CahwPtBhL"
      },
      "source": [
        "# Programming Basics\n",
        "3.3.1 Control Flow\n",
        "if (...) \n",
        "{\n",
        "some R code\n",
        "} \n",
        "else \n",
        "{\n",
        "more R code\n",
        "}"
      ]
    },
    {
      "cell_type": "code",
      "metadata": {
        "colab": {
          "base_uri": "https://localhost:8080/"
        },
        "id": "8m3fAv_ptBhL",
        "outputId": "13fec419-eebc-4231-892f-cef7978c75d1"
      },
      "source": [
        "x = 1\n",
        "y = 3\n",
        "if (x > y) {\n",
        "z = x * y\n",
        "print(\"x is larger than y\")\n",
        "} else {\n",
        "z = x + 5 * y\n",
        "print(\"x is less than or equal to y\")\n",
        "}"
      ],
      "execution_count": 55,
      "outputs": [
        {
          "output_type": "stream",
          "name": "stdout",
          "text": [
            "[1] \"x is less than or equal to y\"\n"
          ]
        }
      ]
    },
    {
      "cell_type": "code",
      "metadata": {
        "id": "NzgkWcsvtBhL"
      },
      "source": [
        "x = 11:15\n",
        "for (i in 1:5) \n",
        "{\n",
        "x[i] = x[i] * 2\n",
        "}"
      ],
      "execution_count": 56,
      "outputs": []
    },
    {
      "cell_type": "code",
      "metadata": {
        "colab": {
          "base_uri": "https://localhost:8080/",
          "height": 34
        },
        "id": "JVs3Rt3jtBhL",
        "outputId": "70dc5a7c-94c1-4323-cb8e-48957cee51db"
      },
      "source": [
        "x = 11:15\n",
        "x = x * 2\n",
        "x"
      ],
      "execution_count": 57,
      "outputs": [
        {
          "output_type": "display_data",
          "data": {
            "text/plain": [
              "[1] 22 24 26 28 30"
            ],
            "text/latex": "\\begin{enumerate*}\n\\item 22\n\\item 24\n\\item 26\n\\item 28\n\\item 30\n\\end{enumerate*}\n",
            "text/markdown": "1. 22\n2. 24\n3. 26\n4. 28\n5. 30\n\n\n",
            "text/html": [
              "<style>\n",
              ".list-inline {list-style: none; margin:0; padding: 0}\n",
              ".list-inline>li {display: inline-block}\n",
              ".list-inline>li:not(:last-child)::after {content: \"\\00b7\"; padding: 0 .5ex}\n",
              "</style>\n",
              "<ol class=list-inline><li>22</li><li>24</li><li>26</li><li>28</li><li>30</li></ol>\n"
            ]
          },
          "metadata": {}
        }
      ]
    },
    {
      "cell_type": "markdown",
      "metadata": {
        "id": "ccQc9m3otBhL"
      },
      "source": [
        "# Functions"
      ]
    },
    {
      "cell_type": "code",
      "metadata": {
        "id": "Y26gDxqAtBhM"
      },
      "source": [
        "#function_name(arg1 = 10, arg2 = 20)\n",
        "\n",
        "#In R we would write a function to do this. When writing a function, there are three thing you must do.\n",
        "#• Give the function a name. Preferably something that is short, but descriptive.\n",
        "#• Specify the arguments using function()\n",
        "#• Write the body of the function within curly braces, {}."
      ],
      "execution_count": 58,
      "outputs": []
    },
    {
      "cell_type": "code",
      "metadata": {
        "id": "5NOj4w-HtBhM"
      },
      "source": [
        "standardize = function(x) \n",
        "{\n",
        "m = mean(x)\n",
        "std = sd(x)\n",
        "result = (x - m) / std\n",
        "result\n",
        "}\n",
        "\n",
        "get_var = function(x, biased = FALSE) \n",
        "{\n",
        "n = length(x) - 1 * !biased\n",
        "(1 / n) * sum((x - mean(x)) ^ 2)\n",
        "}"
      ],
      "execution_count": 59,
      "outputs": []
    },
    {
      "cell_type": "code",
      "metadata": {
        "colab": {
          "base_uri": "https://localhost:8080/",
          "height": 85
        },
        "id": "BJzW3kPhtBhM",
        "outputId": "4a73e430-1b9d-4b32-df0e-ebf3519a6d7a"
      },
      "source": [
        "(test_sample = rnorm(n = 10, mean = 2, sd = 5))\n",
        "standardize(x = test_sample)"
      ],
      "execution_count": 60,
      "outputs": [
        {
          "output_type": "display_data",
          "data": {
            "text/plain": [
              " [1] -4.04 -6.09 -2.88 -2.92 -0.54 -2.52 11.25 -0.81  3.86 11.99"
            ],
            "text/latex": "\\begin{enumerate*}\n\\item -4.04036718992791\n\\item -6.08979335554931\n\\item -2.88146017624225\n\\item -2.91620458331193\n\\item -0.540645992505622\n\\item -2.52375430643263\n\\item 11.2461304871317\n\\item -0.813483768224645\n\\item 3.85507131800702\n\\item 11.9900569987905\n\\end{enumerate*}\n",
            "text/markdown": "1. -4.04036718992791\n2. -6.08979335554931\n3. -2.88146017624225\n4. -2.91620458331193\n5. -0.540645992505622\n6. -2.52375430643263\n7. 11.2461304871317\n8. -0.813483768224645\n9. 3.85507131800702\n10. 11.9900569987905\n\n\n",
            "text/html": [
              "<style>\n",
              ".list-inline {list-style: none; margin:0; padding: 0}\n",
              ".list-inline>li {display: inline-block}\n",
              ".list-inline>li:not(:last-child)::after {content: \"\\00b7\"; padding: 0 .5ex}\n",
              "</style>\n",
              "<ol class=list-inline><li>-4.04036718992791</li><li>-6.08979335554931</li><li>-2.88146017624225</li><li>-2.91620458331193</li><li>-0.540645992505622</li><li>-2.52375430643263</li><li>11.2461304871317</li><li>-0.813483768224645</li><li>3.85507131800702</li><li>11.9900569987905</li></ol>\n"
            ]
          },
          "metadata": {}
        },
        {
          "output_type": "display_data",
          "data": {
            "text/plain": [
              " [1] -0.76 -1.08 -0.57 -0.58 -0.20 -0.52  1.67 -0.24  0.50  1.79"
            ],
            "text/latex": "\\begin{enumerate*}\n\\item -0.756843411317712\n\\item -1.0820939914575\n\\item -0.572921109137564\n\\item -0.578435159238803\n\\item -0.201426305357247\n\\item -0.516152027320114\n\\item 1.66917335433705\n\\item -0.244726545358698\n\\item 0.496188290063529\n\\item 1.78723690478706\n\\end{enumerate*}\n",
            "text/markdown": "1. -0.756843411317712\n2. -1.0820939914575\n3. -0.572921109137564\n4. -0.578435159238803\n5. -0.201426305357247\n6. -0.516152027320114\n7. 1.66917335433705\n8. -0.244726545358698\n9. 0.496188290063529\n10. 1.78723690478706\n\n\n",
            "text/html": [
              "<style>\n",
              ".list-inline {list-style: none; margin:0; padding: 0}\n",
              ".list-inline>li {display: inline-block}\n",
              ".list-inline>li:not(:last-child)::after {content: \"\\00b7\"; padding: 0 .5ex}\n",
              "</style>\n",
              "<ol class=list-inline><li>-0.756843411317712</li><li>-1.0820939914575</li><li>-0.572921109137564</li><li>-0.578435159238803</li><li>-0.201426305357247</li><li>-0.516152027320114</li><li>1.66917335433705</li><li>-0.244726545358698</li><li>0.496188290063529</li><li>1.78723690478706</li></ol>\n"
            ]
          },
          "metadata": {}
        }
      ]
    },
    {
      "cell_type": "code",
      "metadata": {
        "colab": {
          "base_uri": "https://localhost:8080/",
          "height": 85
        },
        "id": "OSdppDvrtBhM",
        "outputId": "8eca7f4f-f23e-4503-fb0c-1f2a1c696205"
      },
      "source": [
        "get_var(test_sample)\n",
        "## [1] 31.2991\n",
        "get_var(test_sample, biased = FALSE)\n",
        "## [1] 31.2991\n",
        "var(test_sample)\n",
        "\n",
        "get_var(test_sample, biased = TRUE)"
      ],
      "execution_count": 61,
      "outputs": [
        {
          "output_type": "display_data",
          "data": {
            "text/plain": [
              "[1] 40"
            ],
            "text/latex": "39.7034634859873",
            "text/markdown": "39.7034634859873",
            "text/html": [
              "39.7034634859873"
            ]
          },
          "metadata": {}
        },
        {
          "output_type": "display_data",
          "data": {
            "text/plain": [
              "[1] 40"
            ],
            "text/latex": "39.7034634859873",
            "text/markdown": "39.7034634859873",
            "text/html": [
              "39.7034634859873"
            ]
          },
          "metadata": {}
        },
        {
          "output_type": "display_data",
          "data": {
            "text/plain": [
              "[1] 40"
            ],
            "text/latex": "39.7034634859873",
            "text/markdown": "39.7034634859873",
            "text/html": [
              "39.7034634859873"
            ]
          },
          "metadata": {}
        },
        {
          "output_type": "display_data",
          "data": {
            "text/plain": [
              "[1] 36"
            ],
            "text/latex": "35.7331171373886",
            "text/markdown": "35.7331171373886",
            "text/html": [
              "35.7331171373886"
            ]
          },
          "metadata": {}
        }
      ]
    },
    {
      "cell_type": "code",
      "metadata": {
        "id": "KIhfb81UtBhM"
      },
      "source": [
        "standardize = function(x) \n",
        "{\n",
        "(x - mean(x)) / sd(x)\n",
        "}"
      ],
      "execution_count": 63,
      "outputs": []
    },
    {
      "cell_type": "code",
      "metadata": {
        "colab": {
          "base_uri": "https://localhost:8080/",
          "height": 85
        },
        "id": "Bew5yae8tBhN",
        "outputId": "c12faf42-bbb3-403b-a730-2d9afcb558bf"
      },
      "source": [
        "power_of_num = function(num, power = 2) \n",
        "{\n",
        "num ^ power\n",
        "}\n",
        "\n",
        "\n",
        "power_of_num(10)\n",
        "## [1] 100\n",
        "power_of_num(10, 2)\n",
        "## [1] 100\n",
        "power_of_num(num = 10, power = 2)\n",
        "## [1] 100\n",
        "power_of_num(power = 2, num = 10)"
      ],
      "execution_count": 64,
      "outputs": [
        {
          "output_type": "display_data",
          "data": {
            "text/plain": [
              "[1] 100"
            ],
            "text/latex": "100",
            "text/markdown": "100",
            "text/html": [
              "100"
            ]
          },
          "metadata": {}
        },
        {
          "output_type": "display_data",
          "data": {
            "text/plain": [
              "[1] 100"
            ],
            "text/latex": "100",
            "text/markdown": "100",
            "text/html": [
              "100"
            ]
          },
          "metadata": {}
        },
        {
          "output_type": "display_data",
          "data": {
            "text/plain": [
              "[1] 100"
            ],
            "text/latex": "100",
            "text/markdown": "100",
            "text/html": [
              "100"
            ]
          },
          "metadata": {}
        },
        {
          "output_type": "display_data",
          "data": {
            "text/plain": [
              "[1] 100"
            ],
            "text/latex": "100",
            "text/markdown": "100",
            "text/html": [
              "100"
            ]
          },
          "metadata": {}
        }
      ]
    },
    {
      "cell_type": "code",
      "metadata": {
        "id": "LkwiGUn3tBhN"
      },
      "source": [
        ""
      ],
      "execution_count": null,
      "outputs": []
    }
  ]
}